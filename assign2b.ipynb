{
  "nbformat": 4,
  "nbformat_minor": 0,
  "metadata": {
    "colab": {
      "name": "assign2b.ipynb",
      "version": "0.3.2",
      "provenance": [],
      "collapsed_sections": []
    },
    "kernelspec": {
      "name": "python3",
      "display_name": "Python 3"
    }
  },
  "cells": [
    {
      "metadata": {
        "id": "o8I2pyK7m-kP",
        "colab_type": "code",
        "colab": {}
      },
      "cell_type": "code",
      "source": [
        "import cv2\n",
        "import numpy as np\n",
        "import os\n",
        "from keras import Input\n",
        "from keras import Model\n",
        "from keras.layers.normalization import BatchNormalization\n",
        "from keras.layers.convolutional import Conv2D\n",
        "from keras.layers.convolutional import MaxPooling2D\n",
        "from keras.layers.core import Dense\n",
        "from keras.layers import Flatten\n",
        "from keras.utils import plot_model\n",
        "from keras.layers.core import Activation\n",
        "from keras.layers.core import Dropout\n",
        "\n",
        "def getImageVariable(path):\n",
        "\tclassFolder=path\n",
        "\t# imagePath=\"/home/bharat/DL/assignment1/classes\"\n",
        "\timageList=[]\n",
        "\tcnt=0\n",
        "\ttempArry=np.zeros((96000,5),int)\n",
        "\n",
        "\tfor length in range(2):\n",
        "\t\tfor width in range(2):\n",
        "\t\t\tfor angle in range(12):\n",
        "\t\t\t\tfor color in range(2):\n",
        "\n",
        "\t\t\t\t\tfor variation in range(1000):\n",
        "\t\n",
        "\t\t\t\t\t\ttempArry[cnt,:]=[cnt,length,width,angle,color]\n",
        "\t\t\t\t\t\tcnt+=1\n",
        "\tnp.random.shuffle(tempArry)\n",
        "\n",
        "\t\n",
        "\tfor i in range(96000):\n",
        "\t\tstring=\"/\"+str(tempArry[i][1])+\"_\"+str(tempArry[i][2])+\"_\"+str(tempArry[i][3])+\"_\"+str(tempArry[i][4])\n",
        "\t\timgFolder=classFolder+string\n",
        "\t\timg=imgFolder+string+\"_\"+str(tempArry[i][0]%1000)+\".jpeg\"\n",
        "\t\timageList.append(cv2.imread(img))\n",
        "\n",
        "\treturn imageList,tempArry[:,1],tempArry[:,2],tempArry[:,3],tempArry[:,4]\n",
        "\n",
        "\n",
        "imagePath=\"/content/home/classes\" # jaha imagees ka folder h\n",
        "a, b, c, d, e = getImageVariable(imagePath)"
      ],
      "execution_count": 0,
      "outputs": []
    },
    {
      "metadata": {
        "id": "Ih_btSPgIaBf",
        "colab_type": "code",
        "colab": {
          "base_uri": "https://localhost:8080/",
          "height": 51
        },
        "outputId": "fbee53b4-9347-49aa-e26e-cbbea9ef5359"
      },
      "cell_type": "code",
      "source": [
        "# from keras import Input\n",
        "# from keras import Model\n",
        "# from keras.layers.normalization import BatchNormalization\n",
        "# from keras.layers.convolutional import Conv2D\n",
        "# from keras.layers.convolutional import MaxPooling2D\n",
        "# from keras.layers.core import Dense\n",
        "# from keras.layers import Flatten\n",
        "# from keras.utils import plot_model\n",
        "\n",
        "# Single input and four output(classification heads)\n",
        "# Test and train split\n",
        "# First output length wise 0-7 and 1-15\n",
        "# second output width wise 0-1 and 1-3\n",
        "# third output color wise 0-red and 1-blue\n",
        "# fourth output angle wise (0-180, diff=15) - (0-11)\n",
        "\n",
        "\n",
        "\n",
        "# remember to normalize image array by dividing 255\n",
        "# try out batch normalization before and after activation\n",
        "\n",
        "input_train = np.array(a, dtype=np.float32)\n",
        "input_train /= 255.0\n",
        "print(input_train.shape)\n",
        "# # give names to all below - output1, ...\n",
        "output1_train = np.array(b)\n",
        "output2_train = np.array(c)\n",
        "print(output2_train.shape)\n",
        "output3_train = np.array(e)\n",
        "output4_train = np.array(d)\n",
        "\n",
        "splitSz = input_train.shape[0]\n",
        "# splitSz = 60000\n",
        "endd = splitSz\n",
        "splitSz = int(0.7*splitSz)\n",
        "\n",
        "input_train, input_test = input_train[:splitSz,:], input_train[splitSz:endd,:]\n",
        "output1_train, output1_test = output1_train[:splitSz], output1_train[splitSz:endd]\n",
        "output2_train, output2_test = output2_train[:splitSz], output2_train[splitSz:endd]\n",
        "output3_train, output3_test = output3_train[:splitSz], output3_train[splitSz:endd]\n",
        "output4_train, output4_test = output4_train[:splitSz], output4_train[splitSz:endd]"
      ],
      "execution_count": 67,
      "outputs": [
        {
          "output_type": "stream",
          "text": [
            "(96000, 28, 28, 3)\n",
            "(96000,)\n"
          ],
          "name": "stdout"
        }
      ]
    },
    {
      "metadata": {
        "id": "gqjqDuraQldo",
        "colab_type": "code",
        "colab": {
          "base_uri": "https://localhost:8080/",
          "height": 1326
        },
        "outputId": "240a3e80-0ddd-4b8b-880f-f6c2a9c56709"
      },
      "cell_type": "code",
      "source": [
        "\n",
        "inp = Input(shape=(28,28,3))\n",
        "\n",
        "# Conv -> Conv -> Pool\n",
        "x = Conv2D(32, (3,3), padding=\"same\")(inp)\n",
        "x = BatchNormalization()(x)\n",
        "x = Activation(\"relu\")(x)\n",
        "x = Conv2D(32, (3,3), padding=\"same\")(x)\n",
        "x = BatchNormalization()(x)\n",
        "x = Activation(\"relu\")(x)\n",
        "x = MaxPooling2D(pool_size=(2,2))(x)\n",
        "\n",
        "\n",
        "# Conv -> Conv -> Pool\n",
        "x = Conv2D(64, (3,3), padding=\"same\")(x)\n",
        "x = BatchNormalization()(x)\n",
        "x = Activation(\"relu\")(x)\n",
        "x = Conv2D(64, (3,3), padding=\"same\")(x)\n",
        "x = BatchNormalization()(x)\n",
        "x = Activation(\"relu\")(x)\n",
        "x = MaxPooling2D(pool_size=(2,2))(x)\n",
        "x = Flatten()(x)\n",
        "\n",
        "# above is the shared layer and our x now\n",
        "# is the feature map.\n",
        "# x = (7, 7, 64)\n",
        "\n",
        "# out1 corresponds to the length clasification head\n",
        "out1 = Dense(1024)(x)\n",
        "out1 = Activation(\"relu\")(out1)\n",
        "out1 = Dropout(0.5)(out1)\n",
        "# out1 = Dense(1024)(out1)\n",
        "# out1 = Activation(\"relu\")(out1)\n",
        "# out1 = Dropout(0.3)(out1)\n",
        "out1 = Dense(1)(out1)\n",
        "out1 = Activation(\"sigmoid\", name=\"out1\")(out1)\n",
        "\n",
        "# out2 corresponds to the width clasification head\n",
        "out2 = Dense(1024)(x)\n",
        "out2 = Activation(\"relu\")(out2)\n",
        "out2 = Dropout(0.5)(out2)\n",
        "# out2 = Dense(1024)(out2)\n",
        "# out2 = Activation(\"relu\")(out2)\n",
        "# out2 = Dropout(0.5)(out2)\n",
        "out2 = Dense(1)(out2)\n",
        "out2 = Activation(\"sigmoid\", name=\"out2\")(out2)\n",
        "\n",
        "# out3 corresponds to the color clasification head\n",
        "out3 = Dense(1024)(x)\n",
        "out3 = Activation(\"relu\")(out3)\n",
        "out3 = Dropout(0.5)(out3)\n",
        "# out3 = Dense(1024)(out3)\n",
        "# out3 = Activation(\"relu\")(out3)\n",
        "# out3 = Dropout(0.5)(out3)\n",
        "out3 = Dense(1)(out3)\n",
        "out3 = Activation(\"sigmoid\", name=\"out3\")(out3)\n",
        "\n",
        "# out4 corresponds \n",
        "out4 = Dense(1024)(x)\n",
        "out4 = Activation(\"relu\")(out4)\n",
        "# out4 = Dropout(0.2)(out4)\n",
        "# out4 = Dense(1024)(out4)\n",
        "# out4 = Activation(\"relu\")(out4)\n",
        "# out4 = Dropout(0.2)(out4)\n",
        "out4 = Dense(12)(out4)\n",
        "out4 = Activation(\"softmax\", name=\"out4\")(out4)\n",
        "\n",
        "# final model with one input and four classification heads\n",
        "model = Model(inputs=[inp], outputs=[out1, out2, out3, out4])\n",
        "\n",
        "model.summary()\n",
        "plot_model(model, to_file='assign2b.png')"
      ],
      "execution_count": 68,
      "outputs": [
        {
          "output_type": "stream",
          "text": [
            "__________________________________________________________________________________________________\n",
            "Layer (type)                    Output Shape         Param #     Connected to                     \n",
            "==================================================================================================\n",
            "input_16 (InputLayer)           (None, 28, 28, 3)    0                                            \n",
            "__________________________________________________________________________________________________\n",
            "conv2d_56 (Conv2D)              (None, 28, 28, 32)   896         input_16[0][0]                   \n",
            "__________________________________________________________________________________________________\n",
            "batch_normalization_56 (BatchNo (None, 28, 28, 32)   128         conv2d_56[0][0]                  \n",
            "__________________________________________________________________________________________________\n",
            "activation_145 (Activation)     (None, 28, 28, 32)   0           batch_normalization_56[0][0]     \n",
            "__________________________________________________________________________________________________\n",
            "conv2d_57 (Conv2D)              (None, 28, 28, 32)   9248        activation_145[0][0]             \n",
            "__________________________________________________________________________________________________\n",
            "batch_normalization_57 (BatchNo (None, 28, 28, 32)   128         conv2d_57[0][0]                  \n",
            "__________________________________________________________________________________________________\n",
            "activation_146 (Activation)     (None, 28, 28, 32)   0           batch_normalization_57[0][0]     \n",
            "__________________________________________________________________________________________________\n",
            "max_pooling2d_27 (MaxPooling2D) (None, 14, 14, 32)   0           activation_146[0][0]             \n",
            "__________________________________________________________________________________________________\n",
            "conv2d_58 (Conv2D)              (None, 14, 14, 64)   18496       max_pooling2d_27[0][0]           \n",
            "__________________________________________________________________________________________________\n",
            "batch_normalization_58 (BatchNo (None, 14, 14, 64)   256         conv2d_58[0][0]                  \n",
            "__________________________________________________________________________________________________\n",
            "activation_147 (Activation)     (None, 14, 14, 64)   0           batch_normalization_58[0][0]     \n",
            "__________________________________________________________________________________________________\n",
            "conv2d_59 (Conv2D)              (None, 14, 14, 64)   36928       activation_147[0][0]             \n",
            "__________________________________________________________________________________________________\n",
            "batch_normalization_59 (BatchNo (None, 14, 14, 64)   256         conv2d_59[0][0]                  \n",
            "__________________________________________________________________________________________________\n",
            "activation_148 (Activation)     (None, 14, 14, 64)   0           batch_normalization_59[0][0]     \n",
            "__________________________________________________________________________________________________\n",
            "max_pooling2d_28 (MaxPooling2D) (None, 7, 7, 64)     0           activation_148[0][0]             \n",
            "__________________________________________________________________________________________________\n",
            "flatten_12 (Flatten)            (None, 3136)         0           max_pooling2d_28[0][0]           \n",
            "__________________________________________________________________________________________________\n",
            "dense_143 (Dense)               (None, 1024)         3212288     flatten_12[0][0]                 \n",
            "__________________________________________________________________________________________________\n",
            "dense_145 (Dense)               (None, 1024)         3212288     flatten_12[0][0]                 \n",
            "__________________________________________________________________________________________________\n",
            "dense_147 (Dense)               (None, 1024)         3212288     flatten_12[0][0]                 \n",
            "__________________________________________________________________________________________________\n",
            "activation_149 (Activation)     (None, 1024)         0           dense_143[0][0]                  \n",
            "__________________________________________________________________________________________________\n",
            "activation_150 (Activation)     (None, 1024)         0           dense_145[0][0]                  \n",
            "__________________________________________________________________________________________________\n",
            "activation_151 (Activation)     (None, 1024)         0           dense_147[0][0]                  \n",
            "__________________________________________________________________________________________________\n",
            "dense_149 (Dense)               (None, 1024)         3212288     flatten_12[0][0]                 \n",
            "__________________________________________________________________________________________________\n",
            "dropout_89 (Dropout)            (None, 1024)         0           activation_149[0][0]             \n",
            "__________________________________________________________________________________________________\n",
            "dropout_90 (Dropout)            (None, 1024)         0           activation_150[0][0]             \n",
            "__________________________________________________________________________________________________\n",
            "dropout_91 (Dropout)            (None, 1024)         0           activation_151[0][0]             \n",
            "__________________________________________________________________________________________________\n",
            "activation_152 (Activation)     (None, 1024)         0           dense_149[0][0]                  \n",
            "__________________________________________________________________________________________________\n",
            "dense_144 (Dense)               (None, 1)            1025        dropout_89[0][0]                 \n",
            "__________________________________________________________________________________________________\n",
            "dense_146 (Dense)               (None, 1)            1025        dropout_90[0][0]                 \n",
            "__________________________________________________________________________________________________\n",
            "dense_148 (Dense)               (None, 1)            1025        dropout_91[0][0]                 \n",
            "__________________________________________________________________________________________________\n",
            "dense_150 (Dense)               (None, 12)           12300       activation_152[0][0]             \n",
            "__________________________________________________________________________________________________\n",
            "out1 (Activation)               (None, 1)            0           dense_144[0][0]                  \n",
            "__________________________________________________________________________________________________\n",
            "out2 (Activation)               (None, 1)            0           dense_146[0][0]                  \n",
            "__________________________________________________________________________________________________\n",
            "out3 (Activation)               (None, 1)            0           dense_148[0][0]                  \n",
            "__________________________________________________________________________________________________\n",
            "out4 (Activation)               (None, 12)           0           dense_150[0][0]                  \n",
            "==================================================================================================\n",
            "Total params: 12,930,863\n",
            "Trainable params: 12,930,479\n",
            "Non-trainable params: 384\n",
            "__________________________________________________________________________________________________\n"
          ],
          "name": "stdout"
        }
      ]
    },
    {
      "metadata": {
        "id": "krvjYbsKIojY",
        "colab_type": "code",
        "colab": {
          "base_uri": "https://localhost:8080/",
          "height": 224
        },
        "outputId": "cb511817-7f1a-4f5c-f3c7-be20e219819a"
      },
      "cell_type": "code",
      "source": [
        "\n",
        "\n",
        "model.compile(optimizer='adam', loss={'out1': 'binary_crossentropy', 'out2': 'binary_crossentropy', 'out3': 'binary_crossentropy', 'out4': 'sparse_categorical_crossentropy'}, metrics=['accuracy'])\n",
        "model.fit([input_train], {'out1': output1_train, 'out2': output2_train, 'out3': output3_train, 'out4': output4_train}, epochs=5, batch_size=128)\n",
        "# result = model.predict(input_test)\n",
        "\n",
        "# accuracy\n",
        "# print(result.shape)\n",
        "\n"
      ],
      "execution_count": 69,
      "outputs": [
        {
          "output_type": "stream",
          "text": [
            "Epoch 1/5\n",
            "67200/67200 [==============================] - 763s 11ms/step - loss: 1.7752 - out1_loss: 0.0467 - out2_loss: 0.0776 - out3_loss: 0.0116 - out4_loss: 1.6394 - out1_acc: 0.9868 - out2_acc: 0.9803 - out3_acc: 0.9971 - out4_acc: 0.8258\n",
            "Epoch 2/5\n",
            "67200/67200 [==============================] - 753s 11ms/step - loss: 1.3875 - out1_loss: 0.0023 - out2_loss: 0.0037 - out3_loss: 0.0017 - out4_loss: 1.3798 - out1_acc: 0.9994 - out2_acc: 0.9987 - out3_acc: 0.9996 - out4_acc: 0.9061\n",
            "Epoch 3/5\n",
            "67200/67200 [==============================] - 749s 11ms/step - loss: 1.3523 - out1_loss: 0.0053 - out2_loss: 4.2969e-04 - out3_loss: 0.0019 - out4_loss: 1.3448 - out1_acc: 0.9985 - out2_acc: 0.9998 - out3_acc: 0.9997 - out4_acc: 0.9162\n",
            "Epoch 4/5\n",
            "67200/67200 [==============================] - 750s 11ms/step - loss: 1.3858 - out1_loss: 0.0072 - out2_loss: 0.0065 - out3_loss: 0.0034 - out4_loss: 1.3686 - out1_acc: 0.9985 - out2_acc: 0.9986 - out3_acc: 0.9996 - out4_acc: 0.9091\n",
            "Epoch 5/5\n",
            "67200/67200 [==============================] - 750s 11ms/step - loss: 1.3611 - out1_loss: 0.0070 - out2_loss: 0.0012 - out3_loss: 0.0018 - out4_loss: 1.3511 - out1_acc: 0.9989 - out2_acc: 0.9997 - out3_acc: 0.9998 - out4_acc: 0.9141\n"
          ],
          "name": "stdout"
        },
        {
          "output_type": "execute_result",
          "data": {
            "text/plain": [
              "<keras.callbacks.History at 0x7fee844b1278>"
            ]
          },
          "metadata": {
            "tags": []
          },
          "execution_count": 69
        }
      ]
    },
    {
      "metadata": {
        "id": "DGN1bTDtwyyr",
        "colab_type": "code",
        "colab": {
          "base_uri": "https://localhost:8080/",
          "height": 88
        },
        "outputId": "b9806c5e-cfc2-4681-8c24-25e75b2d437f"
      },
      "cell_type": "code",
      "source": [
        "print(input_test.shape)\n",
        "result = model.predict(input_test)\n",
        "score = model.evaluate(input_test, {'out1': output1_test, 'out2': output2_test, 'out3': output3_test, 'out4': output4_test})\n",
        "print(model.metrics_names)\n",
        "# print(result[3])\n"
      ],
      "execution_count": 70,
      "outputs": [
        {
          "output_type": "stream",
          "text": [
            "(28800, 28, 28, 3)\n",
            "28800/28800 [==============================] - 108s 4ms/step\n",
            "['loss', 'out1_loss', 'out2_loss', 'out3_loss', 'out4_loss', 'out1_acc', 'out2_acc', 'out3_acc', 'out4_acc']\n"
          ],
          "name": "stdout"
        }
      ]
    },
    {
      "metadata": {
        "id": "wilEZkWew2uZ",
        "colab_type": "code",
        "colab": {
          "base_uri": "https://localhost:8080/",
          "height": 54
        },
        "outputId": "2a23d639-3062-4014-83bf-7c2e93e67e97"
      },
      "cell_type": "code",
      "source": [
        "# resultSave = np.array((result))\n",
        "print(score)"
      ],
      "execution_count": 72,
      "outputs": [
        {
          "output_type": "stream",
          "text": [
            "[1.6970876247375175, 0.0892230858825964, 0.0008753855714013131, 1.2236573836964401e-07, 1.6069890294734148, 0.9849305555555555, 0.9996527777777777, 1.0, 0.8569791666666666]\n"
          ],
          "name": "stdout"
        }
      ]
    }
  ]
}