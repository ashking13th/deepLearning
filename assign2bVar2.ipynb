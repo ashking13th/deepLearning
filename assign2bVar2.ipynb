{
  "nbformat": 4,
  "nbformat_minor": 0,
  "metadata": {
    "colab": {
      "name": "assign2b.ipynb",
      "version": "0.3.2",
      "provenance": [],
      "collapsed_sections": [],
      "include_colab_link": true
    },
    "kernelspec": {
      "name": "python3",
      "display_name": "Python 3"
    }
  },
  "cells": [
    {
      "cell_type": "markdown",
      "metadata": {
        "id": "view-in-github",
        "colab_type": "text"
      },
      "source": [
        "<a href=\"https://colab.research.google.com/github/ashking13th/deepLearning/blob/master/assign2bVar2.ipynb\" target=\"_parent\"><img src=\"https://colab.research.google.com/assets/colab-badge.svg\" alt=\"Open In Colab\"/></a>"
      ]
    },
    {
      "metadata": {
        "id": "o8I2pyK7m-kP",
        "colab_type": "code",
        "colab": {}
      },
      "cell_type": "code",
      "source": [
        "import cv2\n",
        "import numpy as np\n",
        "import os\n",
        "from keras import Input\n",
        "from keras import Model\n",
        "from keras.layers.normalization import BatchNormalization\n",
        "from keras.layers.convolutional import Conv2D\n",
        "from keras.layers.convolutional import MaxPooling2D\n",
        "from keras.layers.core import Dense\n",
        "from keras.layers import Flatten\n",
        "from keras.utils import plot_model\n",
        "from keras.layers.core import Activation\n",
        "from keras.layers.core import Dropout\n",
        "\n",
        "def getImageVariable(path):\n",
        "\tclassFolder=path\n",
        "\t# imagePath=\"/home/bharat/DL/assignment1/classes\"\n",
        "\timageList=[]\n",
        "\tcnt=0\n",
        "\ttempArry=np.zeros((96000,5),int)\n",
        "\n",
        "\tfor length in range(2):\n",
        "\t\tfor width in range(2):\n",
        "\t\t\tfor angle in range(12):\n",
        "\t\t\t\tfor color in range(2):\n",
        "\n",
        "\t\t\t\t\tfor variation in range(1000):\n",
        "\t\n",
        "\t\t\t\t\t\ttempArry[cnt,:]=[cnt,length,width,angle,color]\n",
        "\t\t\t\t\t\tcnt+=1\n",
        "\tnp.random.shuffle(tempArry)\n",
        "\n",
        "\t\n",
        "\tfor i in range(96000):\n",
        "\t\tstring=\"/\"+str(tempArry[i][1])+\"_\"+str(tempArry[i][2])+\"_\"+str(tempArry[i][3])+\"_\"+str(tempArry[i][4])\n",
        "\t\timgFolder=classFolder+string\n",
        "\t\timg=imgFolder+string+\"_\"+str(tempArry[i][0]%1000)+\".jpeg\"\n",
        "\t\timageList.append(cv2.imread(img))\n",
        "\n",
        "\treturn imageList,tempArry[:,1],tempArry[:,2],tempArry[:,3],tempArry[:,4]\n",
        "\n",
        "\n",
        "imagePath=\"/content/home/classes\" # jaha imagees ka folder h\n",
        "a, b, c, d, e = getImageVariable(imagePath)"
      ],
      "execution_count": 0,
      "outputs": []
    },
    {
      "metadata": {
        "id": "Ih_btSPgIaBf",
        "colab_type": "code",
        "colab": {
          "base_uri": "https://localhost:8080/",
          "height": 51
        },
        "outputId": "70a6a040-50a4-45fb-b5b9-2c73cd3cc54d"
      },
      "cell_type": "code",
      "source": [
        "# from keras import Input\n",
        "# from keras import Model\n",
        "# from keras.layers.normalization import BatchNormalization\n",
        "# from keras.layers.convolutional import Conv2D\n",
        "# from keras.layers.convolutional import MaxPooling2D\n",
        "# from keras.layers.core import Dense\n",
        "# from keras.layers import Flatten\n",
        "# from keras.utils import plot_model\n",
        "\n",
        "# Single input and four output(classification heads)\n",
        "# Test and train split\n",
        "# First output length wise 0-7 and 1-15\n",
        "# second output width wise 0-1 and 1-3\n",
        "# third output color wise 0-red and 1-blue\n",
        "# fourth output angle wise (0-180, diff=15) - (0-11)\n",
        "\n",
        "\n",
        "\n",
        "# remember to normalize image array by dividing 255\n",
        "# try out batch normalization before and after activation\n",
        "\n",
        "input_train = np.array(a, dtype=np.float32)\n",
        "input_train /= 255.0\n",
        "print(input_train.shape)\n",
        "# # give names to all below - output1, ...\n",
        "output1_train = np.array(b)\n",
        "output2_train = np.array(c)\n",
        "print(output2_train.shape)\n",
        "output3_train = np.array(e)\n",
        "output4_train = np.array(d)\n",
        "\n",
        "splitSz = input_train.shape[0]\n",
        "splitSz = 60000\n",
        "endd = splitSz-1\n",
        "splitSz = int(0.7*splitSz)\n",
        "\n",
        "input_train, input_test = input_train[:splitSz,:], input_train[splitSz:endd,:]\n",
        "output1_train, output1_test = output1_train[:splitSz], output1_train[splitSz:endd]\n",
        "output2_train, output2_test = output2_train[:splitSz], output2_train[splitSz:endd]\n",
        "output3_train, output3_test = output3_train[:splitSz], output3_train[splitSz:endd]\n",
        "output4_train, output4_test = output4_train[:splitSz], output4_train[splitSz:endd]"
      ],
      "execution_count": 61,
      "outputs": [
        {
          "output_type": "stream",
          "text": [
            "(96000, 28, 28, 3)\n",
            "(96000,)\n"
          ],
          "name": "stdout"
        }
      ]
    },
    {
      "metadata": {
        "id": "gqjqDuraQldo",
        "colab_type": "code",
        "colab": {
          "base_uri": "https://localhost:8080/",
          "height": 1326
        },
        "outputId": "90dd5b62-c5ff-4c64-8c0d-4076d6eb4e7e"
      },
      "cell_type": "code",
      "source": [
        "\n",
        "inp = Input(shape=(28,28,3))\n",
        "\n",
        "# Conv -> Conv -> Pool\n",
        "x = Conv2D(32, (3,3), padding=\"same\")(inp)\n",
        "x = BatchNormalization()(x)\n",
        "x = Activation(\"relu\")(x)\n",
        "x = Conv2D(32, (3,3), padding=\"same\")(x)\n",
        "x = BatchNormalization()(x)\n",
        "x = Activation(\"relu\")(x)\n",
        "x = MaxPooling2D(pool_size=(2,2))(x)\n",
        "\n",
        "\n",
        "# Conv -> Conv -> Pool\n",
        "x = Conv2D(64, (3,3), padding=\"same\")(x)\n",
        "x = BatchNormalization()(x)\n",
        "x = Activation(\"relu\")(x)\n",
        "x = Conv2D(64, (3,3), padding=\"same\")(x)\n",
        "x = BatchNormalization()(x)\n",
        "x = Activation(\"relu\")(x)\n",
        "x = MaxPooling2D(pool_size=(2,2))(x)\n",
        "x = Flatten()(x)\n",
        "\n",
        "# above is the shared layer and our x now\n",
        "# is the feature map.\n",
        "# x = (7, 7, 64)\n",
        "\n",
        "# out1 corresponds to the length clasification head\n",
        "out1 = Dense(1024)(x)\n",
        "out1 = Activation(\"relu\")(out1)\n",
        "out1 = Dropout(0.5)(out1)\n",
        "# out1 = Dense(1024)(out1)\n",
        "# out1 = Activation(\"relu\")(out1)\n",
        "# out1 = Dropout(0.3)(out1)\n",
        "out1 = Dense(1)(out1)\n",
        "out1 = Activation(\"sigmoid\", name=\"out1\")(out1)\n",
        "\n",
        "# out2 corresponds to the width clasification head\n",
        "out2 = Dense(1024)(x)\n",
        "out2 = Activation(\"relu\")(out2)\n",
        "out2 = Dropout(0.5)(out2)\n",
        "# out2 = Dense(1024)(out2)\n",
        "# out2 = Activation(\"relu\")(out2)\n",
        "# out2 = Dropout(0.5)(out2)\n",
        "out2 = Dense(1)(out2)\n",
        "out2 = Activation(\"sigmoid\", name=\"out2\")(out2)\n",
        "\n",
        "# out3 corresponds to the color clasification head\n",
        "out3 = Dense(1024)(x)\n",
        "out3 = Activation(\"relu\")(out3)\n",
        "out3 = Dropout(0.5)(out3)\n",
        "# out3 = Dense(1024)(out3)\n",
        "# out3 = Activation(\"relu\")(out3)\n",
        "# out3 = Dropout(0.5)(out3)\n",
        "out3 = Dense(1)(out3)\n",
        "out3 = Activation(\"sigmoid\", name=\"out3\")(out3)\n",
        "\n",
        "# out4 corresponds \n",
        "out4 = Dense(1024)(x)\n",
        "out4 = Activation(\"relu\")(out4)\n",
        "# out4 = Dropout(0.2)(out4)\n",
        "# out4 = Dense(1024)(out4)\n",
        "# out4 = Activation(\"relu\")(out4)\n",
        "# out4 = Dropout(0.2)(out4)\n",
        "out4 = Dense(12)(out4)\n",
        "out4 = Activation(\"softmax\", name=\"out4\")(out4)\n",
        "\n",
        "# final model with one input and four classification heads\n",
        "model = Model(inputs=[inp], outputs=[out1, out2, out3, out4])\n",
        "\n",
        "model.summary()\n",
        "plot_model(model, to_file='assign2b.png')"
      ],
      "execution_count": 63,
      "outputs": [
        {
          "output_type": "stream",
          "text": [
            "__________________________________________________________________________________________________\n",
            "Layer (type)                    Output Shape         Param #     Connected to                     \n",
            "==================================================================================================\n",
            "input_15 (InputLayer)           (None, 28, 28, 3)    0                                            \n",
            "__________________________________________________________________________________________________\n",
            "conv2d_52 (Conv2D)              (None, 28, 28, 32)   896         input_15[0][0]                   \n",
            "__________________________________________________________________________________________________\n",
            "batch_normalization_52 (BatchNo (None, 28, 28, 32)   128         conv2d_52[0][0]                  \n",
            "__________________________________________________________________________________________________\n",
            "activation_137 (Activation)     (None, 28, 28, 32)   0           batch_normalization_52[0][0]     \n",
            "__________________________________________________________________________________________________\n",
            "conv2d_53 (Conv2D)              (None, 28, 28, 32)   9248        activation_137[0][0]             \n",
            "__________________________________________________________________________________________________\n",
            "batch_normalization_53 (BatchNo (None, 28, 28, 32)   128         conv2d_53[0][0]                  \n",
            "__________________________________________________________________________________________________\n",
            "activation_138 (Activation)     (None, 28, 28, 32)   0           batch_normalization_53[0][0]     \n",
            "__________________________________________________________________________________________________\n",
            "max_pooling2d_25 (MaxPooling2D) (None, 14, 14, 32)   0           activation_138[0][0]             \n",
            "__________________________________________________________________________________________________\n",
            "conv2d_54 (Conv2D)              (None, 14, 14, 64)   18496       max_pooling2d_25[0][0]           \n",
            "__________________________________________________________________________________________________\n",
            "batch_normalization_54 (BatchNo (None, 14, 14, 64)   256         conv2d_54[0][0]                  \n",
            "__________________________________________________________________________________________________\n",
            "activation_139 (Activation)     (None, 14, 14, 64)   0           batch_normalization_54[0][0]     \n",
            "__________________________________________________________________________________________________\n",
            "conv2d_55 (Conv2D)              (None, 14, 14, 64)   36928       activation_139[0][0]             \n",
            "__________________________________________________________________________________________________\n",
            "batch_normalization_55 (BatchNo (None, 14, 14, 64)   256         conv2d_55[0][0]                  \n",
            "__________________________________________________________________________________________________\n",
            "activation_140 (Activation)     (None, 14, 14, 64)   0           batch_normalization_55[0][0]     \n",
            "__________________________________________________________________________________________________\n",
            "max_pooling2d_26 (MaxPooling2D) (None, 7, 7, 64)     0           activation_140[0][0]             \n",
            "__________________________________________________________________________________________________\n",
            "flatten_11 (Flatten)            (None, 3136)         0           max_pooling2d_26[0][0]           \n",
            "__________________________________________________________________________________________________\n",
            "dense_135 (Dense)               (None, 1024)         3212288     flatten_11[0][0]                 \n",
            "__________________________________________________________________________________________________\n",
            "dense_137 (Dense)               (None, 1024)         3212288     flatten_11[0][0]                 \n",
            "__________________________________________________________________________________________________\n",
            "dense_139 (Dense)               (None, 1024)         3212288     flatten_11[0][0]                 \n",
            "__________________________________________________________________________________________________\n",
            "activation_141 (Activation)     (None, 1024)         0           dense_135[0][0]                  \n",
            "__________________________________________________________________________________________________\n",
            "activation_142 (Activation)     (None, 1024)         0           dense_137[0][0]                  \n",
            "__________________________________________________________________________________________________\n",
            "activation_143 (Activation)     (None, 1024)         0           dense_139[0][0]                  \n",
            "__________________________________________________________________________________________________\n",
            "dense_141 (Dense)               (None, 1024)         3212288     flatten_11[0][0]                 \n",
            "__________________________________________________________________________________________________\n",
            "dropout_86 (Dropout)            (None, 1024)         0           activation_141[0][0]             \n",
            "__________________________________________________________________________________________________\n",
            "dropout_87 (Dropout)            (None, 1024)         0           activation_142[0][0]             \n",
            "__________________________________________________________________________________________________\n",
            "dropout_88 (Dropout)            (None, 1024)         0           activation_143[0][0]             \n",
            "__________________________________________________________________________________________________\n",
            "activation_144 (Activation)     (None, 1024)         0           dense_141[0][0]                  \n",
            "__________________________________________________________________________________________________\n",
            "dense_136 (Dense)               (None, 1)            1025        dropout_86[0][0]                 \n",
            "__________________________________________________________________________________________________\n",
            "dense_138 (Dense)               (None, 1)            1025        dropout_87[0][0]                 \n",
            "__________________________________________________________________________________________________\n",
            "dense_140 (Dense)               (None, 1)            1025        dropout_88[0][0]                 \n",
            "__________________________________________________________________________________________________\n",
            "dense_142 (Dense)               (None, 12)           12300       activation_144[0][0]             \n",
            "__________________________________________________________________________________________________\n",
            "out1 (Activation)               (None, 1)            0           dense_136[0][0]                  \n",
            "__________________________________________________________________________________________________\n",
            "out2 (Activation)               (None, 1)            0           dense_138[0][0]                  \n",
            "__________________________________________________________________________________________________\n",
            "out3 (Activation)               (None, 1)            0           dense_140[0][0]                  \n",
            "__________________________________________________________________________________________________\n",
            "out4 (Activation)               (None, 12)           0           dense_142[0][0]                  \n",
            "==================================================================================================\n",
            "Total params: 12,930,863\n",
            "Trainable params: 12,930,479\n",
            "Non-trainable params: 384\n",
            "__________________________________________________________________________________________________\n"
          ],
          "name": "stdout"
        }
      ]
    },
    {
      "metadata": {
        "id": "krvjYbsKIojY",
        "colab_type": "code",
        "colab": {
          "base_uri": "https://localhost:8080/",
          "height": 88
        },
        "outputId": "cf5c4114-f205-4e99-f4b2-cf06f114e640"
      },
      "cell_type": "code",
      "source": [
        "\n",
        "\n",
        "model.compile(optimizer='adam', loss={'out1': 'binary_crossentropy', 'out2': 'binary_crossentropy', 'out3': 'binary_crossentropy', 'out4': 'sparse_categorical_crossentropy'}, metrics=['accuracy'])\n",
        "model.fit([input_train], {'out1': output1_train, 'out2': output2_train, 'out3': output3_train, 'out4': output4_train}, epochs=1, batch_size=64)\n",
        "# result = model.predict(input_test)\n",
        "\n",
        "# accuracy\n",
        "# print(result.shape)\n",
        "\n"
      ],
      "execution_count": 64,
      "outputs": [
        {
          "output_type": "stream",
          "text": [
            "Epoch 1/1\n",
            "42000/42000 [==============================] - 579s 14ms/step - loss: 0.6142 - out1_loss: 0.0525 - out2_loss: 0.0727 - out3_loss: 0.0252 - out4_loss: 0.4639 - out1_acc: 0.9825 - out2_acc: 0.9780 - out3_acc: 0.9958 - out4_acc: 0.8601\n"
          ],
          "name": "stdout"
        },
        {
          "output_type": "execute_result",
          "data": {
            "text/plain": [
              "<keras.callbacks.History at 0x7fee842d8c88>"
            ]
          },
          "metadata": {
            "tags": []
          },
          "execution_count": 64
        }
      ]
    },
    {
      "metadata": {
        "id": "DGN1bTDtwyyr",
        "colab_type": "code",
        "colab": {
          "base_uri": "https://localhost:8080/",
          "height": 88
        },
        "outputId": "69435fff-8f20-4a99-c910-5cc19558b4c7"
      },
      "cell_type": "code",
      "source": [
        "print(input_test.shape)\n",
        "score = model.evaluate(input_test, {'out1': output1_test, 'out2': output2_test, 'out3': output3_test, 'out4': output4_test})\n",
        "print(model.metrics_names)\n",
        "# print(result[3])\n",
        "# resultSave = np.array((result))"
      ],
      "execution_count": 65,
      "outputs": [
        {
          "output_type": "stream",
          "text": [
            "(17999, 28, 28, 3)\n",
            "17999/17999 [==============================] - 67s 4ms/step\n",
            "['loss', 'out1_loss', 'out2_loss', 'out3_loss', 'out4_loss', 'out1_acc', 'out2_acc', 'out3_acc', 'out4_acc']\n"
          ],
          "name": "stdout"
        }
      ]
    },
    {
      "metadata": {
        "id": "wilEZkWew2uZ",
        "colab_type": "code",
        "colab": {
          "base_uri": "https://localhost:8080/",
          "height": 54
        },
        "outputId": "e817abbc-9682-4a29-ea09-793e3e8c7268"
      },
      "cell_type": "code",
      "source": [
        "print(score)"
      ],
      "execution_count": 66,
      "outputs": [
        {
          "output_type": "stream",
          "text": [
            "[0.5310180673328225, 0.00103526313240619, 0.000291916039979686, 0.4347278974065296, 0.09496299197567298, 0.9994999722206789, 1.0, 0.9524418023223512, 0.9690538363275518]\n"
          ],
          "name": "stdout"
        }
      ]
    }
  ]
}