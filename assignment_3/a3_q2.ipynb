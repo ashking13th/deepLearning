{
 "cells": [
  {
   "cell_type": "markdown",
   "metadata": {},
   "source": [
    "# Pixelwise Image Segmentation\n",
    "### Motivation\n",
    "This problem will introduce you to understand pixel-wise image segmentation. The image\n",
    "segmentation problem is a core vision problem with a longstanding history of research. Historically, this problem has been studied in the unsupervised setting as a clustering problem:\n",
    "given an image, produce a pixelwise prediction that segments the image into coherent clusters\n",
    "corresponding to objects in the image. In this case, you are expected to learn about how to\n",
    "segment iris area in the given eye images.\n",
    "\n",
    "### Problem Statement\n",
    "In this problem, we are providing you Data folder for eye images and corresponding masks in\n",
    "separate Mask folder. Your task is to learn the model in such a way that it should take eye as\n",
    "input image and produce mask for iris (which is in contour shape).\n",
    "\n",
    "### Submission\n",
    "Your model will be tested on separate iris images. For testing, you have to code in such\n",
    "a way that it should provide predicted masks for the given input images. Your task is to\n",
    "write script to save predicted mask for each testing image in a predicted mask folder.\n",
    "\n"
   ]
  },
  {
   "cell_type": "code",
   "execution_count": 1,
   "metadata": {},
   "outputs": [],
   "source": [
    "# Imports\n",
    "\n",
    "import tensorflow as tf\n",
    "import numpy as np\n",
    "import cv2\n",
    "import matplotlib.pyplot as plt\n",
    "import matplotlib.image as mpimg\n",
    "from PIL import Image\n",
    "import os"
   ]
  },
  {
   "cell_type": "code",
   "execution_count": 2,
   "metadata": {},
   "outputs": [],
   "source": [
    "# Read data\n",
    "\n",
    "im_train = np.load(\"./prep_data/im_train.npy\")\n",
    "im_test = np.load(\"./prep_data/im_test.npy\")\n",
    "mask_train = np.load(\"./prep_data/mask_train.npy\")\n",
    "mask_test = np.load(\"./prep_data/mask_test.npy\")"
   ]
  },
  {
   "cell_type": "code",
   "execution_count": 3,
   "metadata": {},
   "outputs": [
    {
     "name": "stdout",
     "output_type": "stream",
     "text": [
      "[[120 132 187]\n",
      " [120 132 186]\n",
      " [121 133 185]\n",
      " ...\n",
      " [114 134 190]\n",
      " [113 134 190]\n",
      " [113 134 190]]\n"
     ]
    }
   ],
   "source": [
    "print(im_train[0][0])"
   ]
  },
  {
   "cell_type": "markdown",
   "metadata": {},
   "source": [
    "## Encoder"
   ]
  },
  {
   "cell_type": "code",
   "execution_count": null,
   "metadata": {},
   "outputs": [],
   "source": [
    "def my_encoder():\n",
    "    "
   ]
  }
 ],
 "metadata": {
  "kernelspec": {
   "display_name": "Python 3",
   "language": "python",
   "name": "python3"
  },
  "language_info": {
   "codemirror_mode": {
    "name": "ipython",
    "version": 3
   },
   "file_extension": ".py",
   "mimetype": "text/x-python",
   "name": "python",
   "nbconvert_exporter": "python",
   "pygments_lexer": "ipython3",
   "version": "3.7.1rc1"
  }
 },
 "nbformat": 4,
 "nbformat_minor": 2
}
