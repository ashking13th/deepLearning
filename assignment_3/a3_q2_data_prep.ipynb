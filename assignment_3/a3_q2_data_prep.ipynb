{
 "cells": [
  {
   "cell_type": "code",
   "execution_count": 1,
   "metadata": {},
   "outputs": [],
   "source": [
    "# Imports\n",
    "\n",
    "import tensorflow as tf\n",
    "import numpy as np\n",
    "import cv2\n",
    "import matplotlib.pyplot as plt\n",
    "import matplotlib.image as mpimg\n",
    "from PIL import Image\n",
    "import os"
   ]
  },
  {
   "cell_type": "code",
   "execution_count": 19,
   "metadata": {},
   "outputs": [
    {
     "name": "stdout",
     "output_type": "stream",
     "text": [
      "count :  500\n",
      "count :  1000\n"
     ]
    }
   ],
   "source": [
    "# Data prep\n",
    "raw_ip_folder = \"../Assignment3/Q2/\"\n",
    "\n",
    "img_pre = \"Image_original_\"\n",
    "mask_pre = \"_groundtruth_(1)_Image_\"\n",
    "\n",
    "# images\n",
    "count = 0\n",
    "im_data = []\n",
    "mask_data = []\n",
    "for root, dirs, files in os.walk(raw_ip_folder+\"Data/\"):\n",
    "    for f in files:\n",
    "        count += 1\n",
    "        if(count % 500 == 0):\n",
    "            print(\"count : \",count)\n",
    "        if(count > 1000):\n",
    "            break\n",
    "#         path = os.path.relpath(os.path.join(root, f), \".\")\n",
    "        im_path = raw_ip_folder + \"Data/\" + f\n",
    "        mask_path = raw_ip_folder + \"Mask/\" + mask_pre + f[15:]\n",
    "#         print(mask_path)\n",
    "        \n",
    "        im_data.append(cv2.imread(im_path))\n",
    "        mask_data.append(cv2.imread(mask_path))\n",
    "#         print(mask_data)"
   ]
  },
  {
   "cell_type": "code",
   "execution_count": 22,
   "metadata": {},
   "outputs": [
    {
     "name": "stdout",
     "output_type": "stream",
     "text": [
      "image data size :  1000\n",
      "image size :  (300, 400, 3)\n",
      "mask data size :  1000\n",
      "mask size :  (300, 400, 3)\n",
      "(700, 300, 400, 3)\n",
      "(300, 300, 400, 3)\n",
      "(700, 300, 400, 3)\n",
      "(300, 300, 400, 3)\n"
     ]
    }
   ],
   "source": [
    "im_data = np.array(im_data)\n",
    "mask_data = np.array(mask_data)\n",
    "\n",
    "print(\"image data size : \", im_data.shape[0])\n",
    "print(\"image size : \", im_data[0].shape)\n",
    "print(\"mask data size : \", mask_data.shape[0])\n",
    "print(\"mask size : \", mask_data[0].shape)\n",
    "\n",
    "split_size = int(im_data.shape[0]*0.7)\n",
    "\n",
    "im_data_train = im_data[:split_size]\n",
    "im_data_test = im_data[split_size:]\n",
    "mask_data_train = mask_data[:split_size]\n",
    "mask_data_test = mask_data[split_size:]\n",
    "\n",
    "print(im_data_train.shape)\n",
    "print(im_data_test.shape)\n",
    "print(mask_data_train.shape)\n",
    "print(mask_data_test.shape)\n",
    "\n",
    "# np.save(\"./prep_data/\")"
   ]
  },
  {
   "cell_type": "code",
   "execution_count": 23,
   "metadata": {},
   "outputs": [],
   "source": [
    "np.save(\"./prep_data/im_train\", im_data_train)\n",
    "np.save(\"./prep_data/im_test\", im_data_test)\n",
    "np.save(\"./prep_data/mask_train\", mask_data_train)\n",
    "np.save(\"./prep_data/mask_test\", mask_data_test)"
   ]
  },
  {
   "cell_type": "code",
   "execution_count": 26,
   "metadata": {},
   "outputs": [
    {
     "name": "stdout",
     "output_type": "stream",
     "text": [
      "(700, 300, 400, 3)\n",
      "(300, 300, 400, 3)\n",
      "(700, 300, 400, 3)\n",
      "(300, 300, 400, 3)\n"
     ]
    }
   ],
   "source": [
    "# a1 = np.load(\"./prep_data/im_train.npy\")\n",
    "# a2 = np.load(\"./prep_data/im_test.npy\")\n",
    "# b1 = np.load(\"./prep_data/mask_train.npy\")\n",
    "# b2 = np.load(\"./prep_data/mask_test.npy\")\n",
    "\n",
    "# print(a1.shape)\n",
    "# print(a2.shape)\n",
    "# print(b1.shape)\n",
    "# print(b2.shape)"
   ]
  },
  {
   "cell_type": "code",
   "execution_count": null,
   "metadata": {},
   "outputs": [],
   "source": [
    "# # masks\n",
    "# count = 0\n",
    "# mask_data = []\n",
    "# for root, dirs, files in os.walk(raw_ip_folder+\"Mask/\"):\n",
    "#     for f in files:\n",
    "#         count += 1\n",
    "#         if(count % 300 == 0):\n",
    "#             print(\"count : \",count)\n",
    "#         path = os.path.relpath(os.path.join(root, f), \".\")\n",
    "#         im_data.append(Image.open(path))\n",
    "# mask_data = np.array(im_data)\n",
    "# print(im_data.shape)"
   ]
  }
 ],
 "metadata": {
  "kernelspec": {
   "display_name": "Python 3",
   "language": "python",
   "name": "python3"
  },
  "language_info": {
   "codemirror_mode": {
    "name": "ipython",
    "version": 3
   },
   "file_extension": ".py",
   "mimetype": "text/x-python",
   "name": "python",
   "nbconvert_exporter": "python",
   "pygments_lexer": "ipython3",
   "version": "3.7.1rc1"
  }
 },
 "nbformat": 4,
 "nbformat_minor": 2
}
