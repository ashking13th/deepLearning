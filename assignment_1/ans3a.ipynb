{
 "cells": [
  {
   "cell_type": "code",
   "execution_count": 1,
   "metadata": {},
   "outputs": [],
   "source": [
    "import tensorflow as tf\n",
    "import matplotlib.pyplot as plt\n",
    "import numpy as np\n",
    "from tensorflow.examples.tutorials.mnist import input_data"
   ]
  },
  {
   "cell_type": "code",
   "execution_count": 3,
   "metadata": {},
   "outputs": [
    {
     "name": "stdout",
     "output_type": "stream",
     "text": [
      "Extracting MNIST_data/train-images-idx3-ubyte.gz\n",
      "Extracting MNIST_data/train-labels-idx1-ubyte.gz\n",
      "Extracting MNIST_data/t10k-images-idx3-ubyte.gz\n",
      "Extracting MNIST_data/t10k-labels-idx1-ubyte.gz\n"
     ]
    }
   ],
   "source": [
    "mnist = input_data.read_data_sets(\"MNIST_data/\", one_hot=True)\n",
    "val_x, val_y = mnist.test.next_batch(5000)"
   ]
  },
  {
   "cell_type": "code",
   "execution_count": 4,
   "metadata": {},
   "outputs": [],
   "source": [
    "accuracyList = []\n",
    "epochList = []"
   ]
  },
  {
   "cell_type": "code",
   "execution_count": 5,
   "metadata": {},
   "outputs": [
    {
     "name": "stdout",
     "output_type": "stream",
     "text": [
      "WARNING:tensorflow:From c:\\python37\\lib\\site-packages\\tensorflow\\python\\framework\\op_def_library.py:263: colocate_with (from tensorflow.python.framework.ops) is deprecated and will be removed in a future version.\n",
      "Instructions for updating:\n",
      "Colocations handled automatically by placer.\n",
      "WARNING:tensorflow:From <ipython-input-5-5b9d8ba94153>:46: softmax_cross_entropy_with_logits (from tensorflow.python.ops.nn_ops) is deprecated and will be removed in a future version.\n",
      "Instructions for updating:\n",
      "\n",
      "Future major versions of TensorFlow will allow gradients to flow\n",
      "into the labels input on backprop by default.\n",
      "\n",
      "See `tf.nn.softmax_cross_entropy_with_logits_v2`.\n",
      "\n",
      "WARNING:tensorflow:From c:\\python37\\lib\\site-packages\\tensorflow\\python\\util\\tf_should_use.py:193: initialize_all_variables (from tensorflow.python.ops.variables) is deprecated and will be removed after 2017-03-02.\n",
      "Instructions for updating:\n",
      "Use `tf.global_variables_initializer` instead.\n",
      "Testing Accuracy: 0.0846\n",
      "Testing Accuracy: 0.0898\n",
      "Testing Accuracy: 0.1204\n",
      "Testing Accuracy: 0.1764\n",
      "Testing Accuracy: 0.2436\n",
      "Testing Accuracy: 0.3136\n",
      "Testing Accuracy: 0.3436\n",
      "Testing Accuracy: 0.3812\n",
      "Testing Accuracy: 0.4248\n",
      "Testing Accuracy: 0.4048\n",
      "Testing Accuracy: 0.3748\n",
      "Testing Accuracy: 0.3912\n",
      "Testing Accuracy: 0.391\n",
      "Testing Accuracy: 0.4418\n",
      "Testing Accuracy: 0.4482\n",
      "Testing Accuracy: 0.4914\n",
      "Testing Accuracy: 0.5108\n",
      "Testing Accuracy: 0.5436\n",
      "Testing Accuracy: 0.5928\n",
      "Testing Accuracy: 0.5914\n",
      "Testing Accuracy: 0.6578\n",
      "Testing Accuracy: 0.6054\n",
      "Testing Accuracy: 0.6816\n",
      "Testing Accuracy: 0.69\n",
      "Testing Accuracy: 0.7062\n",
      "Testing Accuracy: 0.7174\n",
      "Testing Accuracy: 0.7264\n",
      "Testing Accuracy: 0.7834\n",
      "Testing Accuracy: 0.7828\n",
      "Testing Accuracy: 0.7776\n",
      "Testing Accuracy: 0.7866\n",
      "Testing Accuracy: 0.8042\n",
      "Testing Accuracy: 0.8202\n",
      "Testing Accuracy: 0.8298\n",
      "Testing Accuracy: 0.8356\n",
      "Testing Accuracy: 0.8354\n",
      "Testing Accuracy: 0.8456\n",
      "Testing Accuracy: 0.8456\n",
      "Testing Accuracy: 0.8538\n",
      "Testing Accuracy: 0.8612\n",
      "Testing Accuracy: 0.8704\n",
      "Testing Accuracy: 0.8772\n",
      "Testing Accuracy: 0.8808\n",
      "Testing Accuracy: 0.879\n",
      "Testing Accuracy: 0.8772\n",
      "Testing Accuracy: 0.8772\n",
      "Testing Accuracy: 0.8868\n",
      "Testing Accuracy: 0.8826\n",
      "Testing Accuracy: 0.8842\n",
      "Testing Accuracy: 0.886\n",
      "Testing Accuracy: 0.897\n",
      "Testing Accuracy: 0.8998\n",
      "Testing Accuracy: 0.8946\n",
      "Testing Accuracy: 0.9108\n"
     ]
    }
   ],
   "source": [
    "\n",
    "# splitting the data into train, val,test\n",
    "seed = 128\n",
    "rng = np.random.RandomState(seed)\n",
    "\n",
    "def one_hot_encoding(numClasses):\n",
    "    # producing one hot encoding\n",
    "    pass\n",
    "\n",
    "def preproc():\n",
    "    # converting values to 0-1\n",
    "    pass\n",
    "    \n",
    "def batchForm():\n",
    "    # form the batch of given batch size\n",
    "    pass\n",
    "\n",
    "input_num_units = 784\n",
    "hidden_num_units = 20\n",
    "output_num_units = 10\n",
    "\n",
    "# define placeholders, i.e. way to feed values to computational graph\n",
    "x = tf.placeholder(tf.float32, [None, input_num_units])\n",
    "y = tf.placeholder(tf.float32, [None, output_num_units])\n",
    "\n",
    "# set remaining parameters\n",
    "epochs = 100\n",
    "# batch_size = 128\n",
    "learning_rate = 0.01\n",
    "\n",
    "weights = {\n",
    "    'hidden': tf.Variable(tf.random_normal([input_num_units, hidden_num_units], seed=seed)),\n",
    "    'output': tf.Variable(tf.random_normal([hidden_num_units, output_num_units], seed=seed))\n",
    "}\n",
    "\n",
    "biases = {\n",
    "    'hidden': tf.Variable(tf.random_normal([hidden_num_units], seed=seed)),\n",
    "    'output': tf.Variable(tf.random_normal([output_num_units], seed=seed))\n",
    "}\n",
    "\n",
    "hidden_layer = tf.add(tf.matmul(x, weights['hidden']), biases['hidden'])\n",
    "hidden_layer = tf.nn.relu(hidden_layer)\n",
    "\n",
    "output_layer = tf.matmul(hidden_layer, weights['output']) + biases['output']\n",
    "\n",
    "cost = tf.reduce_mean(tf.nn.softmax_cross_entropy_with_logits(logits=output_layer, labels=y))\n",
    "\n",
    "optimizer = tf.train.AdamOptimizer(learning_rate=learning_rate).minimize(cost)\n",
    "\n",
    "init = tf.initialize_all_variables()\n",
    "\n",
    "for i in range(1, 55):\n",
    "    with tf.Session() as sess:\n",
    "    # create initialized variables\n",
    "        sess.run(init)        \n",
    "        for epoch in range(epochs):\n",
    "            avg_cost = 0\n",
    "            total_batch = i\n",
    "            for i in range(total_batch):\n",
    "                batch_x, batch_y = mnist.train.next_batch(200)\n",
    "                _, c = sess.run([optimizer, cost], feed_dict = {x: batch_x, y: batch_y})\n",
    "                avg_cost += c / total_batch \n",
    "\n",
    "    #         print(\"Epoch:\", (epoch+1), \"cost =\", \"{:.5f}\".format(avg_cost))\n",
    "    #         epochList.append(avg_cost)\n",
    "\n",
    "        pred_temp = tf.equal(tf.argmax(output_layer, 1), tf.argmax(y, 1))\n",
    "        accuracy = tf.reduce_mean(tf.cast(pred_temp, \"float\"))\n",
    "        ac = accuracy.eval({x: val_x.reshape(-1, 784), y: val_y})\n",
    "        print(\"Testing Accuracy:\", ac)\n",
    "        accuracyList.append(ac)"
   ]
  },
  {
   "cell_type": "code",
   "execution_count": 8,
   "metadata": {},
   "outputs": [
    {
     "data": {
      "image/png": "[encoded data removed]",
      "text/plain": [
       "<Figure size 432x288 with 1 Axes>"
      ]
     },
     "metadata": {
      "needs_background": "light"
     },
     "output_type": "display_data"
    }
   ],
   "source": [
    "def plot(values):\n",
    "    name = \"_curve.jpg\"\n",
    "    name = str(hidden_num_units)+\"_\"+str(epochs) + name\n",
    "    name = \"./graphs/\" + name\n",
    "    xVal = np.arange(len(values)) * 200\n",
    "#     print(xVal)\n",
    "#     xVal.append(32)\n",
    "#     print(xVal)\n",
    "    plt.plot(xVal, values, marker='o',markersize='4', linestyle='--')\n",
    "    plt.ylabel(\"Accuracy\")\n",
    "    plt.xlabel(\"Train Data Size\")\n",
    "    plt.title(\"Learning Curve\")\n",
    "#     plt.show()\n",
    "    plt.savefig(name)\n",
    "    \n",
    "plot(np.array(accuracyList))"
   ]
  },
  {
   "cell_type": "code",
   "execution_count": null,
   "metadata": {},
   "outputs": [],
   "source": []
  }
 ],
 "metadata": {
  "kernelspec": {
   "display_name": "Python 3",
   "language": "python",
   "name": "python3"
  },
  "language_info": {
   "codemirror_mode": {
    "name": "ipython",
    "version": 3
   },
   "file_extension": ".py",
   "mimetype": "text/x-python",
   "name": "python",
   "nbconvert_exporter": "python",
   "pygments_lexer": "ipython3",
   "version": "3.7.1rc1"
  }
 },
 "nbformat": 4,
 "nbformat_minor": 2
}
