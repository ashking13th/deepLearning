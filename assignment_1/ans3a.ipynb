{
 "cells": [
  {
   "cell_type": "code",
   "execution_count": 2,
   "metadata": {},
   "outputs": [],
   "source": [
    "import tensorflow as tf\n",
    "import matplotlib.pyplot as plt\n",
    "import numpy as np\n",
    "from tensorflow.examples.tutorials.mnist import input_data"
   ]
  },
  {
   "cell_type": "code",
   "execution_count": 4,
   "metadata": {},
   "outputs": [
    {
     "name": "stdout",
     "output_type": "stream",
     "text": [
      "Extracting MNIST_data/train-images-idx3-ubyte.gz\n",
      "Extracting MNIST_data/train-labels-idx1-ubyte.gz\n",
      "Extracting MNIST_data/t10k-images-idx3-ubyte.gz\n",
      "Extracting MNIST_data/t10k-labels-idx1-ubyte.gz\n"
     ]
    }
   ],
   "source": [
    "mnist = input_data.read_data_sets(\"MNIST_data/\", one_hot=True)\n",
    "val_x, val_y = mnist.test.next_batch(5000)"
   ]
  },
  {
   "cell_type": "code",
   "execution_count": 15,
   "metadata": {},
   "outputs": [],
   "source": [
    "accuracyList = []\n",
    "epochList = []"
   ]
  },
  {
   "cell_type": "code",
   "execution_count": 16,
   "metadata": {},
   "outputs": [
    {
     "name": "stdout",
     "output_type": "stream",
     "text": [
      "Testing Accuracy: 0.4212\n",
      "Testing Accuracy: 0.5792\n",
      "Testing Accuracy: 0.685\n",
      "Testing Accuracy: 0.7546\n",
      "Testing Accuracy: 0.8054\n",
      "Testing Accuracy: 0.828\n",
      "Testing Accuracy: 0.8458\n",
      "Testing Accuracy: 0.8588\n",
      "Testing Accuracy: 0.869\n",
      "Testing Accuracy: 0.8772\n",
      "Testing Accuracy: 0.8908\n",
      "Testing Accuracy: 0.9022\n",
      "Testing Accuracy: 0.891\n",
      "Testing Accuracy: 0.9058\n",
      "Testing Accuracy: 0.9016\n",
      "Testing Accuracy: 0.9064\n",
      "Testing Accuracy: 0.9078\n",
      "Testing Accuracy: 0.9164\n",
      "Testing Accuracy: 0.9194\n",
      "Testing Accuracy: 0.9208\n",
      "Testing Accuracy: 0.9158\n",
      "Testing Accuracy: 0.914\n",
      "Testing Accuracy: 0.9182\n",
      "Testing Accuracy: 0.9224\n",
      "Testing Accuracy: 0.9274\n",
      "Testing Accuracy: 0.9226\n",
      "Testing Accuracy: 0.9288\n",
      "Testing Accuracy: 0.92\n",
      "Testing Accuracy: 0.9282\n",
      "Testing Accuracy: 0.928\n",
      "Testing Accuracy: 0.9284\n",
      "Testing Accuracy: 0.9374\n",
      "Testing Accuracy: 0.9334\n",
      "Testing Accuracy: 0.9278\n",
      "Testing Accuracy: 0.9352\n",
      "Testing Accuracy: 0.9328\n",
      "Testing Accuracy: 0.9308\n",
      "Testing Accuracy: 0.9344\n",
      "Testing Accuracy: 0.9328\n",
      "Testing Accuracy: 0.9328\n",
      "Testing Accuracy: 0.9332\n",
      "Testing Accuracy: 0.9344\n",
      "Testing Accuracy: 0.9418\n",
      "Testing Accuracy: 0.9328\n",
      "Testing Accuracy: 0.9326\n",
      "Testing Accuracy: 0.9356\n",
      "Testing Accuracy: 0.9428\n",
      "Testing Accuracy: 0.9416\n",
      "Testing Accuracy: 0.9412\n",
      "Testing Accuracy: 0.9388\n",
      "Testing Accuracy: 0.9378\n",
      "Testing Accuracy: 0.9372\n",
      "Testing Accuracy: 0.9446\n",
      "Testing Accuracy: 0.9364\n"
     ]
    }
   ],
   "source": [
    "\n",
    "# splitting the data into train, val,test\n",
    "seed = 128\n",
    "rng = np.random.RandomState(seed)\n",
    "\n",
    "def one_hot_encoding(numClasses):\n",
    "    # producing one hot encoding\n",
    "    pass\n",
    "\n",
    "def preproc():\n",
    "    # converting values to 0-1\n",
    "    pass\n",
    "    \n",
    "def batchForm():\n",
    "    # form the batch of given batch size\n",
    "    pass\n",
    "\n",
    "input_num_units = 784\n",
    "hidden_num_units = 20\n",
    "output_num_units = 10\n",
    "\n",
    "# define placeholders, i.e. way to feed values to computational graph\n",
    "x = tf.placeholder(tf.float32, [None, input_num_units])\n",
    "y = tf.placeholder(tf.float32, [None, output_num_units])\n",
    "\n",
    "# set remaining parameters\n",
    "epochs = 100\n",
    "# batch_size = 128\n",
    "learning_rate = 0.01\n",
    "\n",
    "weights = {\n",
    "    'hidden': tf.Variable(tf.random_normal([input_num_units, hidden_num_units], seed=seed)),\n",
    "    'output': tf.Variable(tf.random_normal([hidden_num_units, output_num_units], seed=seed))\n",
    "}\n",
    "\n",
    "biases = {\n",
    "    'hidden': tf.Variable(tf.random_normal([hidden_num_units], seed=seed)),\n",
    "    'output': tf.Variable(tf.random_normal([output_num_units], seed=seed))\n",
    "}\n",
    "\n",
    "hidden_layer = tf.add(tf.matmul(x, weights['hidden']), biases['hidden'])\n",
    "hidden_layer = tf.nn.relu(hidden_layer)\n",
    "\n",
    "output_layer = tf.matmul(hidden_layer, weights['output']) + biases['output']\n",
    "\n",
    "cost = tf.reduce_mean(tf.nn.softmax_cross_entropy_with_logits(logits=output_layer, labels=y))\n",
    "\n",
    "optimizer = tf.train.AdamOptimizer(learning_rate=learning_rate).minimize(cost)\n",
    "\n",
    "init = tf.initialize_all_variables()\n",
    "\n",
    "for xx in range(1, 55):\n",
    "    with tf.Session() as sess:\n",
    "    # create initialized variables\n",
    "        sess.run(init)        \n",
    "        for epoch in range(epochs):\n",
    "            avg_cost = 0\n",
    "            total_batch = xx\n",
    "            for i in range(total_batch):\n",
    "                batch_x, batch_y = mnist.train.next_batch(200)\n",
    "                _, c = sess.run([optimizer, cost], feed_dict = {x: batch_x, y: batch_y})\n",
    "                avg_cost += c / total_batch \n",
    "\n",
    "    #         print(\"Epoch:\", (epoch+1), \"cost =\", \"{:.5f}\".format(avg_cost))\n",
    "            if xx == 53:\n",
    "                epochList.append(avg_cost)\n",
    "\n",
    "        pred_temp = tf.equal(tf.argmax(output_layer, 1), tf.argmax(y, 1))\n",
    "        accuracy = tf.reduce_mean(tf.cast(pred_temp, \"float\"))\n",
    "        ac = accuracy.eval({x: val_x.reshape(-1, 784), y: val_y})\n",
    "        print(\"Testing Accuracy:\", ac)\n",
    "        accuracyList.append(ac)"
   ]
  },
  {
   "cell_type": "code",
   "execution_count": 22,
   "metadata": {},
   "outputs": [
    {
     "data": {
      "image/png": "[encoded data removed]",
      "text/plain": [
       "<Figure size 432x288 with 1 Axes>"
      ]
     },
     "metadata": {
      "needs_background": "light"
     },
     "output_type": "display_data"
    },
    {
     "data": {
      "image/png": "[encoded data removed]",
      "text/plain": [
       "<Figure size 432x288 with 1 Axes>"
      ]
     },
     "metadata": {
      "needs_background": "light"
     },
     "output_type": "display_data"
    }
   ],
   "source": [
    "def plot(values, nx, title, xx, yy, fx):\n",
    "    plt.figure()\n",
    "    name = nx + \"_curve.jpg\"\n",
    "    name = str(hidden_num_units)+\"_\"+str(epochs) + name\n",
    "    name = \"./graphs/\" + name\n",
    "    xVal = np.arange(len(values)) * fx\n",
    "#     print(xVal)\n",
    "#     xVal.append(32)\n",
    "#     print(xVal)\n",
    "    plt.plot(xVal, values, marker='o',markersize='4', linestyle='--')\n",
    "    plt.ylabel(yy)\n",
    "    plt.xlabel(xx)\n",
    "    plt.title(title)\n",
    "#     plt.show()\n",
    "    plt.savefig(name)\n",
    "    \n",
    "plot(np.array(accuracyList), \"\", \"Learning Curve\", \"Train Data Size\", \"Accuracy\", 1000)\n",
    "plot(np.array(epochList), \"epoch\", \"Epoch vs Loss\", \"Epochs\", \"Loss Function\" , 1)"
   ]
  },
  {
   "cell_type": "code",
   "execution_count": null,
   "metadata": {},
   "outputs": [],
   "source": []
  }
 ],
 "metadata": {
  "kernelspec": {
   "display_name": "Python 3",
   "language": "python",
   "name": "python3"
  },
  "language_info": {
   "codemirror_mode": {
    "name": "ipython",
    "version": 3
   },
   "file_extension": ".py",
   "mimetype": "text/x-python",
   "name": "python",
   "nbconvert_exporter": "python",
   "pygments_lexer": "ipython3",
   "version": "3.7.1rc1"
  }
 },
 "nbformat": 4,
 "nbformat_minor": 2
}
