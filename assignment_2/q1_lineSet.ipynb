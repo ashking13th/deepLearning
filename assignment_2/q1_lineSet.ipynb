{
 "cells": [
  {
   "cell_type": "code",
   "execution_count": 3,
   "metadata": {},
   "outputs": [],
   "source": [
    "import tensorflow as tf\n",
    "import numpy as np\n",
    "import os\n",
    "import cv2\n",
    "import matplotlib.pyplot as plt"
   ]
  },
  {
   "cell_type": "code",
   "execution_count": 4,
   "metadata": {},
   "outputs": [],
   "source": [
    "def make_data():\n",
    "    \n",
    "\timageData=[]\n",
    "\tlabels=[]\n",
    "\tdata=[]\n",
    "\tfeatures=28*28*3\n",
    "\tnoImage=96000\n",
    "\tnClass=96\n",
    "\tpath=os.getcwd()\n",
    "\tfolderpath=os.path.join(path,\"classes\")\n",
    "\tvidpath=os.path.join(path,\"vimage\")\n",
    "\n",
    "\tlabel=-1\n",
    "\tfor length in range(2):\n",
    "\t\tfor width in range(2):\n",
    "\t\t\tfor angle in range(12):\n",
    "\t\t\t\tfor color in range(2):\n",
    "\n",
    "\t\t\t\t\tstring=str(length)+\"_\"+str(width)+\"_\"+str(angle)+\"_\"+str(color)\n",
    "\t\t\t\t\tfpath=folderpath+\"/\"+string\n",
    "\n",
    "\t\t\t\t\tipath=fpath+\"/\"+str(length)+\"_\"+str(width)+\"_\"+str(angle)+\"_\"+str(color)\n",
    "\t\t\t\t\tlabel=label+1\n",
    "\n",
    "\t\t\t\t\tfor image in range(1000):\n",
    "\t\t\t\t\t\tiName=ipath+\"_\"+str(image)+\".jpeg\"\n",
    "\t\t\t\t\t\timg_data=cv2.imread(iName)\n",
    "\t\t\t\t\t\tdata.append(img_data.flatten().reshape(features))\n",
    "\t\t\t\t\t\tlabels.append(label)\n",
    "\timageData=np.array(data,float).reshape(noImage,features)\n",
    "\tlabels=np.array(labels,float).reshape(noImage,1)\n",
    "\timageData=imageData/255.0\n",
    "\tdata=np.concatenate((imageData,labels),axis=1)\n",
    "\tnp.random.shuffle(data)\n",
    "\tdata=data.reshape(noImage,features+1)\n",
    "\n",
    "\n",
    "\tipt=data[:,:-1]\n",
    "\topt=np.array(data[:,-1],int).reshape(noImage,1)\n",
    "\tb=np.zeros((noImage,nClass),int)\n",
    "\tfor i in range(noImage):\n",
    "\t\tb[i,opt[i]]=1\n",
    "\n",
    "\treturn ipt,opt"
   ]
  },
  {
   "cell_type": "code",
   "execution_count": 49,
   "metadata": {},
   "outputs": [],
   "source": [
    "x,y=make_data()"
   ]
  },
  {
   "cell_type": "code",
   "execution_count": 50,
   "metadata": {},
   "outputs": [
    {
     "name": "stdout",
     "output_type": "stream",
     "text": [
      "(96000, 2352)\n",
      "(96000, 1)\n"
     ]
    }
   ],
   "source": [
    "nx = x\n",
    "ny = y\n",
    "\n",
    "print(nx.shape)\n",
    "print(ny.shape)"
   ]
  },
  {
   "cell_type": "code",
   "execution_count": 51,
   "metadata": {},
   "outputs": [
    {
     "name": "stdout",
     "output_type": "stream",
     "text": [
      "95\n"
     ]
    }
   ],
   "source": [
    "flat_list = []\n",
    "for sublist in ny:\n",
    "    for item in sublist:\n",
    "        flat_list.append(item)\n",
    "zy = flat_list\n",
    "# print(y.shape)\n",
    "print(zy[np.argmax(zy)])"
   ]
  },
  {
   "cell_type": "code",
   "execution_count": 52,
   "metadata": {},
   "outputs": [
    {
     "name": "stdout",
     "output_type": "stream",
     "text": [
      "[78, 81, 14, 9, 10, 84, 34, 94, 45, 14, 62, 38, 77, 26, 80, 65, 6, 55, 29, 29]\n"
     ]
    }
   ],
   "source": [
    "splitSize = int(nx.shape[0]*0.7)\n",
    "nx, testData = nx[:splitSize,:], nx[splitSize:,:]\n",
    "zy, testY = zy[:splitSize], zy[splitSize:]\n",
    "print(zy[:20])"
   ]
  },
  {
   "cell_type": "code",
   "execution_count": 54,
   "metadata": {},
   "outputs": [
    {
     "name": "stdout",
     "output_type": "stream",
     "text": [
      "(67200, 2352)\n",
      "(67200, 28, 28, 3)\n",
      "(67200,)\n"
     ]
    }
   ],
   "source": [
    "print(nx.shape)\n",
    "# print(zy.shape)\n",
    "nx = nx.astype('float32')\n",
    "nx /= 255\n",
    "nx = nx.reshape(nx.shape[0], 28, 28, 3)\n",
    "print(nx.shape)\n",
    "zy = np.array(zy)\n",
    "print(zy.shape)\n",
    "\n",
    "# testData = testData.astype('float32')\n",
    "# testData /= 255\n",
    "# testData = testData.reshape(x.shape[0], 28, 28, 1)"
   ]
  },
  {
   "cell_type": "code",
   "execution_count": 55,
   "metadata": {},
   "outputs": [],
   "source": [
    "# print(y[:10])\n",
    "# y_lab = []\n",
    "# cnt = 0\n",
    "# for val in y:\n",
    "#     if cnt < 10:\n",
    "#         print(val)\n",
    "#         cnt += 1\n",
    "#     y_lab.append(np.argmax(val)+1)\n",
    "# y = np.array(y_lab)\n",
    "\n",
    "# print(y[:10])\n",
    "\n",
    "# y_lab = []\n",
    "# for val in testY:\n",
    "#     y_lab.append(np.argmax(val)+1)\n",
    "# testY = y_lab"
   ]
  },
  {
   "cell_type": "code",
   "execution_count": null,
   "metadata": {},
   "outputs": [
    {
     "name": "stdout",
     "output_type": "stream",
     "text": [
      "_________________________________________________________________\n",
      "Layer (type)                 Output Shape              Param #   \n",
      "=================================================================\n",
      "conv2d_3 (Conv2D)            (None, 28, 28, 2)         296       \n",
      "_________________________________________________________________\n",
      "max_pooling2d_3 (MaxPooling2 (None, 14, 14, 2)         0         \n",
      "_________________________________________________________________\n",
      "flatten_3 (Flatten)          (None, 392)               0         \n",
      "_________________________________________________________________\n",
      "dense_6 (Dense)              (None, 1024)              402432    \n",
      "_________________________________________________________________\n",
      "dense_7 (Dense)              (None, 96)                98400     \n",
      "=================================================================\n",
      "Total params: 501,128\n",
      "Trainable params: 501,128\n",
      "Non-trainable params: 0\n",
      "_________________________________________________________________\n",
      "62976/67200 [===========================>..] - ETA: 4s - loss: 3.2995 - acc: 0.0929"
     ]
    }
   ],
   "source": [
    "model2 = tf.keras.Sequential()\n",
    "model2.add(tf.keras.layers.Conv2D(2, (7, 7), strides=1, activation='relu', padding=\"same\", input_shape=(28, 28,3)))\n",
    "model2.add(tf.keras.layers.MaxPool2D(pool_size=(2,2), strides=2))\n",
    "# model2.add(tf.keras.layers.Conv2D(36, (7, 7), strides=1, activation='relu', padding=\"same\", input_shape=(28, 28,3)))\n",
    "# model2.add(tf.keras.layers.MaxPool2D(pool_size=(2,2), strides=2))\n",
    "# model2.add(tf.keras.layers.Conv2D(36, (7, 7), strides=1, activation='relu', padding=\"same\", input_shape=(28, 28,3)))\n",
    "# model2.add(tf.keras.layers.MaxPool2D(pool_size=(2,2), strides=2))\n",
    "# model2.add(tf.keras.layers.BatchNormalization())\n",
    "# model2.add(tf.keras.layers.MaxPool2D(pool_size=(2,2), strides=2))\n",
    "model2.add(tf.keras.layers.Flatten())\n",
    "model2.add(tf.keras.layers.Dense(1024, activation=\"relu\"))\n",
    "\n",
    "model2.add(tf.keras.layers.Dense(96, activation='softmax'))\n",
    "\n",
    "model2.compile(optimizer='adam', loss='sparse_categorical_crossentropy', metrics=['accuracy'])\n",
    "model2.summary()\n",
    "\n",
    "# print(y_train.shape)\n",
    "\n",
    "model2.fit(nx, zy, batch_size=64, epochs=1)\n",
    "\n",
    "score = model2.evaluate(testData, testY)\n",
    "# pred = model2.predict(testData)\n",
    "print('\\n', 'Test Acc = ', score[1])\n",
    "# print('\\n',\" Predictions: \", pred)"
   ]
  },
  {
   "cell_type": "code",
   "execution_count": null,
   "metadata": {},
   "outputs": [],
   "source": []
  }
 ],
 "metadata": {
  "kernelspec": {
   "display_name": "Python 3",
   "language": "python",
   "name": "python3"
  },
  "language_info": {
   "codemirror_mode": {
    "name": "ipython",
    "version": 3
   },
   "file_extension": ".py",
   "mimetype": "text/x-python",
   "name": "python",
   "nbconvert_exporter": "python",
   "pygments_lexer": "ipython3",
   "version": "3.7.1rc1"
  }
 },
 "nbformat": 4,
 "nbformat_minor": 2
}
