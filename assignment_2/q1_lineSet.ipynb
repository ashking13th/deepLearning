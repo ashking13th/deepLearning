{
 "cells": [
  {
   "cell_type": "code",
   "execution_count": 1,
   "metadata": {},
   "outputs": [],
   "source": [
    "import tensorflow as tf\n",
    "import numpy as np\n",
    "import os\n",
    "import cv2\n",
    "import matplotlib.pyplot as plt"
   ]
  },
  {
   "cell_type": "code",
   "execution_count": 24,
   "metadata": {},
   "outputs": [],
   "source": [
    "def make_data():\n",
    "    imageData=[]\n",
    "    labels=[]\n",
    "    data=[]\n",
    "    features=28*28*3\n",
    "    noImage=96000\n",
    "    nClass=96\n",
    "    path=os.getcwd()\n",
    "    folderpath=os.path.join(path,\"classes\")\n",
    "\n",
    "    label=-1\n",
    "    for length in range(2):\n",
    "        for width in range(2):\n",
    "            for angle in range(12):\n",
    "                for color in range(2):\n",
    "\n",
    "                    string=str(length)+\"_\"+str(width)+\"_\"+str(angle)+\"_\"+str(color)\n",
    "                    fpath=folderpath+\"/\"+string\n",
    "\n",
    "                    ipath=fpath+\"/\"+str(length)+\"_\"+str(width)+\"_\"+str(angle)+\"_\"+str(color)\n",
    "                    label=label+1\n",
    "                    \n",
    "                    for image in range(1000):\n",
    "                        iName=ipath+\"_\"+str(image)+\".jpeg\"\n",
    "                        img_data=cv2.imread(iName)\n",
    "                        data.append(img_data)#.reshape(features))\n",
    "                        labels.append(label)\n",
    "    \n",
    "    numbers = np.arange(96000)\n",
    "    print(numbers[-1])\n",
    "    imageData=np.array(data,float)#.reshape(noImage,features)\n",
    "    labels=np.array(labels,float).reshape(noImage,1)\n",
    "    print(\"data shape: \",imageData.shape)\n",
    "    print(\"labels shape: \",labels.shape)\n",
    "    \n",
    "    imageData=imageData/255.0\n",
    "    data=np.concatenate((imageData,labels),axis=1)\n",
    "    np.random.shuffle(data)\n",
    "    data=data.reshape(noImage,features+1)\n",
    "    \n",
    "    ipt=data[:,:-1]\n",
    "    opt=np.array(data[:,-1],int).reshape(noImage,1)\n",
    "    b=np.zeros((noImage,nClass),int)\n",
    "    for i in range(noImage):\n",
    "        b[i,opt[i]]=1\n",
    "        \n",
    "    return ipt,opt"
   ]
  },
  {
   "cell_type": "code",
   "execution_count": 23,
   "metadata": {},
   "outputs": [
    {
     "name": "stdout",
     "output_type": "stream",
     "text": [
      "[[[ 7  2  0]\n",
      "  [ 4  1  0]\n",
      "  [ 2  0  0]\n",
      "  ...\n",
      "  [ 0  0  0]\n",
      "  [ 0  0  0]\n",
      "  [ 0  0  0]]\n",
      "\n",
      " [[ 4  0  0]\n",
      "  [ 2  0  1]\n",
      "  [ 0  0  8]\n",
      "  ...\n",
      "  [ 0  0  0]\n",
      "  [ 0  0  0]\n",
      "  [ 0  0  0]]\n",
      "\n",
      " [[ 0  0  0]\n",
      "  [ 0  0  9]\n",
      "  [ 0  0 30]\n",
      "  ...\n",
      "  [ 0  0  0]\n",
      "  [ 0  0  0]\n",
      "  [ 0  0  0]]\n",
      "\n",
      " ...\n",
      "\n",
      " [[ 0  0  0]\n",
      "  [ 0  0  0]\n",
      "  [ 0  0  0]\n",
      "  ...\n",
      "  [ 0  0  0]\n",
      "  [ 0  0  0]\n",
      "  [ 0  0  0]]\n",
      "\n",
      " [[ 0  0  0]\n",
      "  [ 0  0  0]\n",
      "  [ 0  0  0]\n",
      "  ...\n",
      "  [ 0  0  0]\n",
      "  [ 0  0  0]\n",
      "  [ 0  0  0]]\n",
      "\n",
      " [[ 0  0  0]\n",
      "  [ 0  0  0]\n",
      "  [ 0  0  0]\n",
      "  ...\n",
      "  [ 0  0  0]\n",
      "  [ 0  0  0]\n",
      "  [ 0  0  0]]] 0 0 0 0\n"
     ]
    }
   ],
   "source": [
    "def getImageVariable(path):\n",
    "    classFolder=path\n",
    "#     imagePath=\"/classes\"\n",
    "    imageList=[]\n",
    "    cnt=0\n",
    "    tempArry=np.zeros((96000,5),int)\n",
    "\n",
    "    for length in range(2):\n",
    "        for width in range(2):\n",
    "            for angle in range(12):\n",
    "                for color in range(2):\n",
    "                    \n",
    "                    for variation in range(10):\n",
    "                        tempArry[cnt,:]=[cnt,length,width,angle,color]\n",
    "                        cnt+=1\n",
    "    np.random.shuffle(tempArry)\n",
    "    \n",
    "    for i in range(96000):\n",
    "        string=\"/\"+str(tempArry[i][1])+\"_\"+str(tempArry[i][2])+\"_\"+str(tempArry[i][3])+\"_\"+str(tempArry[i][4])\n",
    "        imgFolder=classFolder+string\n",
    "        img=imgFolder+string+\"_\"+str(tempArry[i][0]%1000)+\".jpeg\"\n",
    "        imageList.append(cv2.imread(img))\n",
    "        \n",
    "    return imageList,tempArry[:,1],tempArry[:,2],tempArry[:,3],tempArry[:,4]\n",
    "\n",
    "\n",
    "imagePath=\"./classes\" # jaha imagees ka folder h\n",
    "a,b,c,d,e=getImageVariable(imagePath)\n",
    "print(a[0],b[0],c[0],d[0],e[0])"
   ]
  },
  {
   "cell_type": "code",
   "execution_count": 17,
   "metadata": {},
   "outputs": [
    {
     "name": "stdout",
     "output_type": "stream",
     "text": [
      "data shape:  (96000, 28, 28, 3)\n",
      "labels shape:  (96000, 1)\n"
     ]
    },
    {
     "ename": "ValueError",
     "evalue": "all the input arrays must have same number of dimensions",
     "output_type": "error",
     "traceback": [
      "\u001b[1;31m---------------------------------------------------------------------------\u001b[0m",
      "\u001b[1;31mValueError\u001b[0m                                Traceback (most recent call last)",
      "\u001b[1;32m<ipython-input-17-8fbbd8ff5574>\u001b[0m in \u001b[0;36m<module>\u001b[1;34m\u001b[0m\n\u001b[1;32m----> 1\u001b[1;33m \u001b[0mx\u001b[0m\u001b[1;33m,\u001b[0m\u001b[0my\u001b[0m\u001b[1;33m=\u001b[0m\u001b[0mmake_data\u001b[0m\u001b[1;33m(\u001b[0m\u001b[1;33m)\u001b[0m\u001b[1;33m\u001b[0m\u001b[1;33m\u001b[0m\u001b[0m\n\u001b[0m",
      "\u001b[1;32m<ipython-input-16-e8951284cb43>\u001b[0m in \u001b[0;36mmake_data\u001b[1;34m()\u001b[0m\n\u001b[0;32m     33\u001b[0m \u001b[1;33m\u001b[0m\u001b[0m\n\u001b[0;32m     34\u001b[0m     \u001b[0mimageData\u001b[0m\u001b[1;33m=\u001b[0m\u001b[0mimageData\u001b[0m\u001b[1;33m/\u001b[0m\u001b[1;36m255.0\u001b[0m\u001b[1;33m\u001b[0m\u001b[1;33m\u001b[0m\u001b[0m\n\u001b[1;32m---> 35\u001b[1;33m     \u001b[0mdata\u001b[0m\u001b[1;33m=\u001b[0m\u001b[0mnp\u001b[0m\u001b[1;33m.\u001b[0m\u001b[0mconcatenate\u001b[0m\u001b[1;33m(\u001b[0m\u001b[1;33m(\u001b[0m\u001b[0mimageData\u001b[0m\u001b[1;33m,\u001b[0m\u001b[0mlabels\u001b[0m\u001b[1;33m)\u001b[0m\u001b[1;33m,\u001b[0m\u001b[0maxis\u001b[0m\u001b[1;33m=\u001b[0m\u001b[1;36m1\u001b[0m\u001b[1;33m)\u001b[0m\u001b[1;33m\u001b[0m\u001b[1;33m\u001b[0m\u001b[0m\n\u001b[0m\u001b[0;32m     36\u001b[0m     \u001b[0mnp\u001b[0m\u001b[1;33m.\u001b[0m\u001b[0mrandom\u001b[0m\u001b[1;33m.\u001b[0m\u001b[0mshuffle\u001b[0m\u001b[1;33m(\u001b[0m\u001b[0mdata\u001b[0m\u001b[1;33m)\u001b[0m\u001b[1;33m\u001b[0m\u001b[1;33m\u001b[0m\u001b[0m\n\u001b[0;32m     37\u001b[0m     \u001b[0mdata\u001b[0m\u001b[1;33m=\u001b[0m\u001b[0mdata\u001b[0m\u001b[1;33m.\u001b[0m\u001b[0mreshape\u001b[0m\u001b[1;33m(\u001b[0m\u001b[0mnoImage\u001b[0m\u001b[1;33m,\u001b[0m\u001b[0mfeatures\u001b[0m\u001b[1;33m+\u001b[0m\u001b[1;36m1\u001b[0m\u001b[1;33m)\u001b[0m\u001b[1;33m\u001b[0m\u001b[1;33m\u001b[0m\u001b[0m\n",
      "\u001b[1;31mValueError\u001b[0m: all the input arrays must have same number of dimensions"
     ]
    }
   ],
   "source": [
    "x,y=make_data()"
   ]
  },
  {
   "cell_type": "code",
   "execution_count": 4,
   "metadata": {},
   "outputs": [
    {
     "name": "stdout",
     "output_type": "stream",
     "text": [
      "(96000, 2352)\n",
      "(96000, 1)\n"
     ]
    }
   ],
   "source": [
    "nx = x\n",
    "ny = y\n",
    "\n",
    "print(nx.shape)\n",
    "print(ny.shape)"
   ]
  },
  {
   "cell_type": "code",
   "execution_count": 5,
   "metadata": {},
   "outputs": [
    {
     "name": "stdout",
     "output_type": "stream",
     "text": [
      "95\n"
     ]
    }
   ],
   "source": [
    "flat_list = []\n",
    "for sublist in ny:\n",
    "    for item in sublist:\n",
    "        flat_list.append(item)\n",
    "zy = flat_list\n",
    "# print(y.shape)\n",
    "print(zy[np.argmax(zy)])"
   ]
  },
  {
   "cell_type": "code",
   "execution_count": 6,
   "metadata": {},
   "outputs": [
    {
     "name": "stdout",
     "output_type": "stream",
     "text": [
      "[85, 50, 36, 42, 34, 56, 39, 42, 28, 86, 48, 28, 0, 61, 55, 82, 70, 38, 75, 71]\n"
     ]
    }
   ],
   "source": [
    "splitSize = int(nx.shape[0]*0.6)\n",
    "nx, testData = nx[:splitSize,:], nx[splitSize:,:]\n",
    "zy, testY = zy[:splitSize], zy[splitSize:]\n",
    "print(zy[:20])"
   ]
  },
  {
   "cell_type": "code",
   "execution_count": 7,
   "metadata": {},
   "outputs": [
    {
     "name": "stdout",
     "output_type": "stream",
     "text": [
      "(67200, 2352)\n",
      "(67200, 28, 28, 3)\n",
      "(67200,)\n",
      "(28800, 28, 28, 3)\n",
      "(28800,)\n"
     ]
    }
   ],
   "source": [
    "print(nx.shape)\n",
    "# print(zy.shape)\n",
    "nx = nx.astype('float32')\n",
    "# nx /= 255\n",
    "nx = nx.reshape(nx.shape[0], 28, 28, 3)\n",
    "testData = testData.reshape(testData.shape[0], 28, 28, 3)\n",
    "print(nx.shape)\n",
    "zy = np.array(zy)\n",
    "testY = np.array(testY)\n",
    "print(zy.shape)\n",
    "print(testData.shape)\n",
    "print(testY.shape)\n",
    "\n",
    "# testData = testData.astype('float32')\n",
    "# testData /= 255\n",
    "# testData = testData.reshape(x.shape[0], 28, 28, 1)"
   ]
  },
  {
   "cell_type": "code",
   "execution_count": 8,
   "metadata": {},
   "outputs": [],
   "source": [
    "# print(y[:10])\n",
    "# y_lab = []\n",
    "# cnt = 0\n",
    "# for val in y:\n",
    "#     if cnt < 10:\n",
    "#         print(val)\n",
    "#         cnt += 1\n",
    "#     y_lab.append(np.argmax(val)+1)\n",
    "# y = np.array(y_lab)\n",
    "\n",
    "# print(y[:10])\n",
    "\n",
    "# y_lab = []\n",
    "# for val in testY:\n",
    "#     y_lab.append(np.argmax(val)+1)\n",
    "# testY = y_lab"
   ]
  },
  {
   "cell_type": "code",
   "execution_count": 11,
   "metadata": {},
   "outputs": [
    {
     "name": "stdout",
     "output_type": "stream",
     "text": [
      "_________________________________________________________________\n",
      "Layer (type)                 Output Shape              Param #   \n",
      "=================================================================\n",
      "conv2d_4 (Conv2D)            (None, 28, 28, 36)        5328      \n",
      "_________________________________________________________________\n",
      "max_pooling2d_5 (MaxPooling2 (None, 14, 14, 36)        0         \n",
      "_________________________________________________________________\n",
      "batch_normalization_v1_2 (Ba (None, 14, 14, 36)        144       \n",
      "_________________________________________________________________\n",
      "conv2d_5 (Conv2D)            (None, 14, 14, 36)        63540     \n",
      "_________________________________________________________________\n",
      "max_pooling2d_6 (MaxPooling2 (None, 7, 7, 36)          0         \n",
      "_________________________________________________________________\n",
      "batch_normalization_v1_3 (Ba (None, 7, 7, 36)          144       \n",
      "_________________________________________________________________\n",
      "flatten_2 (Flatten)          (None, 1764)              0         \n",
      "_________________________________________________________________\n",
      "dense_4 (Dense)              (None, 1024)              1807360   \n",
      "_________________________________________________________________\n",
      "dense_5 (Dense)              (None, 96)                98400     \n",
      "=================================================================\n",
      "Total params: 1,974,916\n",
      "Trainable params: 1,974,772\n",
      "Non-trainable params: 144\n",
      "_________________________________________________________________\n",
      "Epoch 1/3\n",
      "67200/67200 [==============================] - 369s 5ms/sample - loss: 0.3792 - acc: 0.8863\n",
      "Epoch 2/3\n",
      "67200/67200 [==============================] - 350s 5ms/sample - loss: 0.0573 - acc: 0.9856\n",
      "Epoch 3/3\n",
      "67200/67200 [==============================] - 340s 5ms/sample - loss: 0.0625 - acc: 0.9862\n",
      "28800/28800 [==============================] - 72s 2ms/sample - loss: 14.7331 - acc: 0.0856\n",
      "\n",
      " Test Acc =  0.08559028\n"
     ]
    }
   ],
   "source": [
    "model2 = tf.keras.Sequential()\n",
    "model2.add(tf.keras.layers.Conv2D(36, (7, 7), strides=1, activation='relu', padding=\"same\", input_shape=(28, 28,3)))\n",
    "model2.add(tf.keras.layers.MaxPool2D(pool_size=(2,2), strides=2))\n",
    "model2.add(tf.keras.layers.BatchNormalization())\n",
    "# model2.add(tf.keras.layers.Conv2D(36, (7, 7), strides=1, activation='relu', padding=\"same\", input_shape=(28, 28,3)))\n",
    "# model2.add(tf.keras.layers.MaxPool2D(pool_size=(2,2), strides=2))\n",
    "model2.add(tf.keras.layers.Conv2D(36, (7, 7), strides=1, activation='relu', padding=\"same\", input_shape=(28, 28,3)))\n",
    "model2.add(tf.keras.layers.MaxPool2D(pool_size=(2,2), strides=2))\n",
    "model2.add(tf.keras.layers.BatchNormalization())\n",
    "model2.add(tf.keras.layers.Flatten())\n",
    "model2.add(tf.keras.layers.Dense(1024, activation=\"relu\"))\n",
    "\n",
    "model2.add(tf.keras.layers.Dense(96, activation='softmax'))\n",
    "\n",
    "model2.compile(optimizer='adam', loss='sparse_categorical_crossentropy', metrics=['accuracy'])\n",
    "model2.summary()\n",
    "\n",
    "# print(y_train.shape)\n",
    "\n",
    "model2.fit(nx, zy, batch_size=64, epochs=3)\n",
    "\n",
    "score = model2.evaluate(testData, testY)\n",
    "# pred = model2.predict(testData)\n",
    "print('\\n', 'Test Acc = ', score[1])\n",
    "# print('\\n',\" Predictions: \", pred)"
   ]
  },
  {
   "cell_type": "code",
   "execution_count": 13,
   "metadata": {},
   "outputs": [
    {
     "name": "stdout",
     "output_type": "stream",
     "text": [
      "_________________________________________________________________\n",
      "Layer (type)                 Output Shape              Param #   \n",
      "=================================================================\n",
      "conv2d_7 (Conv2D)            (None, 28, 28, 32)        4736      \n",
      "_________________________________________________________________\n",
      "batch_normalization_v1_5 (Ba (None, 28, 28, 32)        128       \n",
      "_________________________________________________________________\n",
      "max_pooling2d_8 (MaxPooling2 (None, 14, 14, 32)        0         \n",
      "_________________________________________________________________\n",
      "flatten_4 (Flatten)          (None, 6272)              0         \n",
      "_________________________________________________________________\n",
      "dense_8 (Dense)              (None, 1024)              6423552   \n",
      "_________________________________________________________________\n",
      "dense_9 (Dense)              (None, 96)                98400     \n",
      "=================================================================\n",
      "Total params: 6,526,816\n",
      "Trainable params: 6,526,752\n",
      "Non-trainable params: 64\n",
      "_________________________________________________________________\n",
      "Epoch 1/3\n",
      "67200/67200 [==============================] - 356s 5ms/sample - loss: 1.2072 - acc: 0.6103\n",
      "Epoch 2/3\n",
      "67200/67200 [==============================] - 361s 5ms/sample - loss: 0.2513 - acc: 0.9161\n",
      "Epoch 3/3\n",
      "67200/67200 [==============================] - 686s 10ms/sample - loss: 0.0770 - acc: 0.9827\n",
      "28800/28800 [==============================] - 33s 1ms/sample - loss: 12.8427 - acc: 0.2030\n",
      "\n",
      " Test Acc =  0.20295139\n"
     ]
    }
   ],
   "source": [
    "model = tf.keras.Sequential()\n",
    "model.add(tf.keras.layers.Conv2D(32, (7, 7), strides=1, activation='relu', padding=\"same\", input_shape=(28, 28,3)))\n",
    "model.add(tf.keras.layers.BatchNormalization())\n",
    "model.add(tf.keras.layers.MaxPool2D(pool_size=(2,2), strides=2))\n",
    "model.add(tf.keras.layers.Flatten())\n",
    "model.add(tf.keras.layers.Dense(1024, activation=\"relu\"))\n",
    "\n",
    "model.add(tf.keras.layers.Dense(96, activation='softmax'))\n",
    "\n",
    "model.compile(optimizer='adam', loss='sparse_categorical_crossentropy', metrics=['accuracy'])\n",
    "model.summary()\n",
    "\n",
    "\n",
    "# print(y_train.shape)\n",
    "\n",
    "model.fit(nx, zy, batch_size=64, epochs=3)\n",
    "\n",
    "score = model.evaluate(testData, testY)\n",
    "# pred = model2.predict(testData)\n",
    "print('\\n', 'Test Acc = ', score[1])\n",
    "# print('\\n',\" Predictions: \", pred)"
   ]
  },
  {
   "cell_type": "code",
   "execution_count": null,
   "metadata": {},
   "outputs": [],
   "source": []
  }
 ],
 "metadata": {
  "kernelspec": {
   "display_name": "Python 3",
   "language": "python",
   "name": "python3"
  },
  "language_info": {
   "codemirror_mode": {
    "name": "ipython",
    "version": 3
   },
   "file_extension": ".py",
   "mimetype": "text/x-python",
   "name": "python",
   "nbconvert_exporter": "python",
   "pygments_lexer": "ipython3",
   "version": "3.7.1rc1"
  }
 },
 "nbformat": 4,
 "nbformat_minor": 2
}
