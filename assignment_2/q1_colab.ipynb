{
 "cells": [
  {
   "cell_type": "markdown",
   "metadata": {
    "colab_type": "text",
    "id": "nV4s9SkDZQS-"
   },
   "source": [
    "Basic Imports"
   ]
  },
  {
   "cell_type": "code",
   "execution_count": 0,
   "metadata": {
    "colab": {},
    "colab_type": "code",
    "id": "2Qy7GowXZQTA"
   },
   "outputs": [],
   "source": [
    "import tensorflow as tf\n",
    "import numpy as np\n",
    "import os\n",
    "import cv2\n",
    "import matplotlib.pyplot as plt\n",
    "from tensorflow.examples.tutorials.mnist import input_data"
   ]
  },
  {
   "cell_type": "markdown",
   "metadata": {
    "colab_type": "text",
    "id": "T9iQmXJ8ZQTF"
   },
   "source": [
    "Importing the MNIST dataset"
   ]
  },
  {
   "cell_type": "code",
   "execution_count": 5,
   "metadata": {
    "colab": {
     "base_uri": "https://localhost:8080/",
     "height": 105
    },
    "colab_type": "code",
    "id": "UWwRMNqcZQTQ",
    "outputId": "94d43304-a817-4b97-97fa-b2597e8b31b0"
   },
   "outputs": [
    {
     "name": "stdout",
     "output_type": "stream",
     "text": [
      "Downloading data from https://storage.googleapis.com/tensorflow/tf-keras-datasets/mnist.npz\n",
      "11493376/11490434 [==============================] - 0s 0us/step\n",
      "<class 'numpy.ndarray'>\n",
      "(60000,)\n",
      "(10000, 28, 28, 1)\n"
     ]
    }
   ],
   "source": [
    "mnist = tf.keras.datasets.mnist\n",
    "\n",
    "(x_train, y_train), (x_test, y_test) = mnist.load_data()\n",
    "\n",
    "print(type(x_train))\n",
    "x_train = x_train.astype('float32')\n",
    "x_train /= 255\n",
    "x_train = x_train.reshape(x_train.shape[0], 28, 28, 1)\n",
    "x_test = x_test.reshape(x_test.shape[0], 28, 28, 1)\n",
    "# y_train = y_train.reshape(y_train.shape[0],1)\n",
    "\n",
    "# splitSz = x_train.shape[0]\n",
    "# splitSz = int(1.0*splitSz)\n",
    "\n",
    "# print(y_train.shape)\n",
    "# x_train, x_test = x_train[:splitSz,:], x_train[splitSz:,:]\n",
    "# y_train, y_test = y_train[:splitSz], y_train[splitSz:]\n",
    "\n",
    "print(y_train.shape)\n",
    "print(x_test.shape)"
   ]
  },
  {
   "cell_type": "markdown",
   "metadata": {
    "colab_type": "text",
    "id": "WKGz-URMZQT6"
   },
   "source": [
    "### Model\n",
    "1. 7x7 Convolutional Layer with 32 ﬁlters and stride of 1.\n",
    "2. ReLU Activation Layer.\n",
    "3. Batch Normalization Layer\n",
    "4. 2x2 Max Pooling layer with a stride of 2\n",
    "5. fully connected layer with 1024 output units.\n",
    "6. ReLU Activation Layer."
   ]
  },
  {
   "cell_type": "code",
   "execution_count": 0,
   "metadata": {
    "colab": {
     "base_uri": "https://localhost:8080/",
     "height": 424
    },
    "colab_type": "code",
    "id": "QIHR5M4pZQT8",
    "outputId": "afb3ae37-25e7-4280-d3c4-59b25e1d44b0"
   },
   "outputs": [
    {
     "name": "stdout",
     "output_type": "stream",
     "text": [
      "WARNING:tensorflow:From /usr/local/lib/python3.6/dist-packages/tensorflow/python/ops/resource_variable_ops.py:435: colocate_with (from tensorflow.python.framework.ops) is deprecated and will be removed in a future version.\n",
      "Instructions for updating:\n",
      "Colocations handled automatically by placer.\n",
      "_________________________________________________________________\n",
      "Layer (type)                 Output Shape              Param #   \n",
      "=================================================================\n",
      "conv2d (Conv2D)              (None, 28, 28, 32)        320       \n",
      "_________________________________________________________________\n",
      "batch_normalization_v1 (Batc (None, 28, 28, 32)        128       \n",
      "_________________________________________________________________\n",
      "max_pooling2d (MaxPooling2D) (None, 14, 14, 32)        0         \n",
      "_________________________________________________________________\n",
      "flatten (Flatten)            (None, 6272)              0         \n",
      "_________________________________________________________________\n",
      "dense (Dense)                (None, 1024)              6423552   \n",
      "_________________________________________________________________\n",
      "dense_1 (Dense)              (None, 10)                10250     \n",
      "=================================================================\n",
      "Total params: 6,434,250\n",
      "Trainable params: 6,434,186\n",
      "Non-trainable params: 64\n",
      "_________________________________________________________________\n"
     ]
    }
   ],
   "source": [
    "model = tf.keras.Sequential()\n",
    "model.add(tf.keras.layers.Conv2D(32, (3, 3), strides=1, activation='relu', padding=\"same\", input_shape=(28, 28,1)))\n",
    "model.add(tf.keras.layers.BatchNormalization())\n",
    "model.add(tf.keras.layers.MaxPool2D(pool_size=(2,2), strides=2))\n",
    "model.add(tf.keras.layers.Flatten())\n",
    "model.add(tf.keras.layers.Dense(1024, activation=\"relu\"))\n",
    "\n",
    "model.add(tf.keras.layers.Dense(10, activation='softmax'))\n",
    "\n",
    "model.compile(optimizer='adam', loss='sparse_categorical_crossentropy', metrics=['accuracy'])\n",
    "model.summary()"
   ]
  },
  {
   "cell_type": "code",
   "execution_count": 0,
   "metadata": {
    "colab": {
     "base_uri": "https://localhost:8080/",
     "height": 404
    },
    "colab_type": "code",
    "id": "soYtnlXqZQUR",
    "outputId": "93b3db66-2d12-4455-e37b-e7fca87f452d"
   },
   "outputs": [
    {
     "name": "stdout",
     "output_type": "stream",
     "text": [
      "(60000,)\n",
      "Epoch 1/10\n",
      "60000/60000 [==============================] - 226s 4ms/sample - loss: 0.2494 - acc: 0.9559\n",
      "Epoch 2/10\n",
      "60000/60000 [==============================] - 226s 4ms/sample - loss: 0.0396 - acc: 0.9877\n",
      "Epoch 3/10\n",
      "60000/60000 [==============================] - 226s 4ms/sample - loss: 0.0235 - acc: 0.9921\n",
      "Epoch 4/10\n",
      "60000/60000 [==============================] - 226s 4ms/sample - loss: 0.0178 - acc: 0.9942\n",
      "Epoch 5/10\n",
      "60000/60000 [==============================] - 227s 4ms/sample - loss: 0.0176 - acc: 0.9947\n",
      "Epoch 6/10\n",
      "60000/60000 [==============================] - 226s 4ms/sample - loss: 0.0135 - acc: 0.9961\n",
      "Epoch 7/10\n",
      "60000/60000 [==============================] - 227s 4ms/sample - loss: 0.0104 - acc: 0.9969\n",
      "Epoch 8/10\n",
      "60000/60000 [==============================] - 230s 4ms/sample - loss: 0.0123 - acc: 0.9963\n",
      "Epoch 9/10\n",
      "60000/60000 [==============================] - 227s 4ms/sample - loss: 0.0089 - acc: 0.9973\n",
      "Epoch 10/10\n",
      "60000/60000 [==============================] - 227s 4ms/sample - loss: 0.0089 - acc: 0.9975\n"
     ]
    },
    {
     "data": {
      "text/plain": [
       "<tensorflow.python.keras.callbacks.History at 0x7f0b32470748>"
      ]
     },
     "execution_count": 10,
     "metadata": {
      "tags": []
     },
     "output_type": "execute_result"
    }
   ],
   "source": [
    "print(y_train.shape)\n",
    "\n",
    "model.fit(x_train, y_train, batch_size=64, epochs=10)"
   ]
  },
  {
   "cell_type": "code",
   "execution_count": 0,
   "metadata": {
    "colab": {
     "base_uri": "https://localhost:8080/",
     "height": 70
    },
    "colab_type": "code",
    "id": "u0o-by3BZQUY",
    "outputId": "38d5436d-631a-4621-de75-88cd1690aa33"
   },
   "outputs": [
    {
     "name": "stdout",
     "output_type": "stream",
     "text": [
      "10000/10000 [==============================] - 8s 805us/sample - loss: 4.7237 - acc: 0.7065\n",
      "\n",
      " Test Acc =  0.7065\n"
     ]
    }
   ],
   "source": [
    "score = model.evaluate(x_test, y_test)\n",
    "print('\\n', 'Test Acc = ', score[1])"
   ]
  },
  {
   "cell_type": "code",
   "execution_count": 0,
   "metadata": {
    "colab": {
     "base_uri": "https://localhost:8080/",
     "height": 633
    },
    "colab_type": "code",
    "id": "__4eZRf_c19r",
    "outputId": "7145a964-b107-4e74-b643-4c6ae7a85423"
   },
   "outputs": [
    {
     "name": "stdout",
     "output_type": "stream",
     "text": [
      "_________________________________________________________________\n",
      "Layer (type)                 Output Shape              Param #   \n",
      "=================================================================\n",
      "conv2d_1 (Conv2D)            (None, 28, 28, 32)        320       \n",
      "_________________________________________________________________\n",
      "batch_normalization_v1_1 (Ba (None, 28, 28, 32)        128       \n",
      "_________________________________________________________________\n",
      "max_pooling2d_1 (MaxPooling2 (None, 14, 14, 32)        0         \n",
      "_________________________________________________________________\n",
      "flatten_1 (Flatten)          (None, 6272)              0         \n",
      "_________________________________________________________________\n",
      "dense_2 (Dense)              (None, 1024)              6423552   \n",
      "_________________________________________________________________\n",
      "dense_3 (Dense)              (None, 1024)              1049600   \n",
      "_________________________________________________________________\n",
      "dense_4 (Dense)              (None, 10)                10250     \n",
      "=================================================================\n",
      "Total params: 7,483,850\n",
      "Trainable params: 7,483,786\n",
      "Non-trainable params: 64\n",
      "_________________________________________________________________\n",
      "(60000,)\n",
      "Epoch 1/5\n",
      "60000/60000 [==============================] - 249s 4ms/sample - loss: 0.1596 - acc: 0.9596\n",
      "Epoch 2/5\n",
      "60000/60000 [==============================] - 248s 4ms/sample - loss: 0.0422 - acc: 0.9872\n",
      "Epoch 3/5\n",
      "60000/60000 [==============================] - 249s 4ms/sample - loss: 0.0305 - acc: 0.9909\n",
      "Epoch 4/5\n",
      "60000/60000 [==============================] - 248s 4ms/sample - loss: 0.0236 - acc: 0.9930\n",
      "Epoch 5/5\n",
      "60000/60000 [==============================] - 248s 4ms/sample - loss: 0.0194 - acc: 0.9944\n",
      "10000/10000 [==============================] - 9s 876us/sample - loss: 4.0541 - acc: 0.7475\n",
      "\n",
      " Test Acc =  0.7475\n"
     ]
    }
   ],
   "source": [
    "model = tf.keras.Sequential()\n",
    "model.add(tf.keras.layers.Conv2D(32, (3, 3), strides=1, activation='relu', padding=\"same\", input_shape=(28, 28,1)))\n",
    "model.add(tf.keras.layers.BatchNormalization())\n",
    "model.add(tf.keras.layers.MaxPool2D(pool_size=(2,2), strides=2))\n",
    "model.add(tf.keras.layers.Flatten())\n",
    "model.add(tf.keras.layers.Dense(1024, activation=\"relu\"))\n",
    "model.add(tf.keras.layers.Dense(1024, activation=\"relu\"))\n",
    "\n",
    "model.add(tf.keras.layers.Dense(10, activation='softmax'))\n",
    "\n",
    "model.compile(optimizer='adam', loss='sparse_categorical_crossentropy', metrics=['accuracy'])\n",
    "model.summary()\n",
    "\n",
    "print(y_train.shape)\n",
    "\n",
    "model.fit(x_train, y_train, batch_size=64, epochs=5)\n",
    "\n",
    "score = model.evaluate(x_test, y_test)\n",
    "print('\\n', 'Test Acc = ', score[1])"
   ]
  },
  {
   "cell_type": "code",
   "execution_count": 0,
   "metadata": {
    "colab": {
     "base_uri": "https://localhost:8080/",
     "height": 598
    },
    "colab_type": "code",
    "id": "TaULqEZnFctV",
    "outputId": "93ee0e4b-4c15-4ea3-ddbf-1d7ddc2a4b46"
   },
   "outputs": [
    {
     "name": "stdout",
     "output_type": "stream",
     "text": [
      "_________________________________________________________________\n",
      "Layer (type)                 Output Shape              Param #   \n",
      "=================================================================\n",
      "conv2d_2 (Conv2D)            (None, 28, 28, 32)        1600      \n",
      "_________________________________________________________________\n",
      "batch_normalization_v1_2 (Ba (None, 28, 28, 32)        128       \n",
      "_________________________________________________________________\n",
      "max_pooling2d_2 (MaxPooling2 (None, 14, 14, 32)        0         \n",
      "_________________________________________________________________\n",
      "flatten_2 (Flatten)          (None, 6272)              0         \n",
      "_________________________________________________________________\n",
      "dense_5 (Dense)              (None, 1024)              6423552   \n",
      "_________________________________________________________________\n",
      "dense_6 (Dense)              (None, 10)                10250     \n",
      "=================================================================\n",
      "Total params: 6,435,530\n",
      "Trainable params: 6,435,466\n",
      "Non-trainable params: 64\n",
      "_________________________________________________________________\n",
      "(60000,)\n",
      "Epoch 1/5\n",
      "60000/60000 [==============================] - 267s 4ms/sample - loss: 0.2479 - acc: 0.9585\n",
      "Epoch 2/5\n",
      "60000/60000 [==============================] - 268s 4ms/sample - loss: 0.0415 - acc: 0.9869\n",
      "Epoch 3/5\n",
      "60000/60000 [==============================] - 268s 4ms/sample - loss: 0.0266 - acc: 0.9922\n",
      "Epoch 4/5\n",
      "60000/60000 [==============================] - 267s 4ms/sample - loss: 0.0235 - acc: 0.9924\n",
      "Epoch 5/5\n",
      "60000/60000 [==============================] - 266s 4ms/sample - loss: 0.0196 - acc: 0.9944\n",
      "10000/10000 [==============================] - 12s 1ms/sample - loss: 0.3357 - acc: 0.9791\n",
      "\n",
      " Test Acc =  0.9791\n"
     ]
    }
   ],
   "source": [
    "model = tf.keras.Sequential()\n",
    "model.add(tf.keras.layers.Conv2D(32, (7, 7), strides=1, activation='relu', padding=\"same\", input_shape=(28, 28,1)))\n",
    "model.add(tf.keras.layers.BatchNormalization())\n",
    "model.add(tf.keras.layers.MaxPool2D(pool_size=(2,2), strides=2))\n",
    "model.add(tf.keras.layers.Flatten())\n",
    "model.add(tf.keras.layers.Dense(1024, activation=\"relu\"))\n",
    "\n",
    "model.add(tf.keras.layers.Dense(10, activation='softmax'))\n",
    "\n",
    "model.compile(optimizer='adam', loss='sparse_categorical_crossentropy', metrics=['accuracy'])\n",
    "model.summary()\n",
    "\n",
    "print(y_train.shape)\n",
    "\n",
    "model.fit(x_train, y_train, batch_size=64, epochs=5)\n",
    "\n",
    "score = model.evaluate(x_test, y_test)\n",
    "print('\\n', 'Test Acc = ', score[1])"
   ]
  },
  {
   "cell_type": "code",
   "execution_count": 0,
   "metadata": {
    "colab": {
     "base_uri": "https://localhost:8080/",
     "height": 670
    },
    "colab_type": "code",
    "id": "pABZf0PEHb0C",
    "outputId": "2d8da563-23cd-4703-9dd6-292d1e39004f"
   },
   "outputs": [
    {
     "name": "stdout",
     "output_type": "stream",
     "text": [
      "WARNING:tensorflow:From /usr/local/lib/python3.6/dist-packages/tensorflow/python/ops/resource_variable_ops.py:435: colocate_with (from tensorflow.python.framework.ops) is deprecated and will be removed in a future version.\n",
      "Instructions for updating:\n",
      "Colocations handled automatically by placer.\n",
      "_________________________________________________________________\n",
      "Layer (type)                 Output Shape              Param #   \n",
      "=================================================================\n",
      "conv2d (Conv2D)              (None, 28, 28, 64)        3200      \n",
      "_________________________________________________________________\n",
      "batch_normalization_v1 (Batc (None, 28, 28, 64)        256       \n",
      "_________________________________________________________________\n",
      "max_pooling2d (MaxPooling2D) (None, 14, 14, 64)        0         \n",
      "_________________________________________________________________\n",
      "flatten (Flatten)            (None, 12544)             0         \n",
      "_________________________________________________________________\n",
      "dense (Dense)                (None, 1024)              12846080  \n",
      "_________________________________________________________________\n",
      "dense_1 (Dense)              (None, 10)                10250     \n",
      "=================================================================\n",
      "Total params: 12,859,786\n",
      "Trainable params: 12,859,658\n",
      "Non-trainable params: 128\n",
      "_________________________________________________________________\n",
      "(60000,)\n",
      "Epoch 1/5\n",
      "60000/60000 [==============================] - 513s 9ms/sample - loss: 0.3795 - acc: 0.9516\n",
      "Epoch 2/5\n",
      "60000/60000 [==============================] - 505s 8ms/sample - loss: 0.0364 - acc: 0.9886\n",
      "Epoch 3/5\n",
      "60000/60000 [==============================] - 503s 8ms/sample - loss: 0.0278 - acc: 0.9913\n",
      "Epoch 4/5\n",
      "60000/60000 [==============================] - 507s 8ms/sample - loss: 0.0240 - acc: 0.9930\n",
      "Epoch 5/5\n",
      "60000/60000 [==============================] - 507s 8ms/sample - loss: 0.0205 - acc: 0.9941\n",
      "10000/10000 [==============================] - 18s 2ms/sample - loss: 0.3191 - acc: 0.9801\n",
      "\n",
      " Test Acc =  0.9801\n"
     ]
    }
   ],
   "source": [
    "model = tf.keras.Sequential()\n",
    "model.add(tf.keras.layers.Conv2D(64, (7, 7), strides=1, activation='relu', padding=\"same\", input_shape=(28, 28,1)))\n",
    "model.add(tf.keras.layers.BatchNormalization())\n",
    "model.add(tf.keras.layers.MaxPool2D(pool_size=(2,2), strides=2))\n",
    "model.add(tf.keras.layers.Flatten())\n",
    "model.add(tf.keras.layers.Dense(1024, activation=\"relu\"))\n",
    "\n",
    "model.add(tf.keras.layers.Dense(10, activation='softmax'))\n",
    "\n",
    "model.compile(optimizer='adam', loss='sparse_categorical_crossentropy', metrics=['accuracy'])\n",
    "model.summary()\n",
    "\n",
    "print(y_train.shape)\n",
    "\n",
    "model.fit(x_train, y_train, batch_size=64, epochs=5)\n",
    "\n",
    "score = model.evaluate(x_test, y_test)\n",
    "print('\\n', 'Test Acc = ', score[1])"
   ]
  },
  {
   "cell_type": "code",
   "execution_count": 0,
   "metadata": {
    "colab": {
     "base_uri": "https://localhost:8080/",
     "height": 633
    },
    "colab_type": "code",
    "id": "HqXabk_q8oyB",
    "outputId": "c08132c0-a65e-46f0-a83f-6259e373f4df"
   },
   "outputs": [
    {
     "name": "stdout",
     "output_type": "stream",
     "text": [
      "_________________________________________________________________\n",
      "Layer (type)                 Output Shape              Param #   \n",
      "=================================================================\n",
      "conv2d_1 (Conv2D)            (None, 28, 28, 32)        1600      \n",
      "_________________________________________________________________\n",
      "conv2d_2 (Conv2D)            (None, 28, 28, 32)        50208     \n",
      "_________________________________________________________________\n",
      "batch_normalization_v1_1 (Ba (None, 28, 28, 32)        128       \n",
      "_________________________________________________________________\n",
      "max_pooling2d_1 (MaxPooling2 (None, 14, 14, 32)        0         \n",
      "_________________________________________________________________\n",
      "flatten_1 (Flatten)          (None, 6272)              0         \n",
      "_________________________________________________________________\n",
      "dense_2 (Dense)              (None, 1024)              6423552   \n",
      "_________________________________________________________________\n",
      "dense_3 (Dense)              (None, 10)                10250     \n",
      "=================================================================\n",
      "Total params: 6,485,738\n",
      "Trainable params: 6,485,674\n",
      "Non-trainable params: 64\n",
      "_________________________________________________________________\n",
      "(60000,)\n",
      "Epoch 1/5\n",
      "60000/60000 [==============================] - 806s 13ms/sample - loss: 0.1211 - acc: 0.9663\n",
      "Epoch 2/5\n",
      "60000/60000 [==============================] - 783s 13ms/sample - loss: 0.0459 - acc: 0.9859\n",
      "Epoch 3/5\n",
      "60000/60000 [==============================] - 799s 13ms/sample - loss: 0.0294 - acc: 0.9907\n",
      "Epoch 4/5\n",
      "60000/60000 [==============================] - 791s 13ms/sample - loss: 0.0268 - acc: 0.9923\n",
      "Epoch 5/5\n",
      "60000/60000 [==============================] - 787s 13ms/sample - loss: 0.0212 - acc: 0.9938\n",
      "10000/10000 [==============================] - 33s 3ms/sample - loss: 0.3530 - acc: 0.9778\n",
      "\n",
      " Test Acc =  0.9778\n"
     ]
    }
   ],
   "source": [
    "model = tf.keras.Sequential()\n",
    "model.add(tf.keras.layers.Conv2D(32, (7, 7), strides=1, activation='relu', padding=\"same\", input_shape=(28, 28,1)))\n",
    "model.add(tf.keras.layers.Conv2D(32, (7, 7), strides=1, activation='relu', padding=\"same\", input_shape=(28, 28,1)))\n",
    "model.add(tf.keras.layers.BatchNormalization())\n",
    "model.add(tf.keras.layers.MaxPool2D(pool_size=(2,2), strides=2))\n",
    "model.add(tf.keras.layers.Flatten())\n",
    "model.add(tf.keras.layers.Dense(1024, activation=\"relu\"))\n",
    "\n",
    "model.add(tf.keras.layers.Dense(10, activation='softmax'))\n",
    "\n",
    "model.compile(optimizer='adam', loss='sparse_categorical_crossentropy', metrics=['accuracy'])\n",
    "model.summary()\n",
    "\n",
    "print(y_train.shape)\n",
    "\n",
    "model.fit(x_train, y_train, batch_size=64, epochs=5)\n",
    "\n",
    "score = model.evaluate(x_test, y_test)\n",
    "print('\\n', 'Test Acc = ', score[1])"
   ]
  },
  {
   "cell_type": "code",
   "execution_count": 0,
   "metadata": {
    "colab": {
     "base_uri": "https://localhost:8080/",
     "height": 633
    },
    "colab_type": "code",
    "id": "sXnWsA6U8t5u",
    "outputId": "6d635fd0-b273-42fa-aaad-bba5d2313f55"
   },
   "outputs": [
    {
     "name": "stdout",
     "output_type": "stream",
     "text": [
      "_________________________________________________________________\n",
      "Layer (type)                 Output Shape              Param #   \n",
      "=================================================================\n",
      "conv2d_3 (Conv2D)            (None, 28, 28, 32)        1600      \n",
      "_________________________________________________________________\n",
      "batch_normalization_v1_2 (Ba (None, 28, 28, 32)        128       \n",
      "_________________________________________________________________\n",
      "conv2d_4 (Conv2D)            (None, 28, 28, 32)        50208     \n",
      "_________________________________________________________________\n",
      "max_pooling2d_2 (MaxPooling2 (None, 14, 14, 32)        0         \n",
      "_________________________________________________________________\n",
      "flatten_2 (Flatten)          (None, 6272)              0         \n",
      "_________________________________________________________________\n",
      "dense_4 (Dense)              (None, 1024)              6423552   \n",
      "_________________________________________________________________\n",
      "dense_5 (Dense)              (None, 10)                10250     \n",
      "=================================================================\n",
      "Total params: 6,485,738\n",
      "Trainable params: 6,485,674\n",
      "Non-trainable params: 64\n",
      "_________________________________________________________________\n",
      "(60000,)\n",
      "Epoch 1/5\n",
      "60000/60000 [==============================] - 772s 13ms/sample - loss: 1.5519 - acc: 0.8759\n",
      "Epoch 2/5\n",
      "60000/60000 [==============================] - 760s 13ms/sample - loss: 0.0421 - acc: 0.9866\n",
      "Epoch 3/5\n",
      "60000/60000 [==============================] - 760s 13ms/sample - loss: 0.0281 - acc: 0.9911\n",
      "Epoch 4/5\n",
      "60000/60000 [==============================] - 773s 13ms/sample - loss: 0.0223 - acc: 0.9931\n",
      "Epoch 5/5\n",
      "60000/60000 [==============================] - 771s 13ms/sample - loss: 0.0195 - acc: 0.9939\n",
      "10000/10000 [==============================] - 33s 3ms/sample - loss: 0.3756 - acc: 0.9765\n",
      "\n",
      " Test Acc =  0.9765\n"
     ]
    }
   ],
   "source": [
    "model = tf.keras.Sequential()\n",
    "model.add(tf.keras.layers.Conv2D(32, (7, 7), strides=1, activation='relu', padding=\"same\", input_shape=(28, 28,1)))\n",
    "model.add(tf.keras.layers.BatchNormalization())\n",
    "model.add(tf.keras.layers.Conv2D(32, (7, 7), strides=1, activation='relu', padding=\"same\", input_shape=(28, 28,1)))\n",
    "model.add(tf.keras.layers.MaxPool2D(pool_size=(2,2), strides=2))\n",
    "model.add(tf.keras.layers.Flatten())\n",
    "model.add(tf.keras.layers.Dense(1024, activation=\"relu\"))\n",
    "\n",
    "model.add(tf.keras.layers.Dense(10, activation='softmax'))\n",
    "\n",
    "model.compile(optimizer='adam', loss='sparse_categorical_crossentropy', metrics=['accuracy'])\n",
    "model.summary()\n",
    "\n",
    "print(y_train.shape)\n",
    "\n",
    "model.fit(x_train, y_train, batch_size=64, epochs=5)\n",
    "\n",
    "score = model.evaluate(x_test, y_test)\n",
    "print('\\n', 'Test Acc = ', score[1])"
   ]
  },
  {
   "cell_type": "code",
   "execution_count": 6,
   "metadata": {
    "colab": {
     "base_uri": "https://localhost:8080/",
     "height": 706
    },
    "colab_type": "code",
    "id": "70PvcduT8ztS",
    "outputId": "ce1ef360-8aeb-4233-de23-8f1b8336b825"
   },
   "outputs": [
    {
     "name": "stdout",
     "output_type": "stream",
     "text": [
      "WARNING:tensorflow:From /usr/local/lib/python3.6/dist-packages/tensorflow/python/ops/resource_variable_ops.py:435: colocate_with (from tensorflow.python.framework.ops) is deprecated and will be removed in a future version.\n",
      "Instructions for updating:\n",
      "Colocations handled automatically by placer.\n",
      "_________________________________________________________________\n",
      "Layer (type)                 Output Shape              Param #   \n",
      "=================================================================\n",
      "conv2d (Conv2D)              (None, 28, 28, 64)        3200      \n",
      "_________________________________________________________________\n",
      "conv2d_1 (Conv2D)            (None, 28, 28, 32)        100384    \n",
      "_________________________________________________________________\n",
      "batch_normalization_v1 (Batc (None, 28, 28, 32)        128       \n",
      "_________________________________________________________________\n",
      "max_pooling2d (MaxPooling2D) (None, 14, 14, 32)        0         \n",
      "_________________________________________________________________\n",
      "flatten (Flatten)            (None, 6272)              0         \n",
      "_________________________________________________________________\n",
      "dense (Dense)                (None, 1024)              6423552   \n",
      "_________________________________________________________________\n",
      "dense_1 (Dense)              (None, 10)                10250     \n",
      "=================================================================\n",
      "Total params: 6,537,514\n",
      "Trainable params: 6,537,450\n",
      "Non-trainable params: 64\n",
      "_________________________________________________________________\n",
      "(60000,)\n",
      "Epoch 1/5\n",
      "60000/60000 [==============================] - 1285s 21ms/sample - loss: 0.1055 - acc: 0.9692\n",
      "Epoch 2/5\n",
      "60000/60000 [==============================] - 1302s 22ms/sample - loss: 0.0434 - acc: 0.9868\n",
      "Epoch 3/5\n",
      "60000/60000 [==============================] - 1298s 22ms/sample - loss: 0.0350 - acc: 0.9905\n",
      "Epoch 4/5\n",
      "60000/60000 [==============================] - 1282s 21ms/sample - loss: 0.0287 - acc: 0.9923\n",
      "Epoch 5/5\n",
      "60000/60000 [==============================] - 1263s 21ms/sample - loss: 0.0213 - acc: 0.9941\n",
      "10000/10000 [==============================] - 52s 5ms/sample - loss: 0.2341 - acc: 0.9853\n",
      "\n",
      " Test Acc =  0.9853\n"
     ]
    }
   ],
   "source": [
    "model = tf.keras.Sequential()\n",
    "model.add(tf.keras.layers.Conv2D(64, (7, 7), strides=1, activation='relu', padding=\"same\", input_shape=(28, 28,1)))\n",
    "model.add(tf.keras.layers.Conv2D(32, (7, 7), strides=1, activation='relu', padding=\"same\", input_shape=(28, 28,1)))\n",
    "model.add(tf.keras.layers.BatchNormalization())\n",
    "model.add(tf.keras.layers.MaxPool2D(pool_size=(2,2), strides=2))\n",
    "model.add(tf.keras.layers.Flatten())\n",
    "model.add(tf.keras.layers.Dense(1024, activation=\"relu\"))\n",
    "\n",
    "model.add(tf.keras.layers.Dense(10, activation='softmax'))\n",
    "\n",
    "model.compile(optimizer='adam', loss='sparse_categorical_crossentropy', metrics=['accuracy'])\n",
    "model.summary()\n",
    "\n",
    "print(y_train.shape)\n",
    "\n",
    "model.fit(x_train, y_train, batch_size=64, epochs=5)\n",
    "\n",
    "score = model.evaluate(x_test, y_test)\n",
    "print('\\n', 'Test Acc = ', score[1])"
   ]
  },
  {
   "cell_type": "code",
   "execution_count": 0,
   "metadata": {
    "colab": {},
    "colab_type": "code",
    "id": "4PZLzD6199qP"
   },
   "outputs": [],
   "source": []
  },
  {
   "cell_type": "markdown",
   "metadata": {
    "colab_type": "text",
    "id": "OsTzGSnsBkOx"
   },
   "source": [
    "[Link](https://www.kaggle.com/raoulma/mnist-image-class-tensorflow-cnn-99-51-test-acc)\n",
    "\n",
    "1. input layer: [.,784]\n",
    "2. layer: Conv1 -> ReLu -> MaxPool: [.,14,14,36]\n",
    "3. layer: Conv2 -> ReLu -> MaxPool: [.,7,7,36]\n",
    "4. layer: Conv3 -> ReLu -> MaxPool: [.,4,4,36]\n",
    "5. layer: FC -> ReLu: [.,576]\n",
    "6. output layer: FC -> ReLu: [.,10]"
   ]
  },
  {
   "cell_type": "code",
   "execution_count": 7,
   "metadata": {
    "colab": {
     "base_uri": "https://localhost:8080/",
     "height": 703
    },
    "colab_type": "code",
    "id": "yBegAMUfBlUC",
    "outputId": "13069f04-3bb4-42f7-c588-d2cf5584a2ff"
   },
   "outputs": [
    {
     "name": "stdout",
     "output_type": "stream",
     "text": [
      "_________________________________________________________________\n",
      "Layer (type)                 Output Shape              Param #   \n",
      "=================================================================\n",
      "conv2d_2 (Conv2D)            (None, 28, 28, 64)        3200      \n",
      "_________________________________________________________________\n",
      "max_pooling2d_1 (MaxPooling2 (None, 14, 14, 64)        0         \n",
      "_________________________________________________________________\n",
      "conv2d_3 (Conv2D)            (None, 14, 14, 32)        100384    \n",
      "_________________________________________________________________\n",
      "max_pooling2d_2 (MaxPooling2 (None, 7, 7, 32)          0         \n",
      "_________________________________________________________________\n",
      "conv2d_4 (Conv2D)            (None, 7, 7, 32)          50208     \n",
      "_________________________________________________________________\n",
      "max_pooling2d_3 (MaxPooling2 (None, 3, 3, 32)          0         \n",
      "_________________________________________________________________\n",
      "flatten_1 (Flatten)          (None, 288)               0         \n",
      "_________________________________________________________________\n",
      "dense_2 (Dense)              (None, 1024)              295936    \n",
      "_________________________________________________________________\n",
      "dense_3 (Dense)              (None, 10)                10250     \n",
      "=================================================================\n",
      "Total params: 459,978\n",
      "Trainable params: 459,978\n",
      "Non-trainable params: 0\n",
      "_________________________________________________________________\n",
      "(60000,)\n",
      "Epoch 1/5\n",
      "60000/60000 [==============================] - 384s 6ms/sample - loss: 0.1423 - acc: 0.9551\n",
      "Epoch 2/5\n",
      "60000/60000 [==============================] - 384s 6ms/sample - loss: 0.0413 - acc: 0.9874\n",
      "Epoch 3/5\n",
      "60000/60000 [==============================] - 383s 6ms/sample - loss: 0.0300 - acc: 0.9904\n",
      "Epoch 4/5\n",
      "60000/60000 [==============================] - 381s 6ms/sample - loss: 0.0246 - acc: 0.9924\n",
      "Epoch 5/5\n",
      "60000/60000 [==============================] - 386s 6ms/sample - loss: 0.0198 - acc: 0.9936\n",
      "10000/10000 [==============================] - 20s 2ms/sample - loss: 0.1257 - acc: 0.9921\n",
      "\n",
      " Test Acc =  0.9921\n"
     ]
    }
   ],
   "source": [
    "model = tf.keras.Sequential()\n",
    "model.add(tf.keras.layers.Conv2D(36, (7, 7), strides=1, activation='relu', padding=\"same\", input_shape=(28, 28,1)))\n",
    "model.add(tf.keras.layers.MaxPool2D(pool_size=(2,2), strides=2))\n",
    "model.add(tf.keras.layers.Conv2D(36, (7, 7), strides=1, activation='relu', padding=\"same\", input_shape=(28, 28,1)))\n",
    "model.add(tf.keras.layers.MaxPool2D(pool_size=(2,2), strides=2))\n",
    "model.add(tf.keras.layers.Conv2D(36, (7, 7), strides=1, activation='relu', padding=\"same\", input_shape=(28, 28,1)))\n",
    "model.add(tf.keras.layers.MaxPool2D(pool_size=(2,2), strides=2))\n",
    "# model.add(tf.keras.layers.BatchNormalization())\n",
    "# model.add(tf.keras.layers.MaxPool2D(pool_size=(2,2), strides=2))\n",
    "model.add(tf.keras.layers.Flatten())\n",
    "model.add(tf.keras.layers.Dense(1024, activation=\"relu\"))\n",
    "\n",
    "model.add(tf.keras.layers.Dense(10, activation='softmax'))\n",
    "\n",
    "model.compile(optimizer='adam', loss='sparse_categorical_crossentropy', metrics=['accuracy'])\n",
    "model.summary()\n",
    "\n",
    "print(y_train.shape)\n",
    "\n",
    "model.fit(x_train, y_train, batch_size=64, epochs=5)\n",
    "\n",
    "score = model.evaluate(x_test, y_test)\n",
    "print('\\n', 'Test Acc = ', score[1])"
   ]
  },
  {
   "cell_type": "code",
   "execution_count": 8,
   "metadata": {
    "colab": {
     "base_uri": "https://localhost:8080/",
     "height": 844
    },
    "colab_type": "code",
    "id": "6JQDX7DExBA0",
    "outputId": "4a1f0167-aee9-4b3d-8278-db6665558ee7"
   },
   "outputs": [
    {
     "name": "stdout",
     "output_type": "stream",
     "text": [
      "_________________________________________________________________\n",
      "Layer (type)                 Output Shape              Param #   \n",
      "=================================================================\n",
      "conv2d_5 (Conv2D)            (None, 28, 28, 36)        1800      \n",
      "_________________________________________________________________\n",
      "max_pooling2d_4 (MaxPooling2 (None, 14, 14, 36)        0         \n",
      "_________________________________________________________________\n",
      "conv2d_6 (Conv2D)            (None, 14, 14, 36)        63540     \n",
      "_________________________________________________________________\n",
      "max_pooling2d_5 (MaxPooling2 (None, 7, 7, 36)          0         \n",
      "_________________________________________________________________\n",
      "conv2d_7 (Conv2D)            (None, 7, 7, 36)          63540     \n",
      "_________________________________________________________________\n",
      "max_pooling2d_6 (MaxPooling2 (None, 3, 3, 36)          0         \n",
      "_________________________________________________________________\n",
      "flatten_2 (Flatten)          (None, 324)               0         \n",
      "_________________________________________________________________\n",
      "dense_4 (Dense)              (None, 1024)              332800    \n",
      "_________________________________________________________________\n",
      "dense_5 (Dense)              (None, 10)                10250     \n",
      "=================================================================\n",
      "Total params: 471,930\n",
      "Trainable params: 471,930\n",
      "Non-trainable params: 0\n",
      "_________________________________________________________________\n",
      "(60000,)\n",
      "Epoch 1/5\n",
      "60000/60000 [==============================] - 338s 6ms/sample - loss: 0.1388 - acc: 0.9561\n",
      "Epoch 2/5\n",
      "60000/60000 [==============================] - 337s 6ms/sample - loss: 0.0451 - acc: 0.9858\n",
      "Epoch 3/5\n",
      "60000/60000 [==============================] - 336s 6ms/sample - loss: 0.0326 - acc: 0.9900\n",
      "Epoch 4/5\n",
      "60000/60000 [==============================] - 336s 6ms/sample - loss: 0.0256 - acc: 0.9923\n",
      "Epoch 5/5\n",
      "60000/60000 [==============================] - 336s 6ms/sample - loss: 0.0196 - acc: 0.9938\n",
      "10000/10000 [==============================] - 23s 2ms/sample - loss: 0.1389 - acc: 0.9913\n",
      "\n",
      " Test Acc =  0.9913\n",
      "\n",
      "  Predictions:  [[0. 0. 0. ... 1. 0. 0.]\n",
      " [0. 0. 1. ... 0. 0. 0.]\n",
      " [0. 1. 0. ... 0. 0. 0.]\n",
      " ...\n",
      " [0. 0. 0. ... 0. 0. 0.]\n",
      " [0. 0. 0. ... 0. 0. 0.]\n",
      " [0. 0. 0. ... 0. 0. 0.]]\n"
     ]
    }
   ],
   "source": [
    "model2 = tf.keras.Sequential()\n",
    "model2.add(tf.keras.layers.Conv2D(36, (7, 7), strides=1, activation='relu', padding=\"same\", input_shape=(28, 28,1)))\n",
    "model2.add(tf.keras.layers.MaxPool2D(pool_size=(2,2), strides=2))\n",
    "model2.add(tf.keras.layers.Conv2D(36, (7, 7), strides=1, activation='relu', padding=\"same\", input_shape=(28, 28,1)))\n",
    "model2.add(tf.keras.layers.MaxPool2D(pool_size=(2,2), strides=2))\n",
    "model2.add(tf.keras.layers.Conv2D(36, (7, 7), strides=1, activation='relu', padding=\"same\", input_shape=(28, 28,1)))\n",
    "model2.add(tf.keras.layers.MaxPool2D(pool_size=(2,2), strides=2))\n",
    "# model2.add(tf.keras.layers.BatchNormalization())\n",
    "# model2.add(tf.keras.layers.MaxPool2D(pool_size=(2,2), strides=2))\n",
    "model2.add(tf.keras.layers.Flatten())\n",
    "model2.add(tf.keras.layers.Dense(1024, activation=\"relu\"))\n",
    "\n",
    "model2.add(tf.keras.layers.Dense(10, activation='softmax'))\n",
    "\n",
    "model2.compile(optimizer='adam', loss='sparse_categorical_crossentropy', metrics=['accuracy'])\n",
    "model2.summary()\n",
    "\n",
    "print(y_train.shape)\n",
    "\n",
    "model2.fit(x_train, y_train, batch_size=64, epochs=5)\n",
    "\n",
    "score = model2.evaluate(x_test, y_test)\n",
    "pred = model2.predict(x_test)\n",
    "print('\\n', 'Test Acc = ', score[1])\n",
    "print('\\n',\" Predictions: \", pred)"
   ]
  },
  {
   "cell_type": "code",
   "execution_count": 0,
   "metadata": {
    "colab": {},
    "colab_type": "code",
    "id": "BuotUVEXiXB-"
   },
   "outputs": [],
   "source": []
  }
 ],
 "metadata": {
  "colab": {
   "name": "q1.ipynb",
   "provenance": [],
   "version": "0.3.2"
  },
  "kernelspec": {
   "display_name": "Python 3",
   "language": "python",
   "name": "python3"
  },
  "language_info": {
   "codemirror_mode": {
    "name": "ipython",
    "version": 3
   },
   "file_extension": ".py",
   "mimetype": "text/x-python",
   "name": "python",
   "nbconvert_exporter": "python",
   "pygments_lexer": "ipython3",
   "version": "3.7.1rc1"
  }
 },
 "nbformat": 4,
 "nbformat_minor": 1
}
