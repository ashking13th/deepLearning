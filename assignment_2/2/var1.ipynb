{
  "nbformat": 4,
  "nbformat_minor": 0,
  "metadata": {
    "colab": {
      "name": "assign2b.ipynb",
      "version": "0.3.2",
      "provenance": [],
      "collapsed_sections": []
    },
    "kernelspec": {
      "name": "python3",
      "display_name": "Python 3"
    }
  },
  "cells": [
    {
      "metadata": {
        "id": "o8I2pyK7m-kP",
        "colab_type": "code",
        "colab": {}
      },
      "cell_type": "code",
      "source": [
        "import cv2\n",
        "import numpy as np\n",
        "import os\n",
        "from keras import Input\n",
        "from keras import Model\n",
        "from keras.layers.normalization import BatchNormalization\n",
        "from keras.layers.convolutional import Conv2D\n",
        "from keras.layers.convolutional import MaxPooling2D\n",
        "from keras.layers.core import Dense\n",
        "from keras.layers import Flatten\n",
        "from keras.utils import plot_model\n",
        "from keras.layers.core import Activation\n",
        "from keras.layers.core import Dropout\n",
        "\n",
        "def getImageVariable(path):\n",
        "\tclassFolder=path\n",
        "\t# imagePath=\"/home/bharat/DL/assignment1/classes\"\n",
        "\timageList=[]\n",
        "\tcnt=0\n",
        "\ttempArry=np.zeros((96000,5),int)\n",
        "\n",
        "\tfor length in range(2):\n",
        "\t\tfor width in range(2):\n",
        "\t\t\tfor angle in range(12):\n",
        "\t\t\t\tfor color in range(2):\n",
        "\n",
        "\t\t\t\t\tfor variation in range(1000):\n",
        "\t\n",
        "\t\t\t\t\t\ttempArry[cnt,:]=[cnt,length,width,angle,color]\n",
        "\t\t\t\t\t\tcnt+=1\n",
        "\tnp.random.shuffle(tempArry)\n",
        "\n",
        "\t\n",
        "\tfor i in range(96000):\n",
        "\t\tstring=\"/\"+str(tempArry[i][1])+\"_\"+str(tempArry[i][2])+\"_\"+str(tempArry[i][3])+\"_\"+str(tempArry[i][4])\n",
        "\t\timgFolder=classFolder+string\n",
        "\t\timg=imgFolder+string+\"_\"+str(tempArry[i][0]%1000)+\".jpeg\"\n",
        "\t\timageList.append(cv2.imread(img))\n",
        "\n",
        "\treturn imageList,tempArry[:,1],tempArry[:,2],tempArry[:,3],tempArry[:,4]\n",
        "\n",
        "\n",
        "imagePath=\"/content/home/classes\" # jaha imagees ka folder h\n",
        "a, b, c, d, e = getImageVariable(imagePath)"
      ],
      "execution_count": 0,
      "outputs": []
    },
    {
      "metadata": {
        "id": "Ih_btSPgIaBf",
        "colab_type": "code",
        "colab": {
          "base_uri": "https://localhost:8080/",
          "height": 51
        },
        "outputId": "9f5aa583-4976-4484-92ae-6f915bfb0876"
      },
      "cell_type": "code",
      "source": [
        "# from keras import Input\n",
        "# from keras import Model\n",
        "# from keras.layers.normalization import BatchNormalization\n",
        "# from keras.layers.convolutional import Conv2D\n",
        "# from keras.layers.convolutional import MaxPooling2D\n",
        "# from keras.layers.core import Dense\n",
        "# from keras.layers import Flatten\n",
        "# from keras.utils import plot_model\n",
        "\n",
        "# Single input and four output(classification heads)\n",
        "# Test and train split\n",
        "# First output length wise 0-7 and 1-15\n",
        "# second output width wise 0-1 and 1-3\n",
        "# third output color wise 0-red and 1-blue\n",
        "# fourth output angle wise (0-180, diff=15) - (0-11)\n",
        "\n",
        "\n",
        "\n",
        "# remember to normalize image array by dividing 255\n",
        "# try out batch normalization before and after activation\n",
        "\n",
        "input_train = np.array(a, dtype=np.float32)\n",
        "input_train /= 255.0\n",
        "print(input_train.shape)\n",
        "# # give names to all below - output1, ...\n",
        "output1_train = np.array(b)\n",
        "output2_train = np.array(c)\n",
        "print(output2_train.shape)\n",
        "output3_train = np.array(e)\n",
        "output4_train = np.array(d)\n",
        "\n",
        "splitSz = input_train.shape[0]\n",
        "splitSz = int(0.7*splitSz)\n",
        "\n",
        "input_train, input_test = input_train[:splitSz,:], input_train[splitSz:,:]\n",
        "output1_train, output1_test = output1_train[:splitSz], output1_train[splitSz:]\n",
        "output2_train, output2_test = output2_train[:splitSz], output2_train[splitSz:]\n",
        "output3_train, output3_test = output3_train[:splitSz], output3_train[splitSz:]\n",
        "output4_train, output4_test = output4_train[:splitSz], output4_train[splitSz:]"
      ],
      "execution_count": 25,
      "outputs": [
        {
          "output_type": "stream",
          "text": [
            "(96000, 28, 28, 3)\n",
            "(96000,)\n"
          ],
          "name": "stdout"
        }
      ]
    },
    {
      "metadata": {
        "id": "gqjqDuraQldo",
        "colab_type": "code",
        "colab": {
          "base_uri": "https://localhost:8080/",
          "height": 1768
        },
        "outputId": "26ee8e56-b6b9-4a12-e539-7e8d34cf57fb"
      },
      "cell_type": "code",
      "source": [
        "\n",
        "inp = Input(shape=(28,28,3))\n",
        "\n",
        "# Conv -> Conv -> Pool\n",
        "x = Conv2D(32, (3,3), padding=\"same\")(inp)\n",
        "x = BatchNormalization()(x)\n",
        "x = Activation(\"relu\")(x)\n",
        "x = Conv2D(32, (3,3), padding=\"same\")(x)\n",
        "x = BatchNormalization()(x)\n",
        "x = Activation(\"relu\")(x)\n",
        "x = MaxPooling2D(pool_size=(2,2))(x)\n",
        "\n",
        "\n",
        "# Conv -> Conv -> Pool\n",
        "x = Conv2D(64, (3,3), padding=\"same\")(x)\n",
        "x = BatchNormalization()(x)\n",
        "x = Activation(\"relu\")(x)\n",
        "x = Conv2D(64, (3,3), padding=\"same\")(x)\n",
        "x = BatchNormalization()(x)\n",
        "x = Activation(\"relu\")(x)\n",
        "x = MaxPooling2D(pool_size=(2,2))(x)\n",
        "x = Flatten()(x)\n",
        "\n",
        "# above is the shared layer and our x now\n",
        "# is the feature map.\n",
        "# x = (7, 7, 64)\n",
        "\n",
        "# out1 corresponds to the length clasification head\n",
        "out1 = Dense(1024)(x)\n",
        "out1 = Activation(\"relu\")(out1)\n",
        "out1 = Dropout(0.5)(out1)\n",
        "out1 = Dense(1024)(out1)\n",
        "out1 = Activation(\"relu\")(out1)\n",
        "out1 = Dropout(0.5)(out1)\n",
        "out1 = Dense(1)(out1)\n",
        "out1 = Activation(\"sigmoid\", name=\"out1\")(out1)\n",
        "\n",
        "# out2 corresponds to the width clasification head\n",
        "out2 = Dense(1024)(x)\n",
        "out2 = Activation(\"relu\")(out2)\n",
        "out2 = Dropout(0.5)(out2)\n",
        "out2 = Dense(1024)(out2)\n",
        "out2 = Activation(\"relu\")(out2)\n",
        "out2 = Dropout(0.5)(out2)\n",
        "out2 = Dense(1)(out2)\n",
        "out2 = Activation(\"sigmoid\", name=\"out2\")(out2)\n",
        "\n",
        "# out3 corresponds to the color clasification head\n",
        "out3 = Dense(1024)(x)\n",
        "out3 = Activation(\"relu\")(out3)\n",
        "out3 = Dropout(0.5)(out3)\n",
        "out3 = Dense(1024)(out3)\n",
        "out3 = Activation(\"relu\")(out3)\n",
        "out3 = Dropout(0.5)(out3)\n",
        "out3 = Dense(1)(out3)\n",
        "out3 = Activation(\"sigmoid\", name=\"out3\")(out3)\n",
        "\n",
        "# out4 corresponds \n",
        "out4 = Dense(1024)(x)\n",
        "out4 = Activation(\"relu\")(out4)\n",
        "out4 = Dropout(0.5)(out4)\n",
        "out4 = Dense(1024)(out4)\n",
        "out4 = Activation(\"relu\")(out4)\n",
        "out4 = Dropout(0.5)(out4)\n",
        "out4 = Dense(12)(out4)\n",
        "out4 = Activation(\"softmax\", name=\"out4\")(out4)\n",
        "\n",
        "# final model with one input and four classification heads\n",
        "model = Model(inputs=[inp], outputs=[out1, out2, out3, out4])\n",
        "\n",
        "model.summary()\n",
        "plot_model(model, to_file='assign2b.png')"
      ],
      "execution_count": 26,
      "outputs": [
        {
          "output_type": "stream",
          "text": [
            "__________________________________________________________________________________________________\n",
            "Layer (type)                    Output Shape         Param #     Connected to                     \n",
            "==================================================================================================\n",
            "input_9 (InputLayer)            (None, 28, 28, 3)    0                                            \n",
            "__________________________________________________________________________________________________\n",
            "conv2d_28 (Conv2D)              (None, 28, 28, 32)   896         input_9[0][0]                    \n",
            "__________________________________________________________________________________________________\n",
            "batch_normalization_28 (BatchNo (None, 28, 28, 32)   128         conv2d_28[0][0]                  \n",
            "__________________________________________________________________________________________________\n",
            "activation_75 (Activation)      (None, 28, 28, 32)   0           batch_normalization_28[0][0]     \n",
            "__________________________________________________________________________________________________\n",
            "conv2d_29 (Conv2D)              (None, 28, 28, 32)   9248        activation_75[0][0]              \n",
            "__________________________________________________________________________________________________\n",
            "batch_normalization_29 (BatchNo (None, 28, 28, 32)   128         conv2d_29[0][0]                  \n",
            "__________________________________________________________________________________________________\n",
            "activation_76 (Activation)      (None, 28, 28, 32)   0           batch_normalization_29[0][0]     \n",
            "__________________________________________________________________________________________________\n",
            "max_pooling2d_13 (MaxPooling2D) (None, 14, 14, 32)   0           activation_76[0][0]              \n",
            "__________________________________________________________________________________________________\n",
            "conv2d_30 (Conv2D)              (None, 14, 14, 64)   18496       max_pooling2d_13[0][0]           \n",
            "__________________________________________________________________________________________________\n",
            "batch_normalization_30 (BatchNo (None, 14, 14, 64)   256         conv2d_30[0][0]                  \n",
            "__________________________________________________________________________________________________\n",
            "activation_77 (Activation)      (None, 14, 14, 64)   0           batch_normalization_30[0][0]     \n",
            "__________________________________________________________________________________________________\n",
            "conv2d_31 (Conv2D)              (None, 14, 14, 64)   36928       activation_77[0][0]              \n",
            "__________________________________________________________________________________________________\n",
            "batch_normalization_31 (BatchNo (None, 14, 14, 64)   256         conv2d_31[0][0]                  \n",
            "__________________________________________________________________________________________________\n",
            "activation_78 (Activation)      (None, 14, 14, 64)   0           batch_normalization_31[0][0]     \n",
            "__________________________________________________________________________________________________\n",
            "max_pooling2d_14 (MaxPooling2D) (None, 7, 7, 64)     0           activation_78[0][0]              \n",
            "__________________________________________________________________________________________________\n",
            "flatten_5 (Flatten)             (None, 3136)         0           max_pooling2d_14[0][0]           \n",
            "__________________________________________________________________________________________________\n",
            "dense_73 (Dense)                (None, 1024)         3212288     flatten_5[0][0]                  \n",
            "__________________________________________________________________________________________________\n",
            "dense_76 (Dense)                (None, 1024)         3212288     flatten_5[0][0]                  \n",
            "__________________________________________________________________________________________________\n",
            "dense_79 (Dense)                (None, 1024)         3212288     flatten_5[0][0]                  \n",
            "__________________________________________________________________________________________________\n",
            "dense_82 (Dense)                (None, 1024)         3212288     flatten_5[0][0]                  \n",
            "__________________________________________________________________________________________________\n",
            "activation_79 (Activation)      (None, 1024)         0           dense_73[0][0]                   \n",
            "__________________________________________________________________________________________________\n",
            "activation_81 (Activation)      (None, 1024)         0           dense_76[0][0]                   \n",
            "__________________________________________________________________________________________________\n",
            "activation_83 (Activation)      (None, 1024)         0           dense_79[0][0]                   \n",
            "__________________________________________________________________________________________________\n",
            "activation_85 (Activation)      (None, 1024)         0           dense_82[0][0]                   \n",
            "__________________________________________________________________________________________________\n",
            "dropout_49 (Dropout)            (None, 1024)         0           activation_79[0][0]              \n",
            "__________________________________________________________________________________________________\n",
            "dropout_51 (Dropout)            (None, 1024)         0           activation_81[0][0]              \n",
            "__________________________________________________________________________________________________\n",
            "dropout_53 (Dropout)            (None, 1024)         0           activation_83[0][0]              \n",
            "__________________________________________________________________________________________________\n",
            "dropout_55 (Dropout)            (None, 1024)         0           activation_85[0][0]              \n",
            "__________________________________________________________________________________________________\n",
            "dense_74 (Dense)                (None, 1024)         1049600     dropout_49[0][0]                 \n",
            "__________________________________________________________________________________________________\n",
            "dense_77 (Dense)                (None, 1024)         1049600     dropout_51[0][0]                 \n",
            "__________________________________________________________________________________________________\n",
            "dense_80 (Dense)                (None, 1024)         1049600     dropout_53[0][0]                 \n",
            "__________________________________________________________________________________________________\n",
            "dense_83 (Dense)                (None, 1024)         1049600     dropout_55[0][0]                 \n",
            "__________________________________________________________________________________________________\n",
            "activation_80 (Activation)      (None, 1024)         0           dense_74[0][0]                   \n",
            "__________________________________________________________________________________________________\n",
            "activation_82 (Activation)      (None, 1024)         0           dense_77[0][0]                   \n",
            "__________________________________________________________________________________________________\n",
            "activation_84 (Activation)      (None, 1024)         0           dense_80[0][0]                   \n",
            "__________________________________________________________________________________________________\n",
            "activation_86 (Activation)      (None, 1024)         0           dense_83[0][0]                   \n",
            "__________________________________________________________________________________________________\n",
            "dropout_50 (Dropout)            (None, 1024)         0           activation_80[0][0]              \n",
            "__________________________________________________________________________________________________\n",
            "dropout_52 (Dropout)            (None, 1024)         0           activation_82[0][0]              \n",
            "__________________________________________________________________________________________________\n",
            "dropout_54 (Dropout)            (None, 1024)         0           activation_84[0][0]              \n",
            "__________________________________________________________________________________________________\n",
            "dropout_56 (Dropout)            (None, 1024)         0           activation_86[0][0]              \n",
            "__________________________________________________________________________________________________\n",
            "dense_75 (Dense)                (None, 1)            1025        dropout_50[0][0]                 \n",
            "__________________________________________________________________________________________________\n",
            "dense_78 (Dense)                (None, 1)            1025        dropout_52[0][0]                 \n",
            "__________________________________________________________________________________________________\n",
            "dense_81 (Dense)                (None, 1)            1025        dropout_54[0][0]                 \n",
            "__________________________________________________________________________________________________\n",
            "dense_84 (Dense)                (None, 12)           12300       dropout_56[0][0]                 \n",
            "__________________________________________________________________________________________________\n",
            "out1 (Activation)               (None, 1)            0           dense_75[0][0]                   \n",
            "__________________________________________________________________________________________________\n",
            "out2 (Activation)               (None, 1)            0           dense_78[0][0]                   \n",
            "__________________________________________________________________________________________________\n",
            "out3 (Activation)               (None, 1)            0           dense_81[0][0]                   \n",
            "__________________________________________________________________________________________________\n",
            "out4 (Activation)               (None, 12)           0           dense_84[0][0]                   \n",
            "==================================================================================================\n",
            "Total params: 17,129,263\n",
            "Trainable params: 17,128,879\n",
            "Non-trainable params: 384\n",
            "__________________________________________________________________________________________________\n"
          ],
          "name": "stdout"
        }
      ]
    },
    {
      "metadata": {
        "id": "krvjYbsKIojY",
        "colab_type": "code",
        "colab": {
          "base_uri": "https://localhost:8080/",
          "height": 268
        },
        "outputId": "341ee087-d278-4b8b-b890-d657694c263d"
      },
      "cell_type": "code",
      "source": [
        "\n",
        "\n",
        "model.compile(optimizer='adam', loss={'out1': 'binary_crossentropy', 'out2': 'binary_crossentropy', 'out3': 'binary_crossentropy', 'out4': 'sparse_categorical_crossentropy'}, metrics=['accuracy'])\n",
        "model.fit([input_train], {'out1': output1_train, 'out2': output2_train, 'out3': output3_train, 'out4': output4_train}, epochs=1, batch_size=32)\n",
        "result = model.predict(input_test)\n",
        "\n",
        "# accuracy\n",
        "# print(result.shape)\n",
        "\n"
      ],
      "execution_count": 40,
      "outputs": [
        {
          "output_type": "stream",
          "text": [
            "Epoch 1/1\n",
            "67200/67200 [==============================] - 1349s 20ms/step - loss: 3.4214 - out1_loss: 1.6242 - out2_loss: 0.6550 - out3_loss: 0.2493 - out4_loss: 0.8930 - out1_acc: 0.8984 - out2_acc: 0.9592 - out3_acc: 0.9844 - out4_acc: 0.7897\n"
          ],
          "name": "stdout"
        },
        {
          "output_type": "error",
          "ename": "AttributeError",
          "evalue": "ignored",
          "traceback": [
            "\u001b[0;31m---------------------------------------------------------------------------\u001b[0m",
            "\u001b[0;31mAttributeError\u001b[0m                            Traceback (most recent call last)",
            "\u001b[0;32m<ipython-input-40-8bb3eedb6c04>\u001b[0m in \u001b[0;36m<module>\u001b[0;34m()\u001b[0m\n\u001b[1;32m      6\u001b[0m \u001b[0;34m\u001b[0m\u001b[0m\n\u001b[1;32m      7\u001b[0m \u001b[0;31m# accuracy\u001b[0m\u001b[0;34m\u001b[0m\u001b[0;34m\u001b[0m\u001b[0;34m\u001b[0m\u001b[0m\n\u001b[0;32m----> 8\u001b[0;31m \u001b[0mprint\u001b[0m\u001b[0;34m(\u001b[0m\u001b[0mresult\u001b[0m\u001b[0;34m.\u001b[0m\u001b[0mshape\u001b[0m\u001b[0;34m)\u001b[0m\u001b[0;34m\u001b[0m\u001b[0;34m\u001b[0m\u001b[0m\n\u001b[0m\u001b[1;32m      9\u001b[0m \u001b[0;34m\u001b[0m\u001b[0m\n",
            "\u001b[0;31mAttributeError\u001b[0m: 'list' object has no attribute 'shape'"
          ]
        }
      ]
    },
    {
      "metadata": {
        "id": "DGN1bTDtwyyr",
        "colab_type": "code",
        "colab": {
          "base_uri": "https://localhost:8080/",
          "height": 34
        },
        "outputId": "3c481288-4cc5-400e-fecb-7fe8718a592f"
      },
      "cell_type": "code",
      "source": [
        "score = model.evaluate(input_test, {'out1': output1_test, 'out2': output2_test, 'out3': output3_test, 'out4': output4_test})\n",
        "# print(result[3])\n",
        "# resultSave = np.array((result))"
      ],
      "execution_count": 41,
      "outputs": [
        {
          "output_type": "stream",
          "text": [
            "28800/28800 [==============================] - 106s 4ms/step\n"
          ],
          "name": "stdout"
        }
      ]
    },
    {
      "metadata": {
        "id": "wilEZkWew2uZ",
        "colab_type": "code",
        "colab": {
          "base_uri": "https://localhost:8080/",
          "height": 54
        },
        "outputId": "22df9e16-4e58-422a-f006-18a20d05fe5d"
      },
      "cell_type": "code",
      "source": [
        "print(score)"
      ],
      "execution_count": 44,
      "outputs": [
        {
          "output_type": "stream",
          "text": [
            "[11.804736263487074, 1.710249301198164, 1.7192175471652398, 8.014370125929515, 0.3608993131336239, 0.8928125, 0.8932291666666666, 0.4972916666666667, 0.8698958333333333]\n"
          ],
          "name": "stdout"
        }
      ]
    }
  ]
}
