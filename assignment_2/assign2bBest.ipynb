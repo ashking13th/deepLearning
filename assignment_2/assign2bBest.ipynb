{
  "nbformat": 4,
  "nbformat_minor": 0,
  "metadata": {
    "colab": {
      "name": "assign2b.ipynb",
      "version": "0.3.2",
      "provenance": [],
      "collapsed_sections": []
    },
    "kernelspec": {
      "name": "python3",
      "display_name": "Python 3"
    }
  },
  "cells": [
    {
      "metadata": {
        "id": "FgY7eP3oAzmM",
        "colab_type": "code",
        "colab": {}
      },
      "cell_type": "code",
      "source": [
        "!unzip /content/classes.zip"
      ],
      "execution_count": 0,
      "outputs": []
    },
    {
      "metadata": {
        "id": "o8I2pyK7m-kP",
        "colab_type": "code",
        "colab": {
          "base_uri": "https://localhost:8080/",
          "height": 34
        },
        "outputId": "bac5fcb3-d18b-469a-ac1e-778735e556f7"
      },
      "cell_type": "code",
      "source": [
        "import cv2\n",
        "import numpy as np\n",
        "import os\n",
        "from keras import Input\n",
        "from keras import Model\n",
        "from keras.layers.normalization import BatchNormalization\n",
        "from keras.layers.convolutional import Conv2D\n",
        "from keras.layers.convolutional import MaxPooling2D\n",
        "from keras.layers.core import Dense\n",
        "from keras.layers import Flatten\n",
        "from keras.utils import plot_model\n",
        "from keras.layers.core import Activation\n",
        "from keras.layers.core import Dropout\n",
        "\n",
        "def getImageVariable(path):\n",
        "\tclassFolder=path\n",
        "\t# imagePath=\"/home/bharat/DL/assignment1/classes\"\n",
        "\timageList=[]\n",
        "\tcnt=0\n",
        "\ttempArry=np.zeros((96000,5),int)\n",
        "\n",
        "\tfor length in range(2):\n",
        "\t\tfor width in range(2):\n",
        "\t\t\tfor angle in range(12):\n",
        "\t\t\t\tfor color in range(2):\n",
        "\n",
        "\t\t\t\t\tfor variation in range(1000):\n",
        "\t\n",
        "\t\t\t\t\t\ttempArry[cnt,:]=[cnt,length,width,angle,color]\n",
        "\t\t\t\t\t\tcnt+=1\n",
        "\tnp.random.shuffle(tempArry)\n",
        "\n",
        "\t\n",
        "\tfor i in range(96000):\n",
        "\t\tstring=\"/\"+str(tempArry[i][1])+\"_\"+str(tempArry[i][2])+\"_\"+str(tempArry[i][3])+\"_\"+str(tempArry[i][4])\n",
        "\t\timgFolder=classFolder+string\n",
        "\t\timg=imgFolder+string+\"_\"+str(tempArry[i][0]%1000)+\".jpeg\"\n",
        "\t\timageList.append(cv2.imread(img))\n",
        "\n",
        "\treturn imageList,tempArry[:,1],tempArry[:,2],tempArry[:,3],tempArry[:,4]\n",
        "\n",
        "\n",
        "imagePath=\"/content/classes\" # jaha imagees ka folder h\n",
        "a, b, c, d, e = getImageVariable(imagePath)"
      ],
      "execution_count": 3,
      "outputs": [
        {
          "output_type": "stream",
          "text": [
            "Using TensorFlow backend.\n"
          ],
          "name": "stderr"
        }
      ]
    },
    {
      "metadata": {
        "id": "Ih_btSPgIaBf",
        "colab_type": "code",
        "outputId": "fd95ae45-a55d-41ef-cbf8-6926bdeaff93",
        "colab": {
          "base_uri": "https://localhost:8080/",
          "height": 51
        }
      },
      "cell_type": "code",
      "source": [
        "# from keras import Input\n",
        "# from keras import Model\n",
        "# from keras.layers.normalization import BatchNormalization\n",
        "# from keras.layers.convolutional import Conv2D\n",
        "# from keras.layers.convolutional import MaxPooling2D\n",
        "# from keras.layers.core import Dense\n",
        "# from keras.layers import Flatten\n",
        "# from keras.utils import plot_model\n",
        "\n",
        "# Single input and four output(classification heads)\n",
        "# Test and train split\n",
        "# First output length wise 0-7 and 1-15\n",
        "# second output width wise 0-1 and 1-3\n",
        "# third output color wise 0-red and 1-blue\n",
        "# fourth output angle wise (0-180, diff=15) - (0-11)\n",
        "\n",
        "\n",
        "\n",
        "# remember to normalize image array by dividing 255\n",
        "# try out batch normalization before and after activation\n",
        "\n",
        "input_train = np.array(a, dtype=np.float32)\n",
        "input_train /= 255.0\n",
        "print(input_train.shape)\n",
        "# # give names to all below - output1, ...\n",
        "output1_train = np.array(b)\n",
        "output2_train = np.array(c)\n",
        "print(output2_train.shape)\n",
        "output3_train = np.array(e)\n",
        "output4_train = np.array(d)\n",
        "\n",
        "splitSz = input_train.shape[0]\n",
        "# splitSz = 60000\n",
        "endd = splitSz\n",
        "splitSz = int(0.7*splitSz)\n",
        "\n",
        "input_train, input_test = input_train[:splitSz,:], input_train[splitSz:endd,:]\n",
        "output1_train, output1_test = output1_train[:splitSz], output1_train[splitSz:endd]\n",
        "output2_train, output2_test = output2_train[:splitSz], output2_train[splitSz:endd]\n",
        "output3_train, output3_test = output3_train[:splitSz], output3_train[splitSz:endd]\n",
        "output4_train, output4_test = output4_train[:splitSz], output4_train[splitSz:endd]"
      ],
      "execution_count": 4,
      "outputs": [
        {
          "output_type": "stream",
          "text": [
            "(96000, 28, 28, 3)\n",
            "(96000,)\n"
          ],
          "name": "stdout"
        }
      ]
    },
    {
      "metadata": {
        "id": "gqjqDuraQldo",
        "colab_type": "code",
        "outputId": "06bd37c1-aa11-4308-bac8-434dbe910ff9",
        "colab": {
          "base_uri": "https://localhost:8080/",
          "height": 1448
        }
      },
      "cell_type": "code",
      "source": [
        "\n",
        "inp = Input(shape=(28,28,3))\n",
        "\n",
        "# Conv -> Conv -> Pool\n",
        "x = Conv2D(32, (3,3), padding=\"same\")(inp)\n",
        "x = BatchNormalization()(x)\n",
        "x = Activation(\"relu\")(x)\n",
        "x = Conv2D(32, (3,3), padding=\"same\")(x)\n",
        "x = BatchNormalization()(x)\n",
        "x = Activation(\"relu\")(x)\n",
        "x = MaxPooling2D(pool_size=(2,2))(x)\n",
        "\n",
        "\n",
        "# Conv -> Conv -> Pool\n",
        "x = Conv2D(64, (3,3), padding=\"same\")(x)\n",
        "x = BatchNormalization()(x)\n",
        "x = Activation(\"relu\")(x)\n",
        "x = Conv2D(64, (3,3), padding=\"same\")(x)\n",
        "x = BatchNormalization()(x)\n",
        "x = Activation(\"relu\")(x)\n",
        "x = MaxPooling2D(pool_size=(2,2))(x)\n",
        "x = Flatten()(x)\n",
        "\n",
        "# above is the shared layer and our x now\n",
        "# is the feature map.\n",
        "# x = (7, 7, 64)\n",
        "\n",
        "# out1 corresponds to the length clasification head\n",
        "out1 = Dense(1024)(x)\n",
        "out1 = Activation(\"relu\")(out1)\n",
        "out1 = Dropout(0.5)(out1)\n",
        "# out1 = Dense(1024)(out1)\n",
        "# out1 = Activation(\"relu\")(out1)\n",
        "# out1 = Dropout(0.3)(out1)\n",
        "out1 = Dense(1)(out1)\n",
        "out1 = Activation(\"sigmoid\", name=\"out1\")(out1)\n",
        "\n",
        "# out2 corresponds to the width clasification head\n",
        "out2 = Dense(1024)(x)\n",
        "out2 = Activation(\"relu\")(out2)\n",
        "out2 = Dropout(0.5)(out2)\n",
        "# out2 = Dense(1024)(out2)\n",
        "# out2 = Activation(\"relu\")(out2)\n",
        "# out2 = Dropout(0.5)(out2)\n",
        "out2 = Dense(1)(out2)\n",
        "out2 = Activation(\"sigmoid\", name=\"out2\")(out2)\n",
        "\n",
        "# out3 corresponds to the color clasification head\n",
        "out3 = Dense(1024)(x)\n",
        "out3 = Activation(\"relu\")(out3)\n",
        "out3 = Dropout(0.5)(out3)\n",
        "# out3 = Dense(1024)(out3)\n",
        "# out3 = Activation(\"relu\")(out3)\n",
        "# out3 = Dropout(0.5)(out3)\n",
        "out3 = Dense(1)(out3)\n",
        "out3 = Activation(\"sigmoid\", name=\"out3\")(out3)\n",
        "\n",
        "# out4 corresponds \n",
        "out4 = Dense(1024)(x)\n",
        "out4 = Activation(\"relu\")(out4)\n",
        "# out4 = Dropout(0.2)(out4)\n",
        "# out4 = Dense(1024)(out4)\n",
        "# out4 = Activation(\"relu\")(out4)\n",
        "# out4 = Dropout(0.2)(out4)\n",
        "out4 = Dense(12)(out4)\n",
        "out4 = Activation(\"softmax\", name=\"out4\")(out4)\n",
        "\n",
        "# final model with one input and four classification heads\n",
        "model = Model(inputs=[inp], outputs=[out1, out2, out3, out4])\n",
        "\n",
        "model.summary()\n",
        "plot_model(model, to_file='assign2b.png')"
      ],
      "execution_count": 5,
      "outputs": [
        {
          "output_type": "stream",
          "text": [
            "WARNING:tensorflow:From /usr/local/lib/python3.6/dist-packages/tensorflow/python/framework/op_def_library.py:263: colocate_with (from tensorflow.python.framework.ops) is deprecated and will be removed in a future version.\n",
            "Instructions for updating:\n",
            "Colocations handled automatically by placer.\n",
            "WARNING:tensorflow:From /usr/local/lib/python3.6/dist-packages/keras/backend/tensorflow_backend.py:3445: calling dropout (from tensorflow.python.ops.nn_ops) with keep_prob is deprecated and will be removed in a future version.\n",
            "Instructions for updating:\n",
            "Please use `rate` instead of `keep_prob`. Rate should be set to `rate = 1 - keep_prob`.\n",
            "__________________________________________________________________________________________________\n",
            "Layer (type)                    Output Shape         Param #     Connected to                     \n",
            "==================================================================================================\n",
            "input_1 (InputLayer)            (None, 28, 28, 3)    0                                            \n",
            "__________________________________________________________________________________________________\n",
            "conv2d_1 (Conv2D)               (None, 28, 28, 32)   896         input_1[0][0]                    \n",
            "__________________________________________________________________________________________________\n",
            "batch_normalization_1 (BatchNor (None, 28, 28, 32)   128         conv2d_1[0][0]                   \n",
            "__________________________________________________________________________________________________\n",
            "activation_1 (Activation)       (None, 28, 28, 32)   0           batch_normalization_1[0][0]      \n",
            "__________________________________________________________________________________________________\n",
            "conv2d_2 (Conv2D)               (None, 28, 28, 32)   9248        activation_1[0][0]               \n",
            "__________________________________________________________________________________________________\n",
            "batch_normalization_2 (BatchNor (None, 28, 28, 32)   128         conv2d_2[0][0]                   \n",
            "__________________________________________________________________________________________________\n",
            "activation_2 (Activation)       (None, 28, 28, 32)   0           batch_normalization_2[0][0]      \n",
            "__________________________________________________________________________________________________\n",
            "max_pooling2d_1 (MaxPooling2D)  (None, 14, 14, 32)   0           activation_2[0][0]               \n",
            "__________________________________________________________________________________________________\n",
            "conv2d_3 (Conv2D)               (None, 14, 14, 64)   18496       max_pooling2d_1[0][0]            \n",
            "__________________________________________________________________________________________________\n",
            "batch_normalization_3 (BatchNor (None, 14, 14, 64)   256         conv2d_3[0][0]                   \n",
            "__________________________________________________________________________________________________\n",
            "activation_3 (Activation)       (None, 14, 14, 64)   0           batch_normalization_3[0][0]      \n",
            "__________________________________________________________________________________________________\n",
            "conv2d_4 (Conv2D)               (None, 14, 14, 64)   36928       activation_3[0][0]               \n",
            "__________________________________________________________________________________________________\n",
            "batch_normalization_4 (BatchNor (None, 14, 14, 64)   256         conv2d_4[0][0]                   \n",
            "__________________________________________________________________________________________________\n",
            "activation_4 (Activation)       (None, 14, 14, 64)   0           batch_normalization_4[0][0]      \n",
            "__________________________________________________________________________________________________\n",
            "max_pooling2d_2 (MaxPooling2D)  (None, 7, 7, 64)     0           activation_4[0][0]               \n",
            "__________________________________________________________________________________________________\n",
            "flatten_1 (Flatten)             (None, 3136)         0           max_pooling2d_2[0][0]            \n",
            "__________________________________________________________________________________________________\n",
            "dense_1 (Dense)                 (None, 1024)         3212288     flatten_1[0][0]                  \n",
            "__________________________________________________________________________________________________\n",
            "dense_3 (Dense)                 (None, 1024)         3212288     flatten_1[0][0]                  \n",
            "__________________________________________________________________________________________________\n",
            "dense_5 (Dense)                 (None, 1024)         3212288     flatten_1[0][0]                  \n",
            "__________________________________________________________________________________________________\n",
            "activation_5 (Activation)       (None, 1024)         0           dense_1[0][0]                    \n",
            "__________________________________________________________________________________________________\n",
            "activation_6 (Activation)       (None, 1024)         0           dense_3[0][0]                    \n",
            "__________________________________________________________________________________________________\n",
            "activation_7 (Activation)       (None, 1024)         0           dense_5[0][0]                    \n",
            "__________________________________________________________________________________________________\n",
            "dense_7 (Dense)                 (None, 1024)         3212288     flatten_1[0][0]                  \n",
            "__________________________________________________________________________________________________\n",
            "dropout_1 (Dropout)             (None, 1024)         0           activation_5[0][0]               \n",
            "__________________________________________________________________________________________________\n",
            "dropout_2 (Dropout)             (None, 1024)         0           activation_6[0][0]               \n",
            "__________________________________________________________________________________________________\n",
            "dropout_3 (Dropout)             (None, 1024)         0           activation_7[0][0]               \n",
            "__________________________________________________________________________________________________\n",
            "activation_8 (Activation)       (None, 1024)         0           dense_7[0][0]                    \n",
            "__________________________________________________________________________________________________\n",
            "dense_2 (Dense)                 (None, 1)            1025        dropout_1[0][0]                  \n",
            "__________________________________________________________________________________________________\n",
            "dense_4 (Dense)                 (None, 1)            1025        dropout_2[0][0]                  \n",
            "__________________________________________________________________________________________________\n",
            "dense_6 (Dense)                 (None, 1)            1025        dropout_3[0][0]                  \n",
            "__________________________________________________________________________________________________\n",
            "dense_8 (Dense)                 (None, 12)           12300       activation_8[0][0]               \n",
            "__________________________________________________________________________________________________\n",
            "out1 (Activation)               (None, 1)            0           dense_2[0][0]                    \n",
            "__________________________________________________________________________________________________\n",
            "out2 (Activation)               (None, 1)            0           dense_4[0][0]                    \n",
            "__________________________________________________________________________________________________\n",
            "out3 (Activation)               (None, 1)            0           dense_6[0][0]                    \n",
            "__________________________________________________________________________________________________\n",
            "out4 (Activation)               (None, 12)           0           dense_8[0][0]                    \n",
            "==================================================================================================\n",
            "Total params: 12,930,863\n",
            "Trainable params: 12,930,479\n",
            "Non-trainable params: 384\n",
            "__________________________________________________________________________________________________\n"
          ],
          "name": "stdout"
        }
      ]
    },
    {
      "metadata": {
        "id": "krvjYbsKIojY",
        "colab_type": "code",
        "outputId": "23bf1633-c0f1-4403-a504-665b38c87107",
        "colab": {
          "base_uri": "https://localhost:8080/",
          "height": 156
        }
      },
      "cell_type": "code",
      "source": [
        "\n",
        "\n",
        "model.compile(optimizer='adam', loss={'out1': 'binary_crossentropy', 'out2': 'binary_crossentropy', 'out3': 'binary_crossentropy', 'out4': 'sparse_categorical_crossentropy'}, metrics=['accuracy'])\n",
        "model.fit([input_train], {'out1': output1_train, 'out2': output2_train, 'out3': output3_train, 'out4': output4_train}, epochs=3, batch_size=128)\n",
        "# result = model.predict(input_test)\n",
        "\n",
        "# accuracy\n",
        "# print(result.shape)\n",
        "\n"
      ],
      "execution_count": 11,
      "outputs": [
        {
          "output_type": "stream",
          "text": [
            "Epoch 1/3\n",
            "67200/67200 [==============================] - 708s 11ms/step - loss: 0.0562 - out1_loss: 0.0120 - out2_loss: 0.0187 - out3_loss: 0.0063 - out4_loss: 0.0192 - out1_acc: 0.9988 - out2_acc: 0.9983 - out3_acc: 0.9995 - out4_acc: 0.9940\n",
            "Epoch 2/3\n",
            "67200/67200 [==============================] - 701s 10ms/step - loss: 0.0125 - out1_loss: 0.0049 - out2_loss: 2.4098e-04 - out3_loss: 0.0020 - out4_loss: 0.0054 - out1_acc: 0.9994 - out2_acc: 1.0000 - out3_acc: 0.9999 - out4_acc: 0.9984\n",
            "Epoch 3/3\n",
            "67200/67200 [==============================] - 700s 10ms/step - loss: 0.0230 - out1_loss: 0.0023 - out2_loss: 8.0198e-04 - out3_loss: 0.0023 - out4_loss: 0.0175 - out1_acc: 0.9997 - out2_acc: 0.9999 - out3_acc: 0.9998 - out4_acc: 0.9956\n"
          ],
          "name": "stdout"
        },
        {
          "output_type": "execute_result",
          "data": {
            "text/plain": [
              "<keras.callbacks.History at 0x7f4e58f0fa20>"
            ]
          },
          "metadata": {
            "tags": []
          },
          "execution_count": 11
        }
      ]
    },
    {
      "metadata": {
        "id": "DGN1bTDtwyyr",
        "colab_type": "code",
        "outputId": "da14faf8-d3b5-4b37-ad0c-a4f49e3f98a0",
        "colab": {
          "base_uri": "https://localhost:8080/",
          "height": 68
        }
      },
      "cell_type": "code",
      "source": [
        "print(input_test.shape)\n",
        "result = model.predict(input_test)\n",
        "score = model.evaluate(input_test, {'out1': output1_test, 'out2': output2_test, 'out3': output3_test, 'out4': output4_test})\n",
        "print(model.metrics_names)\n",
        "# print(result[3])\n"
      ],
      "execution_count": 12,
      "outputs": [
        {
          "output_type": "stream",
          "text": [
            "(28800, 28, 28, 3)\n",
            "28800/28800 [==============================] - 87s 3ms/step\n",
            "['loss', 'out1_loss', 'out2_loss', 'out3_loss', 'out4_loss', 'out1_acc', 'out2_acc', 'out3_acc', 'out4_acc']\n"
          ],
          "name": "stdout"
        }
      ]
    },
    {
      "metadata": {
        "id": "wilEZkWew2uZ",
        "colab_type": "code",
        "outputId": "1f2c88d2-614f-4033-e6e5-1e40e8a81b56",
        "colab": {
          "base_uri": "https://localhost:8080/",
          "height": 54
        }
      },
      "cell_type": "code",
      "source": [
        "# resultSave = np.array((result))\n",
        "print(score)\n",
        "resultSave = np.array(result[3])"
      ],
      "execution_count": 14,
      "outputs": [
        {
          "output_type": "stream",
          "text": [
            "[0.010354857048433435, 0.0020745564826939893, 1.0965336931197575e-07, 1.0963069167739074e-07, 0.008280081261354882, 0.9996875, 1.0, 1.0, 0.9970486111111111]\n"
          ],
          "name": "stdout"
        }
      ]
    },
    {
      "metadata": {
        "id": "5tg4QB_WYjd9",
        "colab_type": "code",
        "colab": {
          "base_uri": "https://localhost:8080/",
          "height": 51
        },
        "outputId": "155a3ced-a598-46a2-b89b-317487f5b337"
      },
      "cell_type": "code",
      "source": [
        "print(resultSave.shape)\n",
        "totalTest = 28800.0\n",
        "correctClassify = 0\n",
        "\n",
        "\n",
        "\n",
        "for i in range(28800):\n",
        "  if output1_test[i] == result[0][i] and output2_test[i] == result[1][i] and output3_test[i] == result[2][i] and output4_test[i] == np.argmax(resultSave[i]):\n",
        "    correctClassify += 1\n",
        "totalTest = 1.0 * correctClassify / totalTest\n",
        "print(totalTest)"
      ],
      "execution_count": 18,
      "outputs": [
        {
          "output_type": "stream",
          "text": [
            "(28800, 12)\n",
            "0.9949305555555555\n"
          ],
          "name": "stdout"
        }
      ]
    },
    {
      "metadata": {
        "id": "bU7N4A3RYk07",
        "colab_type": "code",
        "colab": {}
      },
      "cell_type": "code",
      "source": [
        ""
      ],
      "execution_count": 0,
      "outputs": []
    }
  ]
}