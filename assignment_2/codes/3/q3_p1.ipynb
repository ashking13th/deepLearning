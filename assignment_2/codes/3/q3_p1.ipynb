{
  "nbformat": 4,
  "nbformat_minor": 0,
  "metadata": {
    "colab": {
      "name": "activation_visualization_MNIST_q1_a2.ipynb",
      "version": "0.3.2",
      "provenance": []
    },
    "kernelspec": {
      "name": "python3",
      "display_name": "Python 3"
    },
    "accelerator": "GPU"
  },
  "cells": [
    {
      "metadata": {
        "id": "ZkL_KXK2ru1I",
        "colab_type": "code",
        "outputId": "c3171227-db26-401c-c1e7-daa00c8e00ef",
        "colab": {
          "base_uri": "https://localhost:8080/",
          "height": 34
        }
      },
      "cell_type": "code",
      "source": [
        "import tensorflow as tf\n",
        "import numpy as np\n",
        "import os\n",
        "import cv2\n",
        "import matplotlib.pyplot as plt\n",
        "from tensorflow.examples.tutorials.mnist import input_data\n",
        "from keras.layers import Input,InputLayer, Dense, Activation, ZeroPadding2D, BatchNormalization, Flatten, Conv2D\n",
        "from keras.layers import AveragePooling2D, MaxPooling2D, Dropout\n",
        "from keras.models import Sequential,Model\n",
        "from keras.optimizers import SGD\n",
        "from keras.callbacks import ModelCheckpoint,LearningRateScheduler\n",
        "import keras\n",
        "from keras import backend as K"
      ],
      "execution_count": 0,
      "outputs": [
        {
          "output_type": "stream",
          "text": [
            "Using TensorFlow backend.\n"
          ],
          "name": "stderr"
        }
      ]
    },
    {
      "metadata": {
        "id": "xeomXhRqryQ6",
        "colab_type": "code",
        "outputId": "17bf9333-fe2e-4e48-98ff-fbf2170f93c8",
        "colab": {
          "base_uri": "https://localhost:8080/",
          "height": 119
        }
      },
      "cell_type": "code",
      "source": [
        "mnist =keras.datasets.mnist\n",
        "\n",
        "(x_train, y_train), (x_test, y_test) = mnist.load_data()\n",
        "\n",
        "print(type(x_train))\n",
        "x_train = x_train.astype('float32')\n",
        "x_train /= 255\n",
        "x_train = x_train.reshape(x_train.shape[0], 28, 28, 1)\n",
        "x_test = x_test.reshape(x_test.shape[0], 28, 28, 1)\n",
        "# y_train = y_train.reshape(y_train.shape[0],1)\n",
        "\n",
        "# splitSz = x_train.shape[0]\n",
        "# splitSz = int(1.0*splitSz)\n",
        "\n",
        "# print(y_train.shape)\n",
        "# x_train, x_test = x_train[:splitSz,:], x_train[splitSz:,:]\n",
        "# y_train, y_test = y_train[:splitSz], y_train[splitSz:]\n",
        "\n",
        "print(y_train.shape)\n",
        "print(y_train[:10])\n",
        "print(x_test.shape)"
      ],
      "execution_count": 0,
      "outputs": [
        {
          "output_type": "stream",
          "text": [
            "Downloading data from https://s3.amazonaws.com/img-datasets/mnist.npz\n",
            "11493376/11490434 [==============================] - 0s 0us/step\n",
            "<class 'numpy.ndarray'>\n",
            "(60000,)\n",
            "[5 0 4 1 9 2 1 3 1 4]\n",
            "(10000, 28, 28, 1)\n"
          ],
          "name": "stdout"
        }
      ]
    },
    {
      "metadata": {
        "id": "sTELxBvCsF25",
        "colab_type": "code",
        "outputId": "028c4f3c-969b-4678-b5b0-dfc725d942f1",
        "colab": {
          "base_uri": "https://localhost:8080/",
          "height": 340
        }
      },
      "cell_type": "code",
      "source": [
        "model = Sequential()\n",
        "inp = Input(shape=(28,28,3))\n",
        "model.add(Conv2D(32, (3, 3), strides=1, activation='relu', padding=\"same\", input_shape=(28, 28,1)))\n",
        "model.add(BatchNormalization())\n",
        "model.add(MaxPooling2D(pool_size=(2,2), strides=2))\n",
        "model.add(Flatten())\n",
        "model.add(Dense(1024, activation=\"relu\"))\n",
        "\n",
        "out = model.add(Dense(10, activation='softmax'))\n",
        "# model = Model(inputs=[inp], outputs=[out])\n",
        "\n",
        "model.compile(optimizer='adam', loss='sparse_categorical_crossentropy', metrics=['accuracy'])\n",
        "model.summary()"
      ],
      "execution_count": 0,
      "outputs": [
        {
          "output_type": "stream",
          "text": [
            "_________________________________________________________________\n",
            "Layer (type)                 Output Shape              Param #   \n",
            "=================================================================\n",
            "conv2d_3 (Conv2D)            (None, 28, 28, 32)        320       \n",
            "_________________________________________________________________\n",
            "batch_normalization_3 (Batch (None, 28, 28, 32)        128       \n",
            "_________________________________________________________________\n",
            "max_pooling2d_3 (MaxPooling2 (None, 14, 14, 32)        0         \n",
            "_________________________________________________________________\n",
            "flatten_3 (Flatten)          (None, 6272)              0         \n",
            "_________________________________________________________________\n",
            "dense_5 (Dense)              (None, 1024)              6423552   \n",
            "_________________________________________________________________\n",
            "dense_6 (Dense)              (None, 10)                10250     \n",
            "=================================================================\n",
            "Total params: 6,434,250\n",
            "Trainable params: 6,434,186\n",
            "Non-trainable params: 64\n",
            "_________________________________________________________________\n"
          ],
          "name": "stdout"
        }
      ]
    },
    {
      "metadata": {
        "id": "Zugp8KgJsQzF",
        "colab_type": "code",
        "outputId": "87858ab3-a3a8-4ec1-c6c2-bd5343c52fde",
        "colab": {
          "base_uri": "https://localhost:8080/",
          "height": 275
        }
      },
      "cell_type": "code",
      "source": [
        "# print(y_train.shape)\n",
        "\n",
        "model.fit(x_train, y_train, batch_size=200, epochs=5)"
      ],
      "execution_count": 0,
      "outputs": [
        {
          "output_type": "stream",
          "text": [
            "WARNING:tensorflow:From /usr/local/lib/python3.6/dist-packages/tensorflow/python/ops/math_ops.py:3066: to_int32 (from tensorflow.python.ops.math_ops) is deprecated and will be removed in a future version.\n",
            "Instructions for updating:\n",
            "Use tf.cast instead.\n",
            "Epoch 1/5\n",
            "60000/60000 [==============================] - 11s 190us/step - loss: 0.1632 - acc: 0.9579\n",
            "Epoch 2/5\n",
            "60000/60000 [==============================] - 7s 123us/step - loss: 0.0322 - acc: 0.9899\n",
            "Epoch 3/5\n",
            "60000/60000 [==============================] - 7s 124us/step - loss: 0.0166 - acc: 0.9948\n",
            "Epoch 4/5\n",
            "60000/60000 [==============================] - 7s 123us/step - loss: 0.0094 - acc: 0.9971\n",
            "Epoch 5/5\n",
            "60000/60000 [==============================] - 7s 123us/step - loss: 0.0093 - acc: 0.9968\n"
          ],
          "name": "stdout"
        },
        {
          "output_type": "execute_result",
          "data": {
            "text/plain": [
              "<keras.callbacks.History at 0x7f7383ba7160>"
            ]
          },
          "metadata": {
            "tags": []
          },
          "execution_count": 6
        }
      ]
    },
    {
      "metadata": {
        "id": "K2zcJ06HsXfs",
        "colab_type": "code",
        "outputId": "0dd7648a-e599-4221-ff0b-3882491906b8",
        "colab": {
          "base_uri": "https://localhost:8080/",
          "height": 70
        }
      },
      "cell_type": "code",
      "source": [
        "score = model.evaluate(x_test, y_test)\n",
        "print('\\n', 'Test Acc = ', score[1])"
      ],
      "execution_count": 0,
      "outputs": [
        {
          "output_type": "stream",
          "text": [
            "10000/10000 [==============================] - 1s 90us/step\n",
            "\n",
            " Test Acc =  0.9124\n"
          ],
          "name": "stdout"
        }
      ]
    },
    {
      "metadata": {
        "id": "hhq0o5oAHww8",
        "colab_type": "code",
        "outputId": "971316ed-c463-4c1c-dedd-ad34c600d001",
        "colab": {
          "base_uri": "https://localhost:8080/",
          "height": 1163
        }
      },
      "cell_type": "code",
      "source": [
        "# model = model2\n",
        "def decodeImg(y):\n",
        "  '''function to convert a float array into \n",
        "     a valid unit8 image '''\n",
        "  \n",
        "  # normalizing the input\n",
        "  y -= y.mean()\n",
        "  y /= (y.std() + K.epsilon())\n",
        "  y *= 0.25\n",
        "  \n",
        "  # clipping to [0,1]\n",
        "  y += 0.5\n",
        "  y = np.clip(y, 0, 1).astype('uint8')\n",
        "  \n",
        "  # converting to RGB array\n",
        "#   y *= 255\n",
        "#   y = np.clip(y, 0, 255)\n",
        "  return y\n",
        "\n",
        "# visualization for convolutional filters\n",
        "\n",
        "def visualizeFilter(filterNum, imSize=28, epochs=20, alpha=0.1):\n",
        "  \n",
        "  layerOutput = model.get_layer(layerName).output\n",
        "  \n",
        "  # to maximize the output of the corresponding filter\n",
        "  loss = K.mean(layerOutput[:,:,:,filterNum])\n",
        "  \n",
        "  # computing gradient wrt to each input pixel\n",
        "  # it is list of tensor so applied the indexing\n",
        "  gradients = K.gradients(loss, model.input)[0]\n",
        "  \n",
        "  # normalizing the gradients\n",
        "  gradients /= (K.sqrt(K.mean(K.square(gradients))) + K.epsilon())\n",
        "\n",
        "  loopOver = K.function([model.input], [loss, gradients])\n",
        "  \n",
        "#   inpImage = (np.random.random((1, imSize, imSize, 3)) - 0.5) * 20 + 128\n",
        "  inpImage = np.zeros((1, imSize, imSize, 1))\n",
        "  \n",
        "  for _ in range(epochs):\n",
        "    lossVal, gradVal = loopOver([inpImage])\n",
        "    inpImage += gradVal * alpha\n",
        "\n",
        "  # taking in the actual image size\n",
        "  return decodeImg(inpImage[0]), lossVal\n",
        "\n",
        "def makeVisualization(filters, n=None):\n",
        "  '''plot the visualizations of the filters'''\n",
        "  \n",
        "  if n is None:\n",
        "    n = int(np.floor(np.sqrt(len(filters))))\n",
        "    \n",
        "  filters.sort(key=lambda x: x[1], reverse=True)\n",
        "  filters = filters[:n * n]\n",
        "  \n",
        "  MARGIN = 3\n",
        "  width = n * dim + (n - 1) * MARGIN\n",
        "  height = n * dim + (n - 1) * MARGIN\n",
        "  \n",
        "  # making a black image and then paste our visualizations onto that\n",
        "  allFilters = np.zeros((width, height, 1), dtype='uint8')\n",
        "  \n",
        "  # filling the above with our visualizations\n",
        "  for i in range(n):\n",
        "    for j in range(n):\n",
        "      img, _ = filters[i * n + j]\n",
        "      widthMargin = (dim + MARGIN) * i\n",
        "      heightMargin = (dim + MARGIN) * j\n",
        "      \n",
        "      allFilters[\n",
        "          widthMargin: widthMargin + dim,\n",
        "          heightMargin: heightMargin + dim, :] = img\n",
        "  \n",
        "#   allFilters[:, :, 0], allFilters[:, :, 2] = allFilters[:, :, 2], allFilters[:, :, 0]\n",
        "  vis = allFilters\n",
        "#   vis.save('visualize.png')\n",
        "#   vis.show()\n",
        "  plt.imshow(allFilters)\n",
        "  \n",
        "layerName = 'conv2d_3'\n",
        "# inputImg = model.inputs[0]\n",
        "# print(inputImg.op.type)\n",
        "# layerDict = dict([(layer.name, layer) for layer in model.layers[1:]])\n",
        "# outputLayer = layerDict[layerName]\n",
        "# print(outputLayer.output.shape)\n",
        "\n",
        "processedFilters = []\n",
        "for fl in range(model.get_layer(layerName).output.shape[-1]):\n",
        "  imgLoss = visualizeFilter(fl)\n",
        "  \n",
        "  if imgLoss is not None:\n",
        "    processedFilters.append(imgLoss)\n",
        "\n",
        "dim = 28\n",
        "makeVisualization(processedFilters)\n",
        "    "
      ],
      "execution_count": 0,
      "outputs": [
        {
          "output_type": "error",
          "ename": "TypeError",
          "evalue": "ignored",
          "traceback": [
            "\u001b[0;31m---------------------------------------------------------------------------\u001b[0m",
            "\u001b[0;31mTypeError\u001b[0m                                 Traceback (most recent call last)",
            "\u001b[0;32m<ipython-input-8-8f559736b5b8>\u001b[0m in \u001b[0;36m<module>\u001b[0;34m()\u001b[0m\n\u001b[1;32m     93\u001b[0m \u001b[0;34m\u001b[0m\u001b[0m\n\u001b[1;32m     94\u001b[0m \u001b[0mdim\u001b[0m \u001b[0;34m=\u001b[0m \u001b[0;36m28\u001b[0m\u001b[0;34m\u001b[0m\u001b[0;34m\u001b[0m\u001b[0m\n\u001b[0;32m---> 95\u001b[0;31m \u001b[0mmakeVisualization\u001b[0m\u001b[0;34m(\u001b[0m\u001b[0mprocessedFilters\u001b[0m\u001b[0;34m)\u001b[0m\u001b[0;34m\u001b[0m\u001b[0;34m\u001b[0m\u001b[0m\n\u001b[0m\u001b[1;32m     96\u001b[0m \u001b[0;34m\u001b[0m\u001b[0m\n",
            "\u001b[0;32m<ipython-input-8-8f559736b5b8>\u001b[0m in \u001b[0;36mmakeVisualization\u001b[0;34m(filters, n)\u001b[0m\n\u001b[1;32m     76\u001b[0m \u001b[0;31m#   vis.save('visualize.png')\u001b[0m\u001b[0;34m\u001b[0m\u001b[0;34m\u001b[0m\u001b[0;34m\u001b[0m\u001b[0m\n\u001b[1;32m     77\u001b[0m \u001b[0;31m#   vis.show()\u001b[0m\u001b[0;34m\u001b[0m\u001b[0;34m\u001b[0m\u001b[0;34m\u001b[0m\u001b[0m\n\u001b[0;32m---> 78\u001b[0;31m   \u001b[0mplt\u001b[0m\u001b[0;34m.\u001b[0m\u001b[0mimshow\u001b[0m\u001b[0;34m(\u001b[0m\u001b[0mallFilters\u001b[0m\u001b[0;34m)\u001b[0m\u001b[0;34m\u001b[0m\u001b[0;34m\u001b[0m\u001b[0m\n\u001b[0m\u001b[1;32m     79\u001b[0m \u001b[0;34m\u001b[0m\u001b[0m\n\u001b[1;32m     80\u001b[0m \u001b[0mlayerName\u001b[0m \u001b[0;34m=\u001b[0m \u001b[0;34m'conv2d_3'\u001b[0m\u001b[0;34m\u001b[0m\u001b[0;34m\u001b[0m\u001b[0m\n",
            "\u001b[0;32m/usr/local/lib/python3.6/dist-packages/matplotlib/pyplot.py\u001b[0m in \u001b[0;36mimshow\u001b[0;34m(X, cmap, norm, aspect, interpolation, alpha, vmin, vmax, origin, extent, shape, filternorm, filterrad, imlim, resample, url, data, **kwargs)\u001b[0m\n\u001b[1;32m   2697\u001b[0m         \u001b[0mfilternorm\u001b[0m\u001b[0;34m=\u001b[0m\u001b[0mfilternorm\u001b[0m\u001b[0;34m,\u001b[0m \u001b[0mfilterrad\u001b[0m\u001b[0;34m=\u001b[0m\u001b[0mfilterrad\u001b[0m\u001b[0;34m,\u001b[0m \u001b[0mimlim\u001b[0m\u001b[0;34m=\u001b[0m\u001b[0mimlim\u001b[0m\u001b[0;34m,\u001b[0m\u001b[0;34m\u001b[0m\u001b[0;34m\u001b[0m\u001b[0m\n\u001b[1;32m   2698\u001b[0m         resample=resample, url=url, **({\"data\": data} if data is not\n\u001b[0;32m-> 2699\u001b[0;31m         None else {}), **kwargs)\n\u001b[0m\u001b[1;32m   2700\u001b[0m     \u001b[0msci\u001b[0m\u001b[0;34m(\u001b[0m\u001b[0m__ret\u001b[0m\u001b[0;34m)\u001b[0m\u001b[0;34m\u001b[0m\u001b[0;34m\u001b[0m\u001b[0m\n\u001b[1;32m   2701\u001b[0m     \u001b[0;32mreturn\u001b[0m \u001b[0m__ret\u001b[0m\u001b[0;34m\u001b[0m\u001b[0;34m\u001b[0m\u001b[0m\n",
            "\u001b[0;32m/usr/local/lib/python3.6/dist-packages/matplotlib/__init__.py\u001b[0m in \u001b[0;36minner\u001b[0;34m(ax, data, *args, **kwargs)\u001b[0m\n\u001b[1;32m   1808\u001b[0m                         \u001b[0;34m\"the Matplotlib list!)\"\u001b[0m \u001b[0;34m%\u001b[0m \u001b[0;34m(\u001b[0m\u001b[0mlabel_namer\u001b[0m\u001b[0;34m,\u001b[0m \u001b[0mfunc\u001b[0m\u001b[0;34m.\u001b[0m\u001b[0m__name__\u001b[0m\u001b[0;34m)\u001b[0m\u001b[0;34m,\u001b[0m\u001b[0;34m\u001b[0m\u001b[0;34m\u001b[0m\u001b[0m\n\u001b[1;32m   1809\u001b[0m                         RuntimeWarning, stacklevel=2)\n\u001b[0;32m-> 1810\u001b[0;31m             \u001b[0;32mreturn\u001b[0m \u001b[0mfunc\u001b[0m\u001b[0;34m(\u001b[0m\u001b[0max\u001b[0m\u001b[0;34m,\u001b[0m \u001b[0;34m*\u001b[0m\u001b[0margs\u001b[0m\u001b[0;34m,\u001b[0m \u001b[0;34m**\u001b[0m\u001b[0mkwargs\u001b[0m\u001b[0;34m)\u001b[0m\u001b[0;34m\u001b[0m\u001b[0;34m\u001b[0m\u001b[0m\n\u001b[0m\u001b[1;32m   1811\u001b[0m \u001b[0;34m\u001b[0m\u001b[0m\n\u001b[1;32m   1812\u001b[0m         inner.__doc__ = _add_data_doc(inner.__doc__,\n",
            "\u001b[0;32m/usr/local/lib/python3.6/dist-packages/matplotlib/axes/_axes.py\u001b[0m in \u001b[0;36mimshow\u001b[0;34m(self, X, cmap, norm, aspect, interpolation, alpha, vmin, vmax, origin, extent, shape, filternorm, filterrad, imlim, resample, url, **kwargs)\u001b[0m\n\u001b[1;32m   5492\u001b[0m                               resample=resample, **kwargs)\n\u001b[1;32m   5493\u001b[0m \u001b[0;34m\u001b[0m\u001b[0m\n\u001b[0;32m-> 5494\u001b[0;31m         \u001b[0mim\u001b[0m\u001b[0;34m.\u001b[0m\u001b[0mset_data\u001b[0m\u001b[0;34m(\u001b[0m\u001b[0mX\u001b[0m\u001b[0;34m)\u001b[0m\u001b[0;34m\u001b[0m\u001b[0;34m\u001b[0m\u001b[0m\n\u001b[0m\u001b[1;32m   5495\u001b[0m         \u001b[0mim\u001b[0m\u001b[0;34m.\u001b[0m\u001b[0mset_alpha\u001b[0m\u001b[0;34m(\u001b[0m\u001b[0malpha\u001b[0m\u001b[0;34m)\u001b[0m\u001b[0;34m\u001b[0m\u001b[0;34m\u001b[0m\u001b[0m\n\u001b[1;32m   5496\u001b[0m         \u001b[0;32mif\u001b[0m \u001b[0mim\u001b[0m\u001b[0;34m.\u001b[0m\u001b[0mget_clip_path\u001b[0m\u001b[0;34m(\u001b[0m\u001b[0;34m)\u001b[0m \u001b[0;32mis\u001b[0m \u001b[0;32mNone\u001b[0m\u001b[0;34m:\u001b[0m\u001b[0;34m\u001b[0m\u001b[0;34m\u001b[0m\u001b[0m\n",
            "\u001b[0;32m/usr/local/lib/python3.6/dist-packages/matplotlib/image.py\u001b[0m in \u001b[0;36mset_data\u001b[0;34m(self, A)\u001b[0m\n\u001b[1;32m    636\u001b[0m         if not (self._A.ndim == 2\n\u001b[1;32m    637\u001b[0m                 or self._A.ndim == 3 and self._A.shape[-1] in [3, 4]):\n\u001b[0;32m--> 638\u001b[0;31m             \u001b[0;32mraise\u001b[0m \u001b[0mTypeError\u001b[0m\u001b[0;34m(\u001b[0m\u001b[0;34m\"Invalid dimensions for image data\"\u001b[0m\u001b[0;34m)\u001b[0m\u001b[0;34m\u001b[0m\u001b[0;34m\u001b[0m\u001b[0m\n\u001b[0m\u001b[1;32m    639\u001b[0m \u001b[0;34m\u001b[0m\u001b[0m\n\u001b[1;32m    640\u001b[0m         \u001b[0;32mif\u001b[0m \u001b[0mself\u001b[0m\u001b[0;34m.\u001b[0m\u001b[0m_A\u001b[0m\u001b[0;34m.\u001b[0m\u001b[0mndim\u001b[0m \u001b[0;34m==\u001b[0m \u001b[0;36m3\u001b[0m\u001b[0;34m:\u001b[0m\u001b[0;34m\u001b[0m\u001b[0;34m\u001b[0m\u001b[0m\n",
            "\u001b[0;31mTypeError\u001b[0m: Invalid dimensions for image data"
          ]
        },
        {
          "output_type": "display_data",
          "data": {
            "image/png": "[encoded data removed]",
            "text/plain": [
              "<Figure size 576x396 with 1 Axes>"
            ]
          },
          "metadata": {
            "tags": []
          }
        }
      ]
    },
    {
      "metadata": {
        "id": "Va-wpFd7H1et",
        "colab_type": "code",
        "outputId": "49647e6b-ec13-48e4-8b84-03c48ef50e6e",
        "colab": {
          "base_uri": "https://localhost:8080/",
          "height": 590
        }
      },
      "cell_type": "code",
      "source": [
        "# import matplotlib.pyplot as plt\n",
        "# imgPath = \"/content/classes/0_1_7_0/0_1_7_0_0.jpeg\"\n",
        "\n",
        "# # z is a float32 Numpy array of shape (28, 28, 3)\n",
        "# z = cv2.imread(imgPath)\n",
        "\n",
        "# # adding a dimension to transform the array into a batch\n",
        "# z = np.expand_dims(z, axis=0)\n",
        "# z = np.array(z, dtype=np.float32)\n",
        "# z /= 255.0\n",
        "# print(\"zs: \",z.shape)\n",
        "num = 1001\n",
        "z = np.array([x_test[num]])\n",
        "print(\"zs: \",z.shape)\n",
        "# z = z[0]\n",
        "preds = model.predict(z)\n",
        "print(preds)\n",
        "\n",
        "print(\"toy: \", len(model.outputs))\n",
        "print(\"toy: \", (model.outputs[0].shape))\n",
        "print(y_test[num])\n",
        "\n",
        "print(model.output)\n",
        "# pass the class here\n",
        "lineOutput = model.output[:,int(y_test[num])]\n",
        "print(lineOutput.shape)\n",
        "print(model.get_layer(layerName).output.shape)\n",
        "# gradient of one of the output class wrt to the output feature map of the given layer\n",
        "grads = K.gradients(lineOutput, model.get_layer(layerName).output)[0]\n",
        "\n",
        "# print(grads.shape)\n",
        "\n",
        "# return the mean intensity of the gradient over a specific feature map channel\n",
        "pooledGrads = K.mean(grads, axis=(0,1,2))\n",
        "\n",
        "print(pooledGrads)\n",
        "\n",
        "# below function allows to access the values of pooledGrads and the output feature map\n",
        "# given a image\n",
        "iterate = K.function([model.input], [pooledGrads, model.get_layer(layerName).output[0]])\n",
        "\n",
        "# get the value for the given input\n",
        "pooledValue, convOutput = iterate([z])\n",
        "\n",
        "# print(pooledValue)\n",
        "\n",
        "# multiplying each channel(filter) in the feature map array by 'how\n",
        "# important the channel is with reagrd to given class'\n",
        "for i in range(model.get_layer(layerName).output.shape[-1]):\n",
        "  convOutput[:, :, i] *= pooledValue[i]\n",
        "  \n",
        "# channel wise mean of the resulting feature map\n",
        "heatmap = np.mean(convOutput, axis=-1)\n",
        "\n",
        "# for visualization normalizing the value b/w 0 and 1\n",
        "heatmap = np.maximum(heatmap, 0)\n",
        "heatmap /= np.max(heatmap)\n",
        "\n",
        "plt.figure()\n",
        "fig, ax = plt.subplots(1, 2, figsize=(15,15))\n",
        "# plt.grid(False)\n",
        "ax[1].set_yticklabels([])\n",
        "ax[0].set_xticklabels([])\n",
        "ax[1].grid(False)\n",
        "ax[0].grid(False)\n",
        "\n",
        "print(z.shape)\n",
        "im = ax[1].imshow(heatmap, cmap=\"viridis\")\n",
        "ax[0].imshow(z.squeeze())\n",
        "fig.subplots_adjust(right=0.8)\n",
        "cbar_ax = fig.add_axes([0.85, 0.35, 0.01, 0.3])\n",
        "fig.colorbar(im, cax=cbar_ax, aspect=10)\n",
        "\n",
        "plt.savefig(\"hx.png\")\n",
        "# plt.show(heatmap)"
      ],
      "execution_count": 0,
      "outputs": [
        {
          "output_type": "stream",
          "text": [
            "zs:  (1, 28, 28, 1)\n",
            "[[1. 0. 0. 0. 0. 0. 0. 0. 0. 0.]]\n",
            "toy:  1\n",
            "toy:  (?, 10)\n",
            "0\n",
            "Tensor(\"dense_2/Softmax:0\", shape=(?, 10), dtype=float32)\n",
            "(?,)\n",
            "(?, 28, 28, 32)\n",
            "Tensor(\"Mean_266:0\", shape=(32,), dtype=float32)\n"
          ],
          "name": "stdout"
        },
        {
          "output_type": "stream",
          "text": [
            "/usr/local/lib/python3.6/dist-packages/ipykernel_launcher.py:46: RuntimeWarning: invalid value encountered in true_divide\n"
          ],
          "name": "stderr"
        },
        {
          "output_type": "stream",
          "text": [
            "(1, 28, 28, 1)\n"
          ],
          "name": "stdout"
        },
        {
          "output_type": "display_data",
          "data": {
            "text/plain": [
              "<Figure size 576x396 with 0 Axes>"
            ]
          },
          "metadata": {
            "tags": []
          }
        },
        {
          "output_type": "display_data",
          "data": {
            "image/png": "[encoded data removed]",
            "text/plain": [
              "<Figure size 1080x1080 with 3 Axes>"
            ]
          },
          "metadata": {
            "tags": []
          }
        }
      ]
    },
    {
      "metadata": {
        "id": "wUi3A0F0BkSN",
        "colab_type": "code",
        "colab": {}
      },
      "cell_type": "code",
      "source": [
        "layer_outputs = [layer.output for layer in model.layers]\n",
        "activation_model = Model(inputs=model.input, outputs=layer_outputs)\n",
        "activations = activation_model.predict(x_test[119].reshape(1,28,28,1))\n",
        " \n",
        "def display_activation(activations, col_size, row_size, act_index): \n",
        "    size = activations[0].shape[1]\n",
        "    scale = 1. / size\n",
        "    activation = activations[act_index]\n",
        "    activation_index=0\n",
        "    plt.figure()\n",
        "    \n",
        "    fig, ax = plt.subplots(row_size, col_size, figsize=(24,10))\n",
        "    fig.suptitle('Activation Map', fontsize=16)\n",
        "    fig.tight_layout()\n",
        "    fig.subplots_adjust(top=0.95)\n",
        "    \n",
        "    for row in range(0,row_size):\n",
        "        for col in range(0,col_size):\n",
        "            ax[row][col].grid(False)\n",
        "            ax[row][col].set_yticklabels([])\n",
        "            ax[row][col].set_xticklabels([])\n",
        "\n",
        "            im = ax[row][col].imshow(activation[0, :, :, activation_index], cmap='viridis', aspect='auto')\n",
        "            activation_index += 1\n",
        "#     plt.colorbar()\n",
        "    fig.subplots_adjust(right=0.8)\n",
        "    cbar_ax = fig.add_axes([0.85, 0.10, 0.01, 0.8])\n",
        "    fig.colorbar(im, cax=cbar_ax, aspect=10)\n",
        "\n",
        "    plt.savefig('abc.png')\n",
        "# activations.shape"
      ],
      "execution_count": 0,
      "outputs": []
    },
    {
      "metadata": {
        "id": "bpmEFfKhK0oW",
        "colab_type": "code",
        "colab": {}
      },
      "cell_type": "code",
      "source": [
        "# plt.imshow(x_train[10].reshape(28,28))\n",
        "# print(x_train[10].shape)\n",
        "# activations[0].shape\n",
        "# a=activations[0].reshape(28,28,32)"
      ],
      "execution_count": 0,
      "outputs": []
    },
    {
      "metadata": {
        "id": "p-q8XLLtLH6B",
        "colab_type": "code",
        "colab": {}
      },
      "cell_type": "code",
      "source": [
        "\n",
        "# plt.imshow(a[:,:,5])"
      ],
      "execution_count": 0,
      "outputs": []
    },
    {
      "metadata": {
        "id": "Wq-eFzbYJAzf",
        "colab_type": "code",
        "outputId": "4cfc377d-64c5-4277-a159-5896b35dd849",
        "colab": {
          "base_uri": "https://localhost:8080/",
          "height": 762
        }
      },
      "cell_type": "code",
      "source": [
        "print(activations[0].shape)\n",
        "display_activation(activations, 8, 4 ,0 )\n",
        "# display_activation(activations, 4, 8 ,1 )\n",
        "# display_activation(activations, 4, 8 ,2 )"
      ],
      "execution_count": 0,
      "outputs": [
        {
          "output_type": "stream",
          "text": [
            "(1, 28, 28, 32)\n"
          ],
          "name": "stdout"
        },
        {
          "output_type": "display_data",
          "data": {
            "text/plain": [
              "<Figure size 576x396 with 0 Axes>"
            ]
          },
          "metadata": {
            "tags": []
          }
        },
        {
          "output_type": "display_data",
          "data": {
            "image/png": "[encoded data removed]",
            "text/plain": [
              "<Figure size 1728x720 with 33 Axes>"
            ]
          },
          "metadata": {
            "tags": []
          }
        }
      ]
    },
    {
      "metadata": {
        "id": "yEOqRdXpHZWw",
        "colab_type": "code",
        "colab": {}
      },
      "cell_type": "code",
      "source": [
        ""
      ],
      "execution_count": 0,
      "outputs": []
    }
  ]
}