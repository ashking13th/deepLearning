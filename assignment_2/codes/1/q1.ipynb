{
  "nbformat": 4,
  "nbformat_minor": 0,
  "metadata": {
    "colab": {
      "name": "q1.ipynb",
      "version": "0.3.2",
      "provenance": [],
      "collapsed_sections": [],
      "toc_visible": true
    },
    "kernelspec": {
      "name": "python3",
      "display_name": "Python 3"
    },
    "accelerator": "GPU"
  },
  "cells": [
    {
      "metadata": {
        "id": "nV4s9SkDZQS-",
        "colab_type": "text"
      },
      "cell_type": "markdown",
      "source": [
        "Basic Imports"
      ]
    },
    {
      "metadata": {
        "id": "2Qy7GowXZQTA",
        "colab_type": "code",
        "colab": {}
      },
      "cell_type": "code",
      "source": [
        "import tensorflow as tf\n",
        "import numpy as np\n",
        "import os\n",
        "import cv2\n",
        "import matplotlib.pyplot as plt\n",
        "from tensorflow.examples.tutorials.mnist import input_data"
      ],
      "execution_count": 0,
      "outputs": []
    },
    {
      "metadata": {
        "id": "T9iQmXJ8ZQTF",
        "colab_type": "text"
      },
      "cell_type": "markdown",
      "source": [
        "Importing the MNIST dataset"
      ]
    },
    {
      "metadata": {
        "id": "UWwRMNqcZQTQ",
        "colab_type": "code",
        "outputId": "73e78648-19af-4c03-947b-02ef0f9f1369",
        "colab": {
          "base_uri": "https://localhost:8080/",
          "height": 122
        }
      },
      "cell_type": "code",
      "source": [
        "mnist = tf.keras.datasets.mnist\n",
        "\n",
        "(x_train, y_train), (x_test, y_test) = mnist.load_data()\n",
        "\n",
        "print(type(x_train))\n",
        "x_train = x_train.astype('float32')\n",
        "x_train /= 255\n",
        "x_train = x_train.reshape(x_train.shape[0], 28, 28, 1)\n",
        "x_test = x_test.reshape(x_test.shape[0], 28, 28, 1)\n",
        "# y_train = y_train.reshape(y_train.shape[0],1)\n",
        "\n",
        "# splitSz = x_train.shape[0]\n",
        "# splitSz = int(1.0*splitSz)\n",
        "\n",
        "# print(y_train.shape)\n",
        "# x_train, x_test = x_train[:splitSz,:], x_train[splitSz:,:]\n",
        "# y_train, y_test = y_train[:splitSz], y_train[splitSz:]\n",
        "\n",
        "print(y_train.shape)\n",
        "print(y_train[:10])\n",
        "print(x_test.shape)"
      ],
      "execution_count": 0,
      "outputs": [
        {
          "output_type": "stream",
          "text": [
            "Downloading data from https://storage.googleapis.com/tensorflow/tf-keras-datasets/mnist.npz\n",
            "11493376/11490434 [==============================] - 0s 0us/step\n",
            "<class 'numpy.ndarray'>\n",
            "(60000,)\n",
            "[5 0 4 1 9 2 1 3 1 4]\n",
            "(10000, 28, 28, 1)\n"
          ],
          "name": "stdout"
        }
      ]
    },
    {
      "metadata": {
        "id": "WKGz-URMZQT6",
        "colab_type": "text"
      },
      "cell_type": "markdown",
      "source": [
        "### Model\n",
        "1. 7x7 Convolutional Layer with 32 ﬁlters and stride of 1.\n",
        "2. ReLU Activation Layer.\n",
        "3. Batch Normalization Layer\n",
        "4. 2x2 Max Pooling layer with a stride of 2\n",
        "5. fully connected layer with 1024 output units.\n",
        "6. ReLU Activation Layer."
      ]
    },
    {
      "metadata": {
        "id": "QIHR5M4pZQT8",
        "colab_type": "code",
        "outputId": "b28a3d5d-622b-46dc-b232-4481c9b72423",
        "colab": {
          "base_uri": "https://localhost:8080/",
          "height": 351
        }
      },
      "cell_type": "code",
      "source": [
        "model = tf.keras.Sequential()\n",
        "model.add(tf.keras.layers.Conv2D(32, (3, 3), strides=1, activation='relu', padding=\"same\", input_shape=(28, 28,1)))\n",
        "model.add(tf.keras.layers.BatchNormalization())\n",
        "model.add(tf.keras.layers.MaxPool2D(pool_size=(2,2), strides=2))\n",
        "model.add(tf.keras.layers.Flatten())\n",
        "model.add(tf.keras.layers.Dense(1024, activation=\"relu\"))\n",
        "\n",
        "model.add(tf.keras.layers.Dense(10, activation='softmax'))\n",
        "\n",
        "model.compile(optimizer='adam', loss='sparse_categorical_crossentropy', metrics=['accuracy'])\n",
        "model.summary()"
      ],
      "execution_count": 0,
      "outputs": [
        {
          "output_type": "stream",
          "text": [
            "_________________________________________________________________\n",
            "Layer (type)                 Output Shape              Param #   \n",
            "=================================================================\n",
            "conv2d_22 (Conv2D)           (None, 28, 28, 32)        320       \n",
            "_________________________________________________________________\n",
            "batch_normalization_v1_10 (B (None, 28, 28, 32)        128       \n",
            "_________________________________________________________________\n",
            "max_pooling2d_19 (MaxPooling (None, 14, 14, 32)        0         \n",
            "_________________________________________________________________\n",
            "flatten_11 (Flatten)         (None, 6272)              0         \n",
            "_________________________________________________________________\n",
            "dense_23 (Dense)             (None, 1024)              6423552   \n",
            "_________________________________________________________________\n",
            "dense_24 (Dense)             (None, 10)                10250     \n",
            "=================================================================\n",
            "Total params: 6,434,250\n",
            "Trainable params: 6,434,186\n",
            "Non-trainable params: 64\n",
            "_________________________________________________________________\n"
          ],
          "name": "stdout"
        }
      ]
    },
    {
      "metadata": {
        "id": "soYtnlXqZQUR",
        "colab_type": "code",
        "outputId": "d8be4c7a-2d67-4211-f0bd-c102b1f19358",
        "colab": {
          "base_uri": "https://localhost:8080/",
          "height": 404
        }
      },
      "cell_type": "code",
      "source": [
        "print(y_train.shape)\n",
        "\n",
        "model.fit(x_train, y_train, batch_size=64, epochs=10)"
      ],
      "execution_count": 0,
      "outputs": [
        {
          "output_type": "stream",
          "text": [
            "(60000,)\n",
            "Epoch 1/10\n",
            "60000/60000 [==============================] - 14s 238us/sample - loss: 0.3876 - acc: 0.9472\n",
            "Epoch 2/10\n",
            "60000/60000 [==============================] - 13s 224us/sample - loss: 0.0368 - acc: 0.9884\n",
            "Epoch 3/10\n",
            "60000/60000 [==============================] - 13s 220us/sample - loss: 0.0220 - acc: 0.9931\n",
            "Epoch 4/10\n",
            "60000/60000 [==============================] - 13s 220us/sample - loss: 0.0197 - acc: 0.9937\n",
            "Epoch 5/10\n",
            "60000/60000 [==============================] - 13s 221us/sample - loss: 0.0147 - acc: 0.9954\n",
            "Epoch 6/10\n",
            "60000/60000 [==============================] - 13s 220us/sample - loss: 0.0127 - acc: 0.9960\n",
            "Epoch 7/10\n",
            "60000/60000 [==============================] - 13s 220us/sample - loss: 0.0170 - acc: 0.9952\n",
            "Epoch 8/10\n",
            "60000/60000 [==============================] - 13s 221us/sample - loss: 0.0111 - acc: 0.9968\n",
            "Epoch 9/10\n",
            "60000/60000 [==============================] - 13s 221us/sample - loss: 0.0094 - acc: 0.9973\n",
            "Epoch 10/10\n",
            "60000/60000 [==============================] - 13s 219us/sample - loss: 0.0071 - acc: 0.9979\n"
          ],
          "name": "stdout"
        },
        {
          "output_type": "execute_result",
          "data": {
            "text/plain": [
              "<tensorflow.python.keras.callbacks.History at 0x7f76568a17b8>"
            ]
          },
          "metadata": {
            "tags": []
          },
          "execution_count": 4
        }
      ]
    },
    {
      "metadata": {
        "id": "u0o-by3BZQUY",
        "colab_type": "code",
        "outputId": "32d8f055-4041-412c-8841-c0ebb0babc99",
        "colab": {
          "base_uri": "https://localhost:8080/",
          "height": 70
        }
      },
      "cell_type": "code",
      "source": [
        "score = model.evaluate(x_test, y_test)\n",
        "print('\\n', 'Test Acc = ', score[1])"
      ],
      "execution_count": 0,
      "outputs": [
        {
          "output_type": "stream",
          "text": [
            "10000/10000 [==============================] - 1s 98us/sample - loss: 5.0916 - acc: 0.6837\n",
            "\n",
            " Test Acc =  0.6837\n"
          ],
          "name": "stdout"
        }
      ]
    },
    {
      "metadata": {
        "id": "__4eZRf_c19r",
        "colab_type": "code",
        "outputId": "b8d1554d-0ac9-4754-c0fb-acef0aeb2e29",
        "colab": {
          "base_uri": "https://localhost:8080/",
          "height": 633
        }
      },
      "cell_type": "code",
      "source": [
        "model = tf.keras.Sequential()\n",
        "model.add(tf.keras.layers.Conv2D(32, (3, 3), strides=1, activation='relu', padding=\"same\", input_shape=(28, 28,1)))\n",
        "model.add(tf.keras.layers.BatchNormalization())\n",
        "model.add(tf.keras.layers.MaxPool2D(pool_size=(2,2), strides=2))\n",
        "model.add(tf.keras.layers.Flatten())\n",
        "model.add(tf.keras.layers.Dense(1024, activation=\"relu\"))\n",
        "model.add(tf.keras.layers.Dense(1024, activation=\"relu\"))\n",
        "\n",
        "model.add(tf.keras.layers.Dense(10, activation='softmax'))\n",
        "\n",
        "model.compile(optimizer='adam', loss='sparse_categorical_crossentropy', metrics=['accuracy'])\n",
        "model.summary()\n",
        "\n",
        "print(y_train.shape)\n",
        "\n",
        "model.fit(x_train, y_train, batch_size=64, epochs=5)\n",
        "\n",
        "score = model.evaluate(x_test, y_test)\n",
        "print('\\n', 'Test Acc = ', score[1])"
      ],
      "execution_count": 0,
      "outputs": [
        {
          "output_type": "stream",
          "text": [
            "_________________________________________________________________\n",
            "Layer (type)                 Output Shape              Param #   \n",
            "=================================================================\n",
            "conv2d_1 (Conv2D)            (None, 28, 28, 32)        320       \n",
            "_________________________________________________________________\n",
            "batch_normalization_v1_1 (Ba (None, 28, 28, 32)        128       \n",
            "_________________________________________________________________\n",
            "max_pooling2d_1 (MaxPooling2 (None, 14, 14, 32)        0         \n",
            "_________________________________________________________________\n",
            "flatten_1 (Flatten)          (None, 6272)              0         \n",
            "_________________________________________________________________\n",
            "dense_2 (Dense)              (None, 1024)              6423552   \n",
            "_________________________________________________________________\n",
            "dense_3 (Dense)              (None, 1024)              1049600   \n",
            "_________________________________________________________________\n",
            "dense_4 (Dense)              (None, 10)                10250     \n",
            "=================================================================\n",
            "Total params: 7,483,850\n",
            "Trainable params: 7,483,786\n",
            "Non-trainable params: 64\n",
            "_________________________________________________________________\n",
            "(60000,)\n",
            "Epoch 1/5\n",
            "60000/60000 [==============================] - 15s 253us/sample - loss: 0.1644 - acc: 0.9590\n",
            "Epoch 2/5\n",
            "60000/60000 [==============================] - 15s 248us/sample - loss: 0.0423 - acc: 0.9871\n",
            "Epoch 3/5\n",
            "60000/60000 [==============================] - 15s 247us/sample - loss: 0.0286 - acc: 0.9913\n",
            "Epoch 4/5\n",
            "60000/60000 [==============================] - 15s 246us/sample - loss: 0.0247 - acc: 0.9926\n",
            "Epoch 5/5\n",
            "60000/60000 [==============================] - 15s 245us/sample - loss: 0.0217 - acc: 0.9939\n",
            "10000/10000 [==============================] - 1s 106us/sample - loss: 5.2221 - acc: 0.6754\n",
            "\n",
            " Test Acc =  0.6754\n"
          ],
          "name": "stdout"
        }
      ]
    },
    {
      "metadata": {
        "id": "TaULqEZnFctV",
        "colab_type": "code",
        "outputId": "430a2544-397f-4264-8c91-426e1ac68272",
        "colab": {
          "base_uri": "https://localhost:8080/",
          "height": 598
        }
      },
      "cell_type": "code",
      "source": [
        "model = tf.keras.Sequential()\n",
        "model.add(tf.keras.layers.Conv2D(32, (7, 7), strides=1, activation='relu', padding=\"same\", input_shape=(28, 28,1)))\n",
        "model.add(tf.keras.layers.BatchNormalization())\n",
        "model.add(tf.keras.layers.MaxPool2D(pool_size=(2,2), strides=2))\n",
        "model.add(tf.keras.layers.Flatten())\n",
        "model.add(tf.keras.layers.Dense(1024, activation=\"relu\"))\n",
        "\n",
        "model.add(tf.keras.layers.Dense(10, activation='softmax'))\n",
        "\n",
        "model.compile(optimizer='adam', loss='sparse_categorical_crossentropy', metrics=['accuracy'])\n",
        "model.summary()\n",
        "\n",
        "print(y_train.shape)\n",
        "\n",
        "model.fit(x_train, y_train, batch_size=64, epochs=5)\n",
        "\n",
        "score = model.evaluate(x_test, y_test)\n",
        "print('\\n', 'Test Acc = ', score[1])"
      ],
      "execution_count": 0,
      "outputs": [
        {
          "output_type": "stream",
          "text": [
            "_________________________________________________________________\n",
            "Layer (type)                 Output Shape              Param #   \n",
            "=================================================================\n",
            "conv2d_2 (Conv2D)            (None, 28, 28, 32)        1600      \n",
            "_________________________________________________________________\n",
            "batch_normalization_v1_2 (Ba (None, 28, 28, 32)        128       \n",
            "_________________________________________________________________\n",
            "max_pooling2d_2 (MaxPooling2 (None, 14, 14, 32)        0         \n",
            "_________________________________________________________________\n",
            "flatten_2 (Flatten)          (None, 6272)              0         \n",
            "_________________________________________________________________\n",
            "dense_5 (Dense)              (None, 1024)              6423552   \n",
            "_________________________________________________________________\n",
            "dense_6 (Dense)              (None, 10)                10250     \n",
            "=================================================================\n",
            "Total params: 6,435,530\n",
            "Trainable params: 6,435,466\n",
            "Non-trainable params: 64\n",
            "_________________________________________________________________\n",
            "(60000,)\n",
            "Epoch 1/5\n",
            "60000/60000 [==============================] - 14s 227us/sample - loss: 0.3712 - acc: 0.9518\n",
            "Epoch 2/5\n",
            "60000/60000 [==============================] - 13s 223us/sample - loss: 0.0393 - acc: 0.9880\n",
            "Epoch 3/5\n",
            "60000/60000 [==============================] - 13s 224us/sample - loss: 0.0283 - acc: 0.9912\n",
            "Epoch 4/5\n",
            "60000/60000 [==============================] - 13s 224us/sample - loss: 0.0241 - acc: 0.9928\n",
            "Epoch 5/5\n",
            "60000/60000 [==============================] - 13s 223us/sample - loss: 0.0183 - acc: 0.9944\n",
            "10000/10000 [==============================] - 1s 101us/sample - loss: 0.4274 - acc: 0.9734\n",
            "\n",
            " Test Acc =  0.9734\n"
          ],
          "name": "stdout"
        }
      ]
    },
    {
      "metadata": {
        "id": "pABZf0PEHb0C",
        "colab_type": "code",
        "outputId": "bb6dcaca-05a6-42ef-c65e-3b2a8a834205",
        "colab": {
          "base_uri": "https://localhost:8080/",
          "height": 598
        }
      },
      "cell_type": "code",
      "source": [
        "model = tf.keras.Sequential()\n",
        "model.add(tf.keras.layers.Conv2D(64, (7, 7), strides=1, activation='relu', padding=\"same\", input_shape=(28, 28,1)))\n",
        "model.add(tf.keras.layers.BatchNormalization())\n",
        "model.add(tf.keras.layers.MaxPool2D(pool_size=(2,2), strides=2))\n",
        "model.add(tf.keras.layers.Flatten())\n",
        "model.add(tf.keras.layers.Dense(1024, activation=\"relu\"))\n",
        "\n",
        "model.add(tf.keras.layers.Dense(10, activation='softmax'))\n",
        "\n",
        "model.compile(optimizer='adam', loss='sparse_categorical_crossentropy', metrics=['accuracy'])\n",
        "model.summary()\n",
        "\n",
        "print(y_train.shape)\n",
        "\n",
        "model.fit(x_train, y_train, batch_size=64, epochs=5)\n",
        "\n",
        "score = model.evaluate(x_test, y_test)\n",
        "print('\\n', 'Test Acc = ', score[1])"
      ],
      "execution_count": 0,
      "outputs": [
        {
          "output_type": "stream",
          "text": [
            "_________________________________________________________________\n",
            "Layer (type)                 Output Shape              Param #   \n",
            "=================================================================\n",
            "conv2d_3 (Conv2D)            (None, 28, 28, 64)        3200      \n",
            "_________________________________________________________________\n",
            "batch_normalization_v1_3 (Ba (None, 28, 28, 64)        256       \n",
            "_________________________________________________________________\n",
            "max_pooling2d_3 (MaxPooling2 (None, 14, 14, 64)        0         \n",
            "_________________________________________________________________\n",
            "flatten_3 (Flatten)          (None, 12544)             0         \n",
            "_________________________________________________________________\n",
            "dense_7 (Dense)              (None, 1024)              12846080  \n",
            "_________________________________________________________________\n",
            "dense_8 (Dense)              (None, 10)                10250     \n",
            "=================================================================\n",
            "Total params: 12,859,786\n",
            "Trainable params: 12,859,658\n",
            "Non-trainable params: 128\n",
            "_________________________________________________________________\n",
            "(60000,)\n",
            "Epoch 1/5\n",
            "60000/60000 [==============================] - 23s 386us/sample - loss: 0.2228 - acc: 0.9620\n",
            "Epoch 2/5\n",
            "60000/60000 [==============================] - 23s 384us/sample - loss: 0.0398 - acc: 0.9881\n",
            "Epoch 3/5\n",
            "60000/60000 [==============================] - 23s 379us/sample - loss: 0.0283 - acc: 0.9917\n",
            "Epoch 4/5\n",
            "60000/60000 [==============================] - 23s 383us/sample - loss: 0.0225 - acc: 0.9933\n",
            "Epoch 5/5\n",
            "60000/60000 [==============================] - 23s 376us/sample - loss: 0.0194 - acc: 0.9943\n",
            "10000/10000 [==============================] - 1s 130us/sample - loss: 0.3268 - acc: 0.9797\n",
            "\n",
            " Test Acc =  0.9797\n"
          ],
          "name": "stdout"
        }
      ]
    },
    {
      "metadata": {
        "id": "HqXabk_q8oyB",
        "colab_type": "code",
        "outputId": "087d4d68-1e9c-4821-8fdd-f11d6e62d752",
        "colab": {
          "base_uri": "https://localhost:8080/",
          "height": 633
        }
      },
      "cell_type": "code",
      "source": [
        "model = tf.keras.Sequential()\n",
        "model.add(tf.keras.layers.Conv2D(32, (7, 7), strides=1, activation='relu', padding=\"same\", input_shape=(28, 28,1)))\n",
        "model.add(tf.keras.layers.Conv2D(32, (7, 7), strides=1, activation='relu', padding=\"same\", input_shape=(28, 28,1)))\n",
        "model.add(tf.keras.layers.BatchNormalization())\n",
        "model.add(tf.keras.layers.MaxPool2D(pool_size=(2,2), strides=2))\n",
        "model.add(tf.keras.layers.Flatten())\n",
        "model.add(tf.keras.layers.Dense(1024, activation=\"relu\"))\n",
        "\n",
        "model.add(tf.keras.layers.Dense(10, activation='softmax'))\n",
        "\n",
        "model.compile(optimizer='adam', loss='sparse_categorical_crossentropy', metrics=['accuracy'])\n",
        "model.summary()\n",
        "\n",
        "print(y_train.shape)\n",
        "\n",
        "model.fit(x_train, y_train, batch_size=64, epochs=5)\n",
        "\n",
        "score = model.evaluate(x_test, y_test)\n",
        "print('\\n', 'Test Acc = ', score[1])"
      ],
      "execution_count": 0,
      "outputs": [
        {
          "output_type": "stream",
          "text": [
            "_________________________________________________________________\n",
            "Layer (type)                 Output Shape              Param #   \n",
            "=================================================================\n",
            "conv2d_4 (Conv2D)            (None, 28, 28, 32)        1600      \n",
            "_________________________________________________________________\n",
            "conv2d_5 (Conv2D)            (None, 28, 28, 32)        50208     \n",
            "_________________________________________________________________\n",
            "batch_normalization_v1_4 (Ba (None, 28, 28, 32)        128       \n",
            "_________________________________________________________________\n",
            "max_pooling2d_4 (MaxPooling2 (None, 14, 14, 32)        0         \n",
            "_________________________________________________________________\n",
            "flatten_4 (Flatten)          (None, 6272)              0         \n",
            "_________________________________________________________________\n",
            "dense_9 (Dense)              (None, 1024)              6423552   \n",
            "_________________________________________________________________\n",
            "dense_10 (Dense)             (None, 10)                10250     \n",
            "=================================================================\n",
            "Total params: 6,485,738\n",
            "Trainable params: 6,485,674\n",
            "Non-trainable params: 64\n",
            "_________________________________________________________________\n",
            "(60000,)\n",
            "Epoch 1/5\n",
            "60000/60000 [==============================] - 23s 391us/sample - loss: 0.1187 - acc: 0.9668\n",
            "Epoch 2/5\n",
            "60000/60000 [==============================] - 23s 386us/sample - loss: 0.0439 - acc: 0.9865\n",
            "Epoch 3/5\n",
            "60000/60000 [==============================] - 23s 387us/sample - loss: 0.0329 - acc: 0.9900\n",
            "Epoch 4/5\n",
            "60000/60000 [==============================] - 23s 387us/sample - loss: 0.0292 - acc: 0.9911\n",
            "Epoch 5/5\n",
            "60000/60000 [==============================] - 23s 390us/sample - loss: 0.0232 - acc: 0.9931\n",
            "10000/10000 [==============================] - 2s 168us/sample - loss: 0.2339 - acc: 0.9854\n",
            "\n",
            " Test Acc =  0.9854\n"
          ],
          "name": "stdout"
        }
      ]
    },
    {
      "metadata": {
        "id": "sXnWsA6U8t5u",
        "colab_type": "code",
        "outputId": "84ee29d2-024d-48db-af5b-4191498a210a",
        "colab": {
          "base_uri": "https://localhost:8080/",
          "height": 633
        }
      },
      "cell_type": "code",
      "source": [
        "model = tf.keras.Sequential()\n",
        "model.add(tf.keras.layers.Conv2D(32, (7, 7), strides=1, activation='relu', padding=\"same\", input_shape=(28, 28,1)))\n",
        "model.add(tf.keras.layers.BatchNormalization())\n",
        "model.add(tf.keras.layers.Conv2D(32, (7, 7), strides=1, activation='relu', padding=\"same\", input_shape=(28, 28,1)))\n",
        "model.add(tf.keras.layers.MaxPool2D(pool_size=(2,2), strides=2))\n",
        "model.add(tf.keras.layers.Flatten())\n",
        "model.add(tf.keras.layers.Dense(1024, activation=\"relu\"))\n",
        "\n",
        "model.add(tf.keras.layers.Dense(10, activation='softmax'))\n",
        "\n",
        "model.compile(optimizer='adam', loss='sparse_categorical_crossentropy', metrics=['accuracy'])\n",
        "model.summary()\n",
        "\n",
        "print(y_train.shape)\n",
        "\n",
        "model.fit(x_train, y_train, batch_size=64, epochs=5)\n",
        "\n",
        "score = model.evaluate(x_test, y_test)\n",
        "print('\\n', 'Test Acc = ', score[1])"
      ],
      "execution_count": 0,
      "outputs": [
        {
          "output_type": "stream",
          "text": [
            "_________________________________________________________________\n",
            "Layer (type)                 Output Shape              Param #   \n",
            "=================================================================\n",
            "conv2d_6 (Conv2D)            (None, 28, 28, 32)        1600      \n",
            "_________________________________________________________________\n",
            "batch_normalization_v1_5 (Ba (None, 28, 28, 32)        128       \n",
            "_________________________________________________________________\n",
            "conv2d_7 (Conv2D)            (None, 28, 28, 32)        50208     \n",
            "_________________________________________________________________\n",
            "max_pooling2d_5 (MaxPooling2 (None, 14, 14, 32)        0         \n",
            "_________________________________________________________________\n",
            "flatten_5 (Flatten)          (None, 6272)              0         \n",
            "_________________________________________________________________\n",
            "dense_11 (Dense)             (None, 1024)              6423552   \n",
            "_________________________________________________________________\n",
            "dense_12 (Dense)             (None, 10)                10250     \n",
            "=================================================================\n",
            "Total params: 6,485,738\n",
            "Trainable params: 6,485,674\n",
            "Non-trainable params: 64\n",
            "_________________________________________________________________\n",
            "(60000,)\n",
            "Epoch 1/5\n",
            "60000/60000 [==============================] - 23s 382us/sample - loss: 1.6592 - acc: 0.8710\n",
            "Epoch 2/5\n",
            "60000/60000 [==============================] - 22s 374us/sample - loss: 0.0408 - acc: 0.9877\n",
            "Epoch 3/5\n",
            "60000/60000 [==============================] - 23s 376us/sample - loss: 0.0301 - acc: 0.9906\n",
            "Epoch 4/5\n",
            "60000/60000 [==============================] - 23s 376us/sample - loss: 0.0227 - acc: 0.9935\n",
            "Epoch 5/5\n",
            "60000/60000 [==============================] - 22s 373us/sample - loss: 0.0230 - acc: 0.9931\n",
            "10000/10000 [==============================] - 2s 168us/sample - loss: 0.3444 - acc: 0.9784\n",
            "\n",
            " Test Acc =  0.9784\n"
          ],
          "name": "stdout"
        }
      ]
    },
    {
      "metadata": {
        "id": "70PvcduT8ztS",
        "colab_type": "code",
        "outputId": "a72c5af8-9d19-47d1-c288-fff75d5679d2",
        "colab": {
          "base_uri": "https://localhost:8080/",
          "height": 633
        }
      },
      "cell_type": "code",
      "source": [
        "model = tf.keras.Sequential()\n",
        "model.add(tf.keras.layers.Conv2D(64, (7, 7), strides=1, activation='relu', padding=\"same\", input_shape=(28, 28,1)))\n",
        "model.add(tf.keras.layers.Conv2D(32, (7, 7), strides=1, activation='relu', padding=\"same\", input_shape=(28, 28,1)))\n",
        "model.add(tf.keras.layers.BatchNormalization())\n",
        "model.add(tf.keras.layers.MaxPool2D(pool_size=(2,2), strides=2))\n",
        "model.add(tf.keras.layers.Flatten())\n",
        "model.add(tf.keras.layers.Dense(1024, activation=\"relu\"))\n",
        "\n",
        "model.add(tf.keras.layers.Dense(10, activation='softmax'))\n",
        "\n",
        "model.compile(optimizer='adam', loss='sparse_categorical_crossentropy', metrics=['accuracy'])\n",
        "model.summary()\n",
        "\n",
        "print(y_train.shape)\n",
        "\n",
        "model.fit(x_train, y_train, batch_size=64, epochs=5)\n",
        "\n",
        "score = model.evaluate(x_test, y_test)\n",
        "print('\\n', 'Test Acc = ', score[1])"
      ],
      "execution_count": 0,
      "outputs": [
        {
          "output_type": "stream",
          "text": [
            "_________________________________________________________________\n",
            "Layer (type)                 Output Shape              Param #   \n",
            "=================================================================\n",
            "conv2d_8 (Conv2D)            (None, 28, 28, 64)        3200      \n",
            "_________________________________________________________________\n",
            "conv2d_9 (Conv2D)            (None, 28, 28, 32)        100384    \n",
            "_________________________________________________________________\n",
            "batch_normalization_v1_6 (Ba (None, 28, 28, 32)        128       \n",
            "_________________________________________________________________\n",
            "max_pooling2d_6 (MaxPooling2 (None, 14, 14, 32)        0         \n",
            "_________________________________________________________________\n",
            "flatten_6 (Flatten)          (None, 6272)              0         \n",
            "_________________________________________________________________\n",
            "dense_13 (Dense)             (None, 1024)              6423552   \n",
            "_________________________________________________________________\n",
            "dense_14 (Dense)             (None, 10)                10250     \n",
            "=================================================================\n",
            "Total params: 6,537,514\n",
            "Trainable params: 6,537,450\n",
            "Non-trainable params: 64\n",
            "_________________________________________________________________\n",
            "(60000,)\n",
            "Epoch 1/5\n",
            "60000/60000 [==============================] - 30s 494us/sample - loss: 0.1258 - acc: 0.9660\n",
            "Epoch 2/5\n",
            "60000/60000 [==============================] - 30s 492us/sample - loss: 0.0468 - acc: 0.9867\n",
            "Epoch 3/5\n",
            "60000/60000 [==============================] - 29s 489us/sample - loss: 0.0311 - acc: 0.9906\n",
            "Epoch 4/5\n",
            "60000/60000 [==============================] - 30s 495us/sample - loss: 0.0245 - acc: 0.9928\n",
            "Epoch 5/5\n",
            "60000/60000 [==============================] - 29s 489us/sample - loss: 0.0270 - acc: 0.9924\n",
            "10000/10000 [==============================] - 2s 217us/sample - loss: 0.2831 - acc: 0.9823\n",
            "\n",
            " Test Acc =  0.9823\n"
          ],
          "name": "stdout"
        }
      ]
    },
    {
      "metadata": {
        "id": "4PZLzD6199qP",
        "colab_type": "code",
        "colab": {}
      },
      "cell_type": "code",
      "source": [
        ""
      ],
      "execution_count": 0,
      "outputs": []
    },
    {
      "metadata": {
        "id": "OsTzGSnsBkOx",
        "colab_type": "text"
      },
      "cell_type": "markdown",
      "source": [
        "[Link](https://www.kaggle.com/raoulma/mnist-image-class-tensorflow-cnn-99-51-test-acc)\n",
        "\n",
        "1. input layer: [.,784]\n",
        "2. layer: Conv1 -> ReLu -> MaxPool: [.,14,14,36]\n",
        "3. layer: Conv2 -> ReLu -> MaxPool: [.,7,7,36]\n",
        "4. layer: Conv3 -> ReLu -> MaxPool: [.,4,4,36]\n",
        "5. layer: FC -> ReLu: [.,576]\n",
        "6. output layer: FC -> ReLu: [.,10]"
      ]
    },
    {
      "metadata": {
        "id": "yBegAMUfBlUC",
        "colab_type": "code",
        "outputId": "1a788f72-4104-4c96-b848-c83a1f53959b",
        "colab": {
          "base_uri": "https://localhost:8080/",
          "height": 2113
        }
      },
      "cell_type": "code",
      "source": [
        "model = tf.keras.Sequential()\n",
        "model.add(tf.keras.layers.Conv2D(36, (7, 7), strides=1, activation='relu', padding=\"same\", input_shape=(28, 28,1)))\n",
        "model.add(tf.keras.layers.MaxPool2D(pool_size=(2,2), strides=2))\n",
        "model.add(tf.keras.layers.Conv2D(36, (7, 7), strides=1, activation='relu', padding=\"same\"))\n",
        "model.add(tf.keras.layers.MaxPool2D(pool_size=(2,2), strides=2))\n",
        "model.add(tf.keras.layers.Conv2D(36, (7, 7), strides=1, activation='relu', padding=\"same\"))\n",
        "model.add(tf.keras.layers.BatchNormalization())\n",
        "model.add(tf.keras.layers.MaxPool2D(pool_size=(2,2), strides=2))\n",
        "# model.add(tf.keras.layers.MaxPool2D(pool_size=(2,2), strides=2))\n",
        "model.add(tf.keras.layers.Flatten())\n",
        "model.add(tf.keras.layers.Dense(1024, activation=\"relu\"))\n",
        "\n",
        "model.add(tf.keras.layers.Dense(10, activation='softmax'))\n",
        "\n",
        "model.compile(optimizer='adam', loss='sparse_categorical_crossentropy', metrics=['accuracy'])\n",
        "model.summary()\n",
        "\n",
        "print(y_train.shape)\n",
        "\n",
        "num_epochs = 5\n",
        "infoFit = model.fit(x_train, y_train, batch_size=64, epochs=num_epochs)\n",
        "\n",
        "score = model.evaluate(x_test, y_test)\n",
        "pred = model.predict(x_test)\n",
        "# print('\\n', 'Test Acc = ', score[1])\n",
        "print(score)\n",
        "print('\\n',\" Predictions: \", pred.shape)\n",
        "\n",
        "print(infoFit.history['loss'])\n",
        "plt.plot(np.arange(1,num_epochs+1), infoFit.history['loss'])\n",
        "plt.xlabel(\"Epochs\")\n",
        "plt.ylabel(\"Loss\")\n",
        "\n",
        "plt.savefig(\"loss_MNIST.png\")\n",
        "\n",
        "plt.figure()\n",
        "\n",
        "plt.plot(np.arange(1,num_epochs+1), infoFit.history['acc'])\n",
        "plt.xlabel(\"Epochs\")\n",
        "plt.ylabel(\"Accuracy\")\n",
        "\n",
        "plt.savefig(\"acc_MNIST.png\")\n",
        "\n",
        "totalTest = 10000.0\n",
        "correctClassify = 0\n",
        "\n",
        "result = pred\n",
        "\n",
        "result\n",
        "\n",
        "o = np.zeros(10000)\n",
        "\n",
        "\n",
        "for i in range(10000):\n",
        "  o[i] = np.argmax(pred[i])\n",
        "\n",
        "from sklearn.metrics import classification_report, confusion_matrix\n",
        "matrix = confusion_matrix(y_test, o)\n",
        "cr = classification_report(y_test, o)\n",
        "# print(matrix)\n",
        "print(cr)\n",
        "\n",
        "num = 1\n",
        "for row in matrix:\n",
        "  print(\"Class \",num, \" & \")\n",
        "  num+=1\n",
        "  nx = 0\n",
        "  for e in row:\n",
        "    nx += 1\n",
        "    if nx <95:\n",
        "      print(e, end=\" & \")\n",
        "    else:\n",
        "      print(e,end=\" \")\n",
        "  print(end=\"\\\\\\\\ \\\\hline \\n\")"
      ],
      "execution_count": 0,
      "outputs": [
        {
          "output_type": "stream",
          "text": [
            "_________________________________________________________________\n",
            "Layer (type)                 Output Shape              Param #   \n",
            "=================================================================\n",
            "conv2d_30 (Conv2D)           (None, 28, 28, 36)        1800      \n",
            "_________________________________________________________________\n",
            "max_pooling2d_30 (MaxPooling (None, 14, 14, 36)        0         \n",
            "_________________________________________________________________\n",
            "conv2d_31 (Conv2D)           (None, 14, 14, 36)        63540     \n",
            "_________________________________________________________________\n",
            "max_pooling2d_31 (MaxPooling (None, 7, 7, 36)          0         \n",
            "_________________________________________________________________\n",
            "conv2d_32 (Conv2D)           (None, 7, 7, 36)          63540     \n",
            "_________________________________________________________________\n",
            "batch_normalization_v1_4 (Ba (None, 7, 7, 36)          144       \n",
            "_________________________________________________________________\n",
            "max_pooling2d_32 (MaxPooling (None, 3, 3, 36)          0         \n",
            "_________________________________________________________________\n",
            "flatten_10 (Flatten)         (None, 324)               0         \n",
            "_________________________________________________________________\n",
            "dense_20 (Dense)             (None, 1024)              332800    \n",
            "_________________________________________________________________\n",
            "dense_21 (Dense)             (None, 10)                10250     \n",
            "=================================================================\n",
            "Total params: 472,074\n",
            "Trainable params: 472,002\n",
            "Non-trainable params: 72\n",
            "_________________________________________________________________\n",
            "(60000,)\n",
            "Epoch 1/5\n",
            "60000/60000 [==============================] - 11s 182us/sample - loss: 0.1124 - acc: 0.9648\n",
            "Epoch 2/5\n",
            "60000/60000 [==============================] - 10s 172us/sample - loss: 0.0419 - acc: 0.9870\n",
            "Epoch 3/5\n",
            "60000/60000 [==============================] - 10s 172us/sample - loss: 0.0285 - acc: 0.9912\n",
            "Epoch 4/5\n",
            "60000/60000 [==============================] - 10s 173us/sample - loss: 0.0256 - acc: 0.9921\n",
            "Epoch 5/5\n",
            "60000/60000 [==============================] - 10s 172us/sample - loss: 0.0213 - acc: 0.9934\n",
            "10000/10000 [==============================] - 1s 137us/sample - loss: 0.2177 - acc: 0.9864\n",
            "[0.21765797983732627, 0.9864]\n",
            "\n",
            "  Predictions:  (10000, 10)\n",
            "[0.11238240324457487, 0.04194160106400959, 0.028461379355114575, 0.025555594983072177, 0.0212680118645066]\n",
            "              precision    recall  f1-score   support\n",
            "\n",
            "           0       1.00      0.99      0.99       980\n",
            "           1       1.00      0.98      0.99      1135\n",
            "           2       0.95      1.00      0.98      1032\n",
            "           3       0.99      0.99      0.99      1010\n",
            "           4       0.99      0.99      0.99       982\n",
            "           5       0.99      0.98      0.99       892\n",
            "           6       1.00      0.98      0.99       958\n",
            "           7       0.99      0.98      0.98      1028\n",
            "           8       0.99      0.98      0.98       974\n",
            "           9       0.98      0.99      0.98      1009\n",
            "\n",
            "   micro avg       0.99      0.99      0.99     10000\n",
            "   macro avg       0.99      0.99      0.99     10000\n",
            "weighted avg       0.99      0.99      0.99     10000\n",
            "\n",
            "Class  1  & \n",
            "966 & 0 & 6 & 0 & 1 & 0 & 3 & 1 & 2 & 1 & \\\\ \\hline \n",
            "Class  2  & \n",
            "0 & 1114 & 10 & 1 & 1 & 0 & 0 & 4 & 4 & 1 & \\\\ \\hline \n",
            "Class  3  & \n",
            "0 & 0 & 1031 & 0 & 0 & 0 & 0 & 1 & 0 & 0 & \\\\ \\hline \n",
            "Class  4  & \n",
            "0 & 0 & 4 & 1004 & 0 & 1 & 0 & 0 & 0 & 1 & \\\\ \\hline \n",
            "Class  5  & \n",
            "0 & 0 & 0 & 0 & 973 & 0 & 0 & 0 & 0 & 9 & \\\\ \\hline \n",
            "Class  6  & \n",
            "0 & 0 & 0 & 9 & 0 & 878 & 1 & 0 & 2 & 2 & \\\\ \\hline \n",
            "Class  7  & \n",
            "3 & 2 & 2 & 0 & 3 & 3 & 941 & 0 & 3 & 1 & \\\\ \\hline \n",
            "Class  8  & \n",
            "0 & 1 & 18 & 2 & 0 & 0 & 0 & 1004 & 0 & 3 & \\\\ \\hline \n",
            "Class  9  & \n",
            "0 & 0 & 9 & 1 & 2 & 0 & 0 & 2 & 955 & 5 & \\\\ \\hline \n",
            "Class  10  & \n",
            "0 & 0 & 2 & 0 & 6 & 1 & 0 & 2 & 0 & 998 & \\\\ \\hline \n"
          ],
          "name": "stdout"
        },
        {
          "output_type": "display_data",
          "data": {
            "image/png": "[encoded data removed]",
            "text/plain": [
              "<Figure size 576x396 with 1 Axes>"
            ]
          },
          "metadata": {
            "tags": []
          }
        },
        {
          "output_type": "display_data",
          "data": {
            "image/png": "[encoded data removed]",
            "text/plain": [
              "<Figure size 576x396 with 1 Axes>"
            ]
          },
          "metadata": {
            "tags": []
          }
        }
      ]
    },
    {
      "metadata": {
        "id": "6JQDX7DExBA0",
        "colab_type": "code",
        "colab": {}
      },
      "cell_type": "code",
      "source": [
        "model2 = tf.keras.Sequential()\n",
        "model2.add(tf.keras.layers.Conv2D(36, (7, 7), strides=1, activation='relu', padding=\"same\", input_shape=(28, 28,1)))\n",
        "model2.add(tf.keras.layers.MaxPool2D(pool_size=(2,2), strides=2))\n",
        "model2.add(tf.keras.layers.Conv2D(36, (7, 7), strides=1, activation='relu', padding=\"same\", input_shape=(28, 28,1)))\n",
        "model2.add(tf.keras.layers.MaxPool2D(pool_size=(2,2), strides=2))\n",
        "model2.add(tf.keras.layers.Conv2D(36, (7, 7), strides=1, activation='relu', padding=\"same\", input_shape=(28, 28,1)))\n",
        "model2.add(tf.keras.layers.MaxPool2D(pool_size=(2,2), strides=2))\n",
        "model2.add(tf.keras.layers.Flatten())\n",
        "model2.add(tf.keras.layers.Dense(1024, activation=\"relu\"))\n",
        "\n",
        "model2.add(tf.keras.layers.Dense(10, activation='softmax'))\n",
        "\n",
        "model2.compile(optimizer='adam', loss='sparse_categorical_crossentropy', metrics=['accuracy'])\n",
        "model2.summary()\n",
        "\n",
        "print(y_train.shape)\n",
        "\n",
        "some = model2.fit(x_train, y_train, batch_size=64, epochs=10)\n",
        "\n",
        "score = model2.evaluate(x_test, y_test)\n",
        "pred = model2.predict(x_test)\n",
        "# print('\\n', 'Test Acc = ', score[1])\n",
        "print(score)\n",
        "# print('\\n',\" Predictions: \", pred)\n",
        "print(some)"
      ],
      "execution_count": 0,
      "outputs": []
    },
    {
      "metadata": {
        "id": "BuotUVEXiXB-",
        "colab_type": "code",
        "colab": {}
      },
      "cell_type": "code",
      "source": [
        "print(some.history.keys())"
      ],
      "execution_count": 0,
      "outputs": []
    },
    {
      "metadata": {
        "id": "fZsGMjYtO-zG",
        "colab_type": "code",
        "colab": {}
      },
      "cell_type": "code",
      "source": [
        "from sklearn.metrics import classification_report, confusion_matrix\n",
        "matrix = confusion_matrix(y_test, pred.argmax(axis=1))\n",
        "cr = classification_report(y_test, pred.argmax(axis=1))\n",
        "print(matrix)\n",
        "print(cr)\n",
        "\n",
        "for row in matrix:\n",
        "  for e in row:\n",
        "    print(e, end=\" & \")\n",
        "  print(end=\"\\n\")"
      ],
      "execution_count": 0,
      "outputs": []
    },
    {
      "metadata": {
        "id": "AHH9LsfrR0O5",
        "colab_type": "code",
        "colab": {}
      },
      "cell_type": "code",
      "source": [
        ""
      ],
      "execution_count": 0,
      "outputs": []
    }
  ]
}