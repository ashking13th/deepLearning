{
 "cells": [
  {
   "cell_type": "code",
   "execution_count": 8,
   "metadata": {},
   "outputs": [
    {
     "name": "stdout",
     "output_type": "stream",
     "text": [
      "<class 'numpy.ndarray'>\n",
      "(36000,)\n",
      "(10000, 28, 28, 1)\n",
      "(10000,)\n"
     ]
    }
   ],
   "source": [
    "import tensorflow as tf\n",
    "import numpy as np\n",
    "\n",
    "(x_train, y_train), (x_test, y_test) = tf.keras.datasets.mnist.load_data()\n",
    "print(type(x_train))\n",
    "x_train = x_train.astype('float32')\n",
    "x_train /= 255\n",
    "x_train = x_train.reshape(x_train.shape[0], 28, 28, 1)\n",
    "x_test = x_test.reshape(x_test.shape[0], 28, 28, 1)\n",
    "# y_train = y_train.reshape(y_train.shape[0],1)\n",
    "\n",
    "splitSz = x_train.shape[0]\n",
    "splitSz = int(0.6*splitSz)\n",
    "\n",
    "# print(y_train.shape)\n",
    "x_train, x_t = x_train[:splitSz,:], x_train[splitSz:,:]\n",
    "y_train, y_t = y_train[:splitSz], y_train[splitSz:]\n",
    "\n",
    "print(y_train.shape)\n",
    "print(x_test.shape)\n",
    "print(y_test.shape)\n"
   ]
  },
  {
   "cell_type": "code",
   "execution_count": 2,
   "metadata": {},
   "outputs": [
    {
     "name": "stdout",
     "output_type": "stream",
     "text": [
      "WARNING:tensorflow:From c:\\python37\\lib\\site-packages\\tensorflow\\python\\ops\\resource_variable_ops.py:435: colocate_with (from tensorflow.python.framework.ops) is deprecated and will be removed in a future version.\n",
      "Instructions for updating:\n",
      "Colocations handled automatically by placer.\n",
      "_________________________________________________________________\n",
      "Layer (type)                 Output Shape              Param #   \n",
      "=================================================================\n",
      "conv2d (Conv2D)              (None, 22, 22, 32)        1600      \n",
      "_________________________________________________________________\n",
      "batch_normalization_v1 (Batc (None, 22, 22, 32)        128       \n",
      "_________________________________________________________________\n",
      "max_pooling2d (MaxPooling2D) (None, 11, 11, 32)        0         \n",
      "_________________________________________________________________\n",
      "flatten (Flatten)            (None, 3872)              0         \n",
      "_________________________________________________________________\n",
      "dense (Dense)                (None, 1024)              3965952   \n",
      "_________________________________________________________________\n",
      "dense_1 (Dense)              (None, 10)                10250     \n",
      "=================================================================\n",
      "Total params: 3,977,930\n",
      "Trainable params: 3,977,866\n",
      "Non-trainable params: 64\n",
      "_________________________________________________________________\n"
     ]
    }
   ],
   "source": [
    "# using sequential api from tensorflow keras\n",
    "model = tf.keras.Sequential()\n",
    "\n",
    "# Firstly apply 7x7 conv layer on input image and relu activation\n",
    "model.add(tf.keras.layers.Conv2D(filters=32, kernel_size=(7,7), strides=1, activation='relu', input_shape=(28,28,1)))\n",
    "\n",
    "#Here the last axis kept same i.e. of channels\n",
    "# Batch Normalization\n",
    "model.add(tf.keras.layers.BatchNormalization())\n",
    "\n",
    "# 2x2 MaxPooling\n",
    "model.add(tf.keras.layers.MaxPooling2D(pool_size=(2,2), strides=2))\n",
    "\n",
    "# FC layer with 1024 units\n",
    "model.add(tf.keras.layers.Flatten())\n",
    "model.add(tf.keras.layers.Dense(1024, activation='relu'))\n",
    "\n",
    "# output layer with 10 units\n",
    "model.add(tf.keras.layers.Dense(10, activation='softmax'))\n",
    "\n",
    "model.summary()"
   ]
  },
  {
   "cell_type": "code",
   "execution_count": 3,
   "metadata": {},
   "outputs": [
    {
     "name": "stdout",
     "output_type": "stream",
     "text": [
      "(36000,)\n",
      "Epoch 1/10\n",
      "36000/36000 [==============================] - 109s 3ms/sample - loss: 0.2938 - acc: 0.9516\n",
      "Epoch 2/10\n",
      "36000/36000 [==============================] - 114s 3ms/sample - loss: 0.0421 - acc: 0.9866\n",
      "Epoch 3/10\n",
      "36000/36000 [==============================] - 116s 3ms/sample - loss: 0.0229 - acc: 0.9928\n",
      "Epoch 4/10\n",
      "36000/36000 [==============================] - 114s 3ms/sample - loss: 0.0209 - acc: 0.9930\n",
      "Epoch 5/10\n",
      "36000/36000 [==============================] - 113s 3ms/sample - loss: 0.0210 - acc: 0.9942\n",
      "Epoch 6/10\n",
      "36000/36000 [==============================] - 146s 4ms/sample - loss: 0.0214 - acc: 0.9940\n",
      "Epoch 7/10\n",
      "36000/36000 [==============================] - 188s 5ms/sample - loss: 0.0143 - acc: 0.9958\n",
      "Epoch 8/10\n",
      "36000/36000 [==============================] - 211s 6ms/sample - loss: 0.0213 - acc: 0.9942\n",
      "Epoch 9/10\n",
      "36000/36000 [==============================] - 218s 6ms/sample - loss: 0.0105 - acc: 0.9973\n",
      "Epoch 10/10\n",
      "36000/36000 [==============================] - 216s 6ms/sample - loss: 0.0128 - acc: 0.9970\n",
      "24000/24000 [==============================] - 26s 1ms/sample - loss: 0.1254 - acc: 0.9822\n",
      "\n",
      " Test Acc =  0.98225\n"
     ]
    }
   ],
   "source": [
    "# specifying the loss and optimizer\n",
    "model.compile(loss='sparse_categorical_crossentropy', optimizer='adam', metrics=['accuracy'])\n",
    "\n",
    "print(y_train.shape)\n",
    "\n",
    "model.fit(x_train, y_train, batch_size=64, epochs=10)\n",
    "\n",
    "score = model.evaluate(x_test, y_test)\n",
    "print('\\n', 'Test Acc = ', score[1])"
   ]
  },
  {
   "cell_type": "code",
   "execution_count": 9,
   "metadata": {},
   "outputs": [
    {
     "name": "stdout",
     "output_type": "stream",
     "text": [
      "10000/10000 [==============================] - 5s 476us/sample - loss: 0.3266 - acc: 0.9797\n",
      "\n",
      " Test Acc =  0.9797\n"
     ]
    }
   ],
   "source": [
    "score = model.evaluate(x_test, y_test)\n",
    "print('\\n', 'Test Acc = ', score[1])"
   ]
  },
  {
   "cell_type": "code",
   "execution_count": null,
   "metadata": {},
   "outputs": [],
   "source": []
  }
 ],
 "metadata": {
  "kernelspec": {
   "display_name": "Python 3",
   "language": "python",
   "name": "python3"
  },
  "language_info": {
   "codemirror_mode": {
    "name": "ipython",
    "version": 3
   },
   "file_extension": ".py",
   "mimetype": "text/x-python",
   "name": "python",
   "nbconvert_exporter": "python",
   "pygments_lexer": "ipython3",
   "version": "3.7.1rc1"
  }
 },
 "nbformat": 4,
 "nbformat_minor": 2
}
